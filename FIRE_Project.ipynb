{
  "nbformat": 4,
  "nbformat_minor": 0,
  "metadata": {
    "kernelspec": {
      "display_name": "Python 3",
      "language": "python",
      "name": "python3"
    },
    "language_info": {
      "codemirror_mode": {
        "name": "ipython",
        "version": 3
      },
      "file_extension": ".py",
      "mimetype": "text/x-python",
      "name": "python",
      "nbconvert_exporter": "python",
      "pygments_lexer": "ipython3",
      "version": "3.8.5"
    },
    "colab": {
      "name": "FIRE Project.ipynb",
      "provenance": [],
      "collapsed_sections": [
        "HwcN9tblVAaR",
        "DiyHyP5UbzzD",
        "AgVC6acOdOv-",
        "ZaoEf4SHbuR0",
        "QSbkzKJYBI63",
        "OsPz8xCZpJ3r",
        "p4i__zoBAZpG",
        "b5fOyWAAWlOz"
      ],
      "include_colab_link": true
    },
    "widgets": {
      "application/vnd.jupyter.widget-state+json": {
        "6e0214c3a75747979211afc0a799b3b8": {
          "model_module": "@jupyter-widgets/controls",
          "model_name": "HBoxModel",
          "state": {
            "_view_name": "HBoxView",
            "_dom_classes": [],
            "_model_name": "HBoxModel",
            "_view_module": "@jupyter-widgets/controls",
            "_model_module_version": "1.5.0",
            "_view_count": null,
            "_view_module_version": "1.5.0",
            "box_style": "",
            "layout": "IPY_MODEL_6c1ee43a50ee40c5b8d244d835f36e28",
            "_model_module": "@jupyter-widgets/controls",
            "children": [
              "IPY_MODEL_01152a6a6c0f45039fc6d206907688b6",
              "IPY_MODEL_537389912a924408b41303f99617607c"
            ]
          }
        },
        "6c1ee43a50ee40c5b8d244d835f36e28": {
          "model_module": "@jupyter-widgets/base",
          "model_name": "LayoutModel",
          "state": {
            "_view_name": "LayoutView",
            "grid_template_rows": null,
            "right": null,
            "justify_content": null,
            "_view_module": "@jupyter-widgets/base",
            "overflow": null,
            "_model_module_version": "1.2.0",
            "_view_count": null,
            "flex_flow": null,
            "width": null,
            "min_width": null,
            "border": null,
            "align_items": null,
            "bottom": null,
            "_model_module": "@jupyter-widgets/base",
            "top": null,
            "grid_column": null,
            "overflow_y": null,
            "overflow_x": null,
            "grid_auto_flow": null,
            "grid_area": null,
            "grid_template_columns": null,
            "flex": null,
            "_model_name": "LayoutModel",
            "justify_items": null,
            "grid_row": null,
            "max_height": null,
            "align_content": null,
            "visibility": null,
            "align_self": null,
            "height": null,
            "min_height": null,
            "padding": null,
            "grid_auto_rows": null,
            "grid_gap": null,
            "max_width": null,
            "order": null,
            "_view_module_version": "1.2.0",
            "grid_template_areas": null,
            "object_position": null,
            "object_fit": null,
            "grid_auto_columns": null,
            "margin": null,
            "display": null,
            "left": null
          }
        },
        "01152a6a6c0f45039fc6d206907688b6": {
          "model_module": "@jupyter-widgets/controls",
          "model_name": "FloatProgressModel",
          "state": {
            "_view_name": "ProgressView",
            "style": "IPY_MODEL_5a2cf76eb7c74b1eaced2a8b9ad5bff1",
            "_dom_classes": [],
            "description": "Downloading: 100%",
            "_model_name": "FloatProgressModel",
            "bar_style": "success",
            "max": 871891,
            "_view_module": "@jupyter-widgets/controls",
            "_model_module_version": "1.5.0",
            "value": 871891,
            "_view_count": null,
            "_view_module_version": "1.5.0",
            "orientation": "horizontal",
            "min": 0,
            "description_tooltip": null,
            "_model_module": "@jupyter-widgets/controls",
            "layout": "IPY_MODEL_6e32c6b56d7845afbfd8bbfbc3af7578"
          }
        },
        "537389912a924408b41303f99617607c": {
          "model_module": "@jupyter-widgets/controls",
          "model_name": "HTMLModel",
          "state": {
            "_view_name": "HTMLView",
            "style": "IPY_MODEL_9bcb0f2757d444ecb28058f58aacb711",
            "_dom_classes": [],
            "description": "",
            "_model_name": "HTMLModel",
            "placeholder": "​",
            "_view_module": "@jupyter-widgets/controls",
            "_model_module_version": "1.5.0",
            "value": " 872k/872k [00:02&lt;00:00, 304kB/s]",
            "_view_count": null,
            "_view_module_version": "1.5.0",
            "description_tooltip": null,
            "_model_module": "@jupyter-widgets/controls",
            "layout": "IPY_MODEL_227066307b6847028e15db06fb9e2037"
          }
        },
        "5a2cf76eb7c74b1eaced2a8b9ad5bff1": {
          "model_module": "@jupyter-widgets/controls",
          "model_name": "ProgressStyleModel",
          "state": {
            "_view_name": "StyleView",
            "_model_name": "ProgressStyleModel",
            "description_width": "initial",
            "_view_module": "@jupyter-widgets/base",
            "_model_module_version": "1.5.0",
            "_view_count": null,
            "_view_module_version": "1.2.0",
            "bar_color": null,
            "_model_module": "@jupyter-widgets/controls"
          }
        },
        "6e32c6b56d7845afbfd8bbfbc3af7578": {
          "model_module": "@jupyter-widgets/base",
          "model_name": "LayoutModel",
          "state": {
            "_view_name": "LayoutView",
            "grid_template_rows": null,
            "right": null,
            "justify_content": null,
            "_view_module": "@jupyter-widgets/base",
            "overflow": null,
            "_model_module_version": "1.2.0",
            "_view_count": null,
            "flex_flow": null,
            "width": null,
            "min_width": null,
            "border": null,
            "align_items": null,
            "bottom": null,
            "_model_module": "@jupyter-widgets/base",
            "top": null,
            "grid_column": null,
            "overflow_y": null,
            "overflow_x": null,
            "grid_auto_flow": null,
            "grid_area": null,
            "grid_template_columns": null,
            "flex": null,
            "_model_name": "LayoutModel",
            "justify_items": null,
            "grid_row": null,
            "max_height": null,
            "align_content": null,
            "visibility": null,
            "align_self": null,
            "height": null,
            "min_height": null,
            "padding": null,
            "grid_auto_rows": null,
            "grid_gap": null,
            "max_width": null,
            "order": null,
            "_view_module_version": "1.2.0",
            "grid_template_areas": null,
            "object_position": null,
            "object_fit": null,
            "grid_auto_columns": null,
            "margin": null,
            "display": null,
            "left": null
          }
        },
        "9bcb0f2757d444ecb28058f58aacb711": {
          "model_module": "@jupyter-widgets/controls",
          "model_name": "DescriptionStyleModel",
          "state": {
            "_view_name": "StyleView",
            "_model_name": "DescriptionStyleModel",
            "description_width": "",
            "_view_module": "@jupyter-widgets/base",
            "_model_module_version": "1.5.0",
            "_view_count": null,
            "_view_module_version": "1.2.0",
            "_model_module": "@jupyter-widgets/controls"
          }
        },
        "227066307b6847028e15db06fb9e2037": {
          "model_module": "@jupyter-widgets/base",
          "model_name": "LayoutModel",
          "state": {
            "_view_name": "LayoutView",
            "grid_template_rows": null,
            "right": null,
            "justify_content": null,
            "_view_module": "@jupyter-widgets/base",
            "overflow": null,
            "_model_module_version": "1.2.0",
            "_view_count": null,
            "flex_flow": null,
            "width": null,
            "min_width": null,
            "border": null,
            "align_items": null,
            "bottom": null,
            "_model_module": "@jupyter-widgets/base",
            "top": null,
            "grid_column": null,
            "overflow_y": null,
            "overflow_x": null,
            "grid_auto_flow": null,
            "grid_area": null,
            "grid_template_columns": null,
            "flex": null,
            "_model_name": "LayoutModel",
            "justify_items": null,
            "grid_row": null,
            "max_height": null,
            "align_content": null,
            "visibility": null,
            "align_self": null,
            "height": null,
            "min_height": null,
            "padding": null,
            "grid_auto_rows": null,
            "grid_gap": null,
            "max_width": null,
            "order": null,
            "_view_module_version": "1.2.0",
            "grid_template_areas": null,
            "object_position": null,
            "object_fit": null,
            "grid_auto_columns": null,
            "margin": null,
            "display": null,
            "left": null
          }
        },
        "cd79d51c4f1f42a0a26d670719941fe7": {
          "model_module": "@jupyter-widgets/controls",
          "model_name": "HBoxModel",
          "state": {
            "_view_name": "HBoxView",
            "_dom_classes": [],
            "_model_name": "HBoxModel",
            "_view_module": "@jupyter-widgets/controls",
            "_model_module_version": "1.5.0",
            "_view_count": null,
            "_view_module_version": "1.5.0",
            "box_style": "",
            "layout": "IPY_MODEL_ed4a72d2397c47b38d8d43d9b06a143c",
            "_model_module": "@jupyter-widgets/controls",
            "children": [
              "IPY_MODEL_a9d4211887aa4bc198e61b22d4599981",
              "IPY_MODEL_5140e443457e4dd8a4c73c4ea8aab35c"
            ]
          }
        },
        "ed4a72d2397c47b38d8d43d9b06a143c": {
          "model_module": "@jupyter-widgets/base",
          "model_name": "LayoutModel",
          "state": {
            "_view_name": "LayoutView",
            "grid_template_rows": null,
            "right": null,
            "justify_content": null,
            "_view_module": "@jupyter-widgets/base",
            "overflow": null,
            "_model_module_version": "1.2.0",
            "_view_count": null,
            "flex_flow": null,
            "width": null,
            "min_width": null,
            "border": null,
            "align_items": null,
            "bottom": null,
            "_model_module": "@jupyter-widgets/base",
            "top": null,
            "grid_column": null,
            "overflow_y": null,
            "overflow_x": null,
            "grid_auto_flow": null,
            "grid_area": null,
            "grid_template_columns": null,
            "flex": null,
            "_model_name": "LayoutModel",
            "justify_items": null,
            "grid_row": null,
            "max_height": null,
            "align_content": null,
            "visibility": null,
            "align_self": null,
            "height": null,
            "min_height": null,
            "padding": null,
            "grid_auto_rows": null,
            "grid_gap": null,
            "max_width": null,
            "order": null,
            "_view_module_version": "1.2.0",
            "grid_template_areas": null,
            "object_position": null,
            "object_fit": null,
            "grid_auto_columns": null,
            "margin": null,
            "display": null,
            "left": null
          }
        },
        "a9d4211887aa4bc198e61b22d4599981": {
          "model_module": "@jupyter-widgets/controls",
          "model_name": "FloatProgressModel",
          "state": {
            "_view_name": "ProgressView",
            "style": "IPY_MODEL_757f699af658443ebb0b991912abf035",
            "_dom_classes": [],
            "description": "Downloading: 100%",
            "_model_name": "FloatProgressModel",
            "bar_style": "success",
            "max": 28,
            "_view_module": "@jupyter-widgets/controls",
            "_model_module_version": "1.5.0",
            "value": 28,
            "_view_count": null,
            "_view_module_version": "1.5.0",
            "orientation": "horizontal",
            "min": 0,
            "description_tooltip": null,
            "_model_module": "@jupyter-widgets/controls",
            "layout": "IPY_MODEL_9ea276dda0714ffb99db859c2d5ef920"
          }
        },
        "5140e443457e4dd8a4c73c4ea8aab35c": {
          "model_module": "@jupyter-widgets/controls",
          "model_name": "HTMLModel",
          "state": {
            "_view_name": "HTMLView",
            "style": "IPY_MODEL_048a473a9d8a4e24b95a26dcd2d5b7a1",
            "_dom_classes": [],
            "description": "",
            "_model_name": "HTMLModel",
            "placeholder": "​",
            "_view_module": "@jupyter-widgets/controls",
            "_model_module_version": "1.5.0",
            "value": " 28.0/28.0 [00:00&lt;00:00, 36.5B/s]",
            "_view_count": null,
            "_view_module_version": "1.5.0",
            "description_tooltip": null,
            "_model_module": "@jupyter-widgets/controls",
            "layout": "IPY_MODEL_d6f2d532b43e47e4a655c8b7962c39cf"
          }
        },
        "757f699af658443ebb0b991912abf035": {
          "model_module": "@jupyter-widgets/controls",
          "model_name": "ProgressStyleModel",
          "state": {
            "_view_name": "StyleView",
            "_model_name": "ProgressStyleModel",
            "description_width": "initial",
            "_view_module": "@jupyter-widgets/base",
            "_model_module_version": "1.5.0",
            "_view_count": null,
            "_view_module_version": "1.2.0",
            "bar_color": null,
            "_model_module": "@jupyter-widgets/controls"
          }
        },
        "9ea276dda0714ffb99db859c2d5ef920": {
          "model_module": "@jupyter-widgets/base",
          "model_name": "LayoutModel",
          "state": {
            "_view_name": "LayoutView",
            "grid_template_rows": null,
            "right": null,
            "justify_content": null,
            "_view_module": "@jupyter-widgets/base",
            "overflow": null,
            "_model_module_version": "1.2.0",
            "_view_count": null,
            "flex_flow": null,
            "width": null,
            "min_width": null,
            "border": null,
            "align_items": null,
            "bottom": null,
            "_model_module": "@jupyter-widgets/base",
            "top": null,
            "grid_column": null,
            "overflow_y": null,
            "overflow_x": null,
            "grid_auto_flow": null,
            "grid_area": null,
            "grid_template_columns": null,
            "flex": null,
            "_model_name": "LayoutModel",
            "justify_items": null,
            "grid_row": null,
            "max_height": null,
            "align_content": null,
            "visibility": null,
            "align_self": null,
            "height": null,
            "min_height": null,
            "padding": null,
            "grid_auto_rows": null,
            "grid_gap": null,
            "max_width": null,
            "order": null,
            "_view_module_version": "1.2.0",
            "grid_template_areas": null,
            "object_position": null,
            "object_fit": null,
            "grid_auto_columns": null,
            "margin": null,
            "display": null,
            "left": null
          }
        },
        "048a473a9d8a4e24b95a26dcd2d5b7a1": {
          "model_module": "@jupyter-widgets/controls",
          "model_name": "DescriptionStyleModel",
          "state": {
            "_view_name": "StyleView",
            "_model_name": "DescriptionStyleModel",
            "description_width": "",
            "_view_module": "@jupyter-widgets/base",
            "_model_module_version": "1.5.0",
            "_view_count": null,
            "_view_module_version": "1.2.0",
            "_model_module": "@jupyter-widgets/controls"
          }
        },
        "d6f2d532b43e47e4a655c8b7962c39cf": {
          "model_module": "@jupyter-widgets/base",
          "model_name": "LayoutModel",
          "state": {
            "_view_name": "LayoutView",
            "grid_template_rows": null,
            "right": null,
            "justify_content": null,
            "_view_module": "@jupyter-widgets/base",
            "overflow": null,
            "_model_module_version": "1.2.0",
            "_view_count": null,
            "flex_flow": null,
            "width": null,
            "min_width": null,
            "border": null,
            "align_items": null,
            "bottom": null,
            "_model_module": "@jupyter-widgets/base",
            "top": null,
            "grid_column": null,
            "overflow_y": null,
            "overflow_x": null,
            "grid_auto_flow": null,
            "grid_area": null,
            "grid_template_columns": null,
            "flex": null,
            "_model_name": "LayoutModel",
            "justify_items": null,
            "grid_row": null,
            "max_height": null,
            "align_content": null,
            "visibility": null,
            "align_self": null,
            "height": null,
            "min_height": null,
            "padding": null,
            "grid_auto_rows": null,
            "grid_gap": null,
            "max_width": null,
            "order": null,
            "_view_module_version": "1.2.0",
            "grid_template_areas": null,
            "object_position": null,
            "object_fit": null,
            "grid_auto_columns": null,
            "margin": null,
            "display": null,
            "left": null
          }
        },
        "4109be69819846e6bf81e31d6dbcd807": {
          "model_module": "@jupyter-widgets/controls",
          "model_name": "HBoxModel",
          "state": {
            "_view_name": "HBoxView",
            "_dom_classes": [],
            "_model_name": "HBoxModel",
            "_view_module": "@jupyter-widgets/controls",
            "_model_module_version": "1.5.0",
            "_view_count": null,
            "_view_module_version": "1.5.0",
            "box_style": "",
            "layout": "IPY_MODEL_abc078a0f19045a3b42c38228d29ea21",
            "_model_module": "@jupyter-widgets/controls",
            "children": [
              "IPY_MODEL_3c0fce32c9b6411aae473cff46cd01f2",
              "IPY_MODEL_f7bd8375c7564ccb89f5a1390165e353"
            ]
          }
        },
        "abc078a0f19045a3b42c38228d29ea21": {
          "model_module": "@jupyter-widgets/base",
          "model_name": "LayoutModel",
          "state": {
            "_view_name": "LayoutView",
            "grid_template_rows": null,
            "right": null,
            "justify_content": null,
            "_view_module": "@jupyter-widgets/base",
            "overflow": null,
            "_model_module_version": "1.2.0",
            "_view_count": null,
            "flex_flow": null,
            "width": null,
            "min_width": null,
            "border": null,
            "align_items": null,
            "bottom": null,
            "_model_module": "@jupyter-widgets/base",
            "top": null,
            "grid_column": null,
            "overflow_y": null,
            "overflow_x": null,
            "grid_auto_flow": null,
            "grid_area": null,
            "grid_template_columns": null,
            "flex": null,
            "_model_name": "LayoutModel",
            "justify_items": null,
            "grid_row": null,
            "max_height": null,
            "align_content": null,
            "visibility": null,
            "align_self": null,
            "height": null,
            "min_height": null,
            "padding": null,
            "grid_auto_rows": null,
            "grid_gap": null,
            "max_width": null,
            "order": null,
            "_view_module_version": "1.2.0",
            "grid_template_areas": null,
            "object_position": null,
            "object_fit": null,
            "grid_auto_columns": null,
            "margin": null,
            "display": null,
            "left": null
          }
        },
        "3c0fce32c9b6411aae473cff46cd01f2": {
          "model_module": "@jupyter-widgets/controls",
          "model_name": "FloatProgressModel",
          "state": {
            "_view_name": "ProgressView",
            "style": "IPY_MODEL_56ef0e97d4c74d3799d58263f33d88be",
            "_dom_classes": [],
            "description": "Downloading: 100%",
            "_model_name": "FloatProgressModel",
            "bar_style": "success",
            "max": 1715180,
            "_view_module": "@jupyter-widgets/controls",
            "_model_module_version": "1.5.0",
            "value": 1715180,
            "_view_count": null,
            "_view_module_version": "1.5.0",
            "orientation": "horizontal",
            "min": 0,
            "description_tooltip": null,
            "_model_module": "@jupyter-widgets/controls",
            "layout": "IPY_MODEL_4dbd0bfc3c2f44ef8791582e78a4f046"
          }
        },
        "f7bd8375c7564ccb89f5a1390165e353": {
          "model_module": "@jupyter-widgets/controls",
          "model_name": "HTMLModel",
          "state": {
            "_view_name": "HTMLView",
            "style": "IPY_MODEL_c7749445fcf94fdbad8c5dde1ef7c97b",
            "_dom_classes": [],
            "description": "",
            "_model_name": "HTMLModel",
            "placeholder": "​",
            "_view_module": "@jupyter-widgets/controls",
            "_model_module_version": "1.5.0",
            "value": " 1.72M/1.72M [00:00&lt;00:00, 3.97MB/s]",
            "_view_count": null,
            "_view_module_version": "1.5.0",
            "description_tooltip": null,
            "_model_module": "@jupyter-widgets/controls",
            "layout": "IPY_MODEL_78fe1edc29204af5aa2fc0c41dff7478"
          }
        },
        "56ef0e97d4c74d3799d58263f33d88be": {
          "model_module": "@jupyter-widgets/controls",
          "model_name": "ProgressStyleModel",
          "state": {
            "_view_name": "StyleView",
            "_model_name": "ProgressStyleModel",
            "description_width": "initial",
            "_view_module": "@jupyter-widgets/base",
            "_model_module_version": "1.5.0",
            "_view_count": null,
            "_view_module_version": "1.2.0",
            "bar_color": null,
            "_model_module": "@jupyter-widgets/controls"
          }
        },
        "4dbd0bfc3c2f44ef8791582e78a4f046": {
          "model_module": "@jupyter-widgets/base",
          "model_name": "LayoutModel",
          "state": {
            "_view_name": "LayoutView",
            "grid_template_rows": null,
            "right": null,
            "justify_content": null,
            "_view_module": "@jupyter-widgets/base",
            "overflow": null,
            "_model_module_version": "1.2.0",
            "_view_count": null,
            "flex_flow": null,
            "width": null,
            "min_width": null,
            "border": null,
            "align_items": null,
            "bottom": null,
            "_model_module": "@jupyter-widgets/base",
            "top": null,
            "grid_column": null,
            "overflow_y": null,
            "overflow_x": null,
            "grid_auto_flow": null,
            "grid_area": null,
            "grid_template_columns": null,
            "flex": null,
            "_model_name": "LayoutModel",
            "justify_items": null,
            "grid_row": null,
            "max_height": null,
            "align_content": null,
            "visibility": null,
            "align_self": null,
            "height": null,
            "min_height": null,
            "padding": null,
            "grid_auto_rows": null,
            "grid_gap": null,
            "max_width": null,
            "order": null,
            "_view_module_version": "1.2.0",
            "grid_template_areas": null,
            "object_position": null,
            "object_fit": null,
            "grid_auto_columns": null,
            "margin": null,
            "display": null,
            "left": null
          }
        },
        "c7749445fcf94fdbad8c5dde1ef7c97b": {
          "model_module": "@jupyter-widgets/controls",
          "model_name": "DescriptionStyleModel",
          "state": {
            "_view_name": "StyleView",
            "_model_name": "DescriptionStyleModel",
            "description_width": "",
            "_view_module": "@jupyter-widgets/base",
            "_model_module_version": "1.5.0",
            "_view_count": null,
            "_view_module_version": "1.2.0",
            "_model_module": "@jupyter-widgets/controls"
          }
        },
        "78fe1edc29204af5aa2fc0c41dff7478": {
          "model_module": "@jupyter-widgets/base",
          "model_name": "LayoutModel",
          "state": {
            "_view_name": "LayoutView",
            "grid_template_rows": null,
            "right": null,
            "justify_content": null,
            "_view_module": "@jupyter-widgets/base",
            "overflow": null,
            "_model_module_version": "1.2.0",
            "_view_count": null,
            "flex_flow": null,
            "width": null,
            "min_width": null,
            "border": null,
            "align_items": null,
            "bottom": null,
            "_model_module": "@jupyter-widgets/base",
            "top": null,
            "grid_column": null,
            "overflow_y": null,
            "overflow_x": null,
            "grid_auto_flow": null,
            "grid_area": null,
            "grid_template_columns": null,
            "flex": null,
            "_model_name": "LayoutModel",
            "justify_items": null,
            "grid_row": null,
            "max_height": null,
            "align_content": null,
            "visibility": null,
            "align_self": null,
            "height": null,
            "min_height": null,
            "padding": null,
            "grid_auto_rows": null,
            "grid_gap": null,
            "max_width": null,
            "order": null,
            "_view_module_version": "1.2.0",
            "grid_template_areas": null,
            "object_position": null,
            "object_fit": null,
            "grid_auto_columns": null,
            "margin": null,
            "display": null,
            "left": null
          }
        },
        "40c26100327648b4a377fccb4fba9a56": {
          "model_module": "@jupyter-widgets/controls",
          "model_name": "HBoxModel",
          "state": {
            "_view_name": "HBoxView",
            "_dom_classes": [],
            "_model_name": "HBoxModel",
            "_view_module": "@jupyter-widgets/controls",
            "_model_module_version": "1.5.0",
            "_view_count": null,
            "_view_module_version": "1.5.0",
            "box_style": "",
            "layout": "IPY_MODEL_80493d63daee4fc19fceb1a1ad3b3d5d",
            "_model_module": "@jupyter-widgets/controls",
            "children": [
              "IPY_MODEL_6e89db9e06eb4a6f87eab36003166e75",
              "IPY_MODEL_abe3d96e23c142f591a61f3b07bf4173"
            ]
          }
        },
        "80493d63daee4fc19fceb1a1ad3b3d5d": {
          "model_module": "@jupyter-widgets/base",
          "model_name": "LayoutModel",
          "state": {
            "_view_name": "LayoutView",
            "grid_template_rows": null,
            "right": null,
            "justify_content": null,
            "_view_module": "@jupyter-widgets/base",
            "overflow": null,
            "_model_module_version": "1.2.0",
            "_view_count": null,
            "flex_flow": null,
            "width": null,
            "min_width": null,
            "border": null,
            "align_items": null,
            "bottom": null,
            "_model_module": "@jupyter-widgets/base",
            "top": null,
            "grid_column": null,
            "overflow_y": null,
            "overflow_x": null,
            "grid_auto_flow": null,
            "grid_area": null,
            "grid_template_columns": null,
            "flex": null,
            "_model_name": "LayoutModel",
            "justify_items": null,
            "grid_row": null,
            "max_height": null,
            "align_content": null,
            "visibility": null,
            "align_self": null,
            "height": null,
            "min_height": null,
            "padding": null,
            "grid_auto_rows": null,
            "grid_gap": null,
            "max_width": null,
            "order": null,
            "_view_module_version": "1.2.0",
            "grid_template_areas": null,
            "object_position": null,
            "object_fit": null,
            "grid_auto_columns": null,
            "margin": null,
            "display": null,
            "left": null
          }
        },
        "6e89db9e06eb4a6f87eab36003166e75": {
          "model_module": "@jupyter-widgets/controls",
          "model_name": "FloatProgressModel",
          "state": {
            "_view_name": "ProgressView",
            "style": "IPY_MODEL_cbe95871ce4a4890ae11bfc3ade5351b",
            "_dom_classes": [],
            "description": "Downloading: 100%",
            "_model_name": "FloatProgressModel",
            "bar_style": "success",
            "max": 625,
            "_view_module": "@jupyter-widgets/controls",
            "_model_module_version": "1.5.0",
            "value": 625,
            "_view_count": null,
            "_view_module_version": "1.5.0",
            "orientation": "horizontal",
            "min": 0,
            "description_tooltip": null,
            "_model_module": "@jupyter-widgets/controls",
            "layout": "IPY_MODEL_5f3823043a76419cafaf284b697ab095"
          }
        },
        "abe3d96e23c142f591a61f3b07bf4173": {
          "model_module": "@jupyter-widgets/controls",
          "model_name": "HTMLModel",
          "state": {
            "_view_name": "HTMLView",
            "style": "IPY_MODEL_3500ddb92db449d39c78fc3212e70191",
            "_dom_classes": [],
            "description": "",
            "_model_name": "HTMLModel",
            "placeholder": "​",
            "_view_module": "@jupyter-widgets/controls",
            "_model_module_version": "1.5.0",
            "value": " 625/625 [00:00&lt;00:00, 1.50kB/s]",
            "_view_count": null,
            "_view_module_version": "1.5.0",
            "description_tooltip": null,
            "_model_module": "@jupyter-widgets/controls",
            "layout": "IPY_MODEL_345e7fae3f95427bac583c50a784d0be"
          }
        },
        "cbe95871ce4a4890ae11bfc3ade5351b": {
          "model_module": "@jupyter-widgets/controls",
          "model_name": "ProgressStyleModel",
          "state": {
            "_view_name": "StyleView",
            "_model_name": "ProgressStyleModel",
            "description_width": "initial",
            "_view_module": "@jupyter-widgets/base",
            "_model_module_version": "1.5.0",
            "_view_count": null,
            "_view_module_version": "1.2.0",
            "bar_color": null,
            "_model_module": "@jupyter-widgets/controls"
          }
        },
        "5f3823043a76419cafaf284b697ab095": {
          "model_module": "@jupyter-widgets/base",
          "model_name": "LayoutModel",
          "state": {
            "_view_name": "LayoutView",
            "grid_template_rows": null,
            "right": null,
            "justify_content": null,
            "_view_module": "@jupyter-widgets/base",
            "overflow": null,
            "_model_module_version": "1.2.0",
            "_view_count": null,
            "flex_flow": null,
            "width": null,
            "min_width": null,
            "border": null,
            "align_items": null,
            "bottom": null,
            "_model_module": "@jupyter-widgets/base",
            "top": null,
            "grid_column": null,
            "overflow_y": null,
            "overflow_x": null,
            "grid_auto_flow": null,
            "grid_area": null,
            "grid_template_columns": null,
            "flex": null,
            "_model_name": "LayoutModel",
            "justify_items": null,
            "grid_row": null,
            "max_height": null,
            "align_content": null,
            "visibility": null,
            "align_self": null,
            "height": null,
            "min_height": null,
            "padding": null,
            "grid_auto_rows": null,
            "grid_gap": null,
            "max_width": null,
            "order": null,
            "_view_module_version": "1.2.0",
            "grid_template_areas": null,
            "object_position": null,
            "object_fit": null,
            "grid_auto_columns": null,
            "margin": null,
            "display": null,
            "left": null
          }
        },
        "3500ddb92db449d39c78fc3212e70191": {
          "model_module": "@jupyter-widgets/controls",
          "model_name": "DescriptionStyleModel",
          "state": {
            "_view_name": "StyleView",
            "_model_name": "DescriptionStyleModel",
            "description_width": "",
            "_view_module": "@jupyter-widgets/base",
            "_model_module_version": "1.5.0",
            "_view_count": null,
            "_view_module_version": "1.2.0",
            "_model_module": "@jupyter-widgets/controls"
          }
        },
        "345e7fae3f95427bac583c50a784d0be": {
          "model_module": "@jupyter-widgets/base",
          "model_name": "LayoutModel",
          "state": {
            "_view_name": "LayoutView",
            "grid_template_rows": null,
            "right": null,
            "justify_content": null,
            "_view_module": "@jupyter-widgets/base",
            "overflow": null,
            "_model_module_version": "1.2.0",
            "_view_count": null,
            "flex_flow": null,
            "width": null,
            "min_width": null,
            "border": null,
            "align_items": null,
            "bottom": null,
            "_model_module": "@jupyter-widgets/base",
            "top": null,
            "grid_column": null,
            "overflow_y": null,
            "overflow_x": null,
            "grid_auto_flow": null,
            "grid_area": null,
            "grid_template_columns": null,
            "flex": null,
            "_model_name": "LayoutModel",
            "justify_items": null,
            "grid_row": null,
            "max_height": null,
            "align_content": null,
            "visibility": null,
            "align_self": null,
            "height": null,
            "min_height": null,
            "padding": null,
            "grid_auto_rows": null,
            "grid_gap": null,
            "max_width": null,
            "order": null,
            "_view_module_version": "1.2.0",
            "grid_template_areas": null,
            "object_position": null,
            "object_fit": null,
            "grid_auto_columns": null,
            "margin": null,
            "display": null,
            "left": null
          }
        },
        "58ecef7221e04516be6c53aeebe6be2c": {
          "model_module": "@jupyter-widgets/controls",
          "model_name": "HBoxModel",
          "state": {
            "_view_name": "HBoxView",
            "_dom_classes": [],
            "_model_name": "HBoxModel",
            "_view_module": "@jupyter-widgets/controls",
            "_model_module_version": "1.5.0",
            "_view_count": null,
            "_view_module_version": "1.5.0",
            "box_style": "",
            "layout": "IPY_MODEL_c1c27b965c4441b892282e0844171aeb",
            "_model_module": "@jupyter-widgets/controls",
            "children": [
              "IPY_MODEL_e8eec073b0b14fd98f3336a469b13289",
              "IPY_MODEL_b9a3a849be614145875efb6206a9b7dc"
            ]
          }
        },
        "c1c27b965c4441b892282e0844171aeb": {
          "model_module": "@jupyter-widgets/base",
          "model_name": "LayoutModel",
          "state": {
            "_view_name": "LayoutView",
            "grid_template_rows": null,
            "right": null,
            "justify_content": null,
            "_view_module": "@jupyter-widgets/base",
            "overflow": null,
            "_model_module_version": "1.2.0",
            "_view_count": null,
            "flex_flow": null,
            "width": null,
            "min_width": null,
            "border": null,
            "align_items": null,
            "bottom": null,
            "_model_module": "@jupyter-widgets/base",
            "top": null,
            "grid_column": null,
            "overflow_y": null,
            "overflow_x": null,
            "grid_auto_flow": null,
            "grid_area": null,
            "grid_template_columns": null,
            "flex": null,
            "_model_name": "LayoutModel",
            "justify_items": null,
            "grid_row": null,
            "max_height": null,
            "align_content": null,
            "visibility": null,
            "align_self": null,
            "height": null,
            "min_height": null,
            "padding": null,
            "grid_auto_rows": null,
            "grid_gap": null,
            "max_width": null,
            "order": null,
            "_view_module_version": "1.2.0",
            "grid_template_areas": null,
            "object_position": null,
            "object_fit": null,
            "grid_auto_columns": null,
            "margin": null,
            "display": null,
            "left": null
          }
        },
        "e8eec073b0b14fd98f3336a469b13289": {
          "model_module": "@jupyter-widgets/controls",
          "model_name": "FloatProgressModel",
          "state": {
            "_view_name": "ProgressView",
            "style": "IPY_MODEL_f0229ca97c0645628c6c4b7881302039",
            "_dom_classes": [],
            "description": "Downloading: 100%",
            "_model_name": "FloatProgressModel",
            "bar_style": "success",
            "max": 999358484,
            "_view_module": "@jupyter-widgets/controls",
            "_model_module_version": "1.5.0",
            "value": 999358484,
            "_view_count": null,
            "_view_module_version": "1.5.0",
            "orientation": "horizontal",
            "min": 0,
            "description_tooltip": null,
            "_model_module": "@jupyter-widgets/controls",
            "layout": "IPY_MODEL_3857dfc1b83c441cbf2cac899d937aa1"
          }
        },
        "b9a3a849be614145875efb6206a9b7dc": {
          "model_module": "@jupyter-widgets/controls",
          "model_name": "HTMLModel",
          "state": {
            "_view_name": "HTMLView",
            "style": "IPY_MODEL_8343448204a648db9d36babf83803c38",
            "_dom_classes": [],
            "description": "",
            "_model_name": "HTMLModel",
            "placeholder": "​",
            "_view_module": "@jupyter-widgets/controls",
            "_model_module_version": "1.5.0",
            "value": " 999M/999M [00:22&lt;00:00, 43.5MB/s]",
            "_view_count": null,
            "_view_module_version": "1.5.0",
            "description_tooltip": null,
            "_model_module": "@jupyter-widgets/controls",
            "layout": "IPY_MODEL_e356038240ee4d43b7a23db9d77facca"
          }
        },
        "f0229ca97c0645628c6c4b7881302039": {
          "model_module": "@jupyter-widgets/controls",
          "model_name": "ProgressStyleModel",
          "state": {
            "_view_name": "StyleView",
            "_model_name": "ProgressStyleModel",
            "description_width": "initial",
            "_view_module": "@jupyter-widgets/base",
            "_model_module_version": "1.5.0",
            "_view_count": null,
            "_view_module_version": "1.2.0",
            "bar_color": null,
            "_model_module": "@jupyter-widgets/controls"
          }
        },
        "3857dfc1b83c441cbf2cac899d937aa1": {
          "model_module": "@jupyter-widgets/base",
          "model_name": "LayoutModel",
          "state": {
            "_view_name": "LayoutView",
            "grid_template_rows": null,
            "right": null,
            "justify_content": null,
            "_view_module": "@jupyter-widgets/base",
            "overflow": null,
            "_model_module_version": "1.2.0",
            "_view_count": null,
            "flex_flow": null,
            "width": null,
            "min_width": null,
            "border": null,
            "align_items": null,
            "bottom": null,
            "_model_module": "@jupyter-widgets/base",
            "top": null,
            "grid_column": null,
            "overflow_y": null,
            "overflow_x": null,
            "grid_auto_flow": null,
            "grid_area": null,
            "grid_template_columns": null,
            "flex": null,
            "_model_name": "LayoutModel",
            "justify_items": null,
            "grid_row": null,
            "max_height": null,
            "align_content": null,
            "visibility": null,
            "align_self": null,
            "height": null,
            "min_height": null,
            "padding": null,
            "grid_auto_rows": null,
            "grid_gap": null,
            "max_width": null,
            "order": null,
            "_view_module_version": "1.2.0",
            "grid_template_areas": null,
            "object_position": null,
            "object_fit": null,
            "grid_auto_columns": null,
            "margin": null,
            "display": null,
            "left": null
          }
        },
        "8343448204a648db9d36babf83803c38": {
          "model_module": "@jupyter-widgets/controls",
          "model_name": "DescriptionStyleModel",
          "state": {
            "_view_name": "StyleView",
            "_model_name": "DescriptionStyleModel",
            "description_width": "",
            "_view_module": "@jupyter-widgets/base",
            "_model_module_version": "1.5.0",
            "_view_count": null,
            "_view_module_version": "1.2.0",
            "_model_module": "@jupyter-widgets/controls"
          }
        },
        "e356038240ee4d43b7a23db9d77facca": {
          "model_module": "@jupyter-widgets/base",
          "model_name": "LayoutModel",
          "state": {
            "_view_name": "LayoutView",
            "grid_template_rows": null,
            "right": null,
            "justify_content": null,
            "_view_module": "@jupyter-widgets/base",
            "overflow": null,
            "_model_module_version": "1.2.0",
            "_view_count": null,
            "flex_flow": null,
            "width": null,
            "min_width": null,
            "border": null,
            "align_items": null,
            "bottom": null,
            "_model_module": "@jupyter-widgets/base",
            "top": null,
            "grid_column": null,
            "overflow_y": null,
            "overflow_x": null,
            "grid_auto_flow": null,
            "grid_area": null,
            "grid_template_columns": null,
            "flex": null,
            "_model_name": "LayoutModel",
            "justify_items": null,
            "grid_row": null,
            "max_height": null,
            "align_content": null,
            "visibility": null,
            "align_self": null,
            "height": null,
            "min_height": null,
            "padding": null,
            "grid_auto_rows": null,
            "grid_gap": null,
            "max_width": null,
            "order": null,
            "_view_module_version": "1.2.0",
            "grid_template_areas": null,
            "object_position": null,
            "object_fit": null,
            "grid_auto_columns": null,
            "margin": null,
            "display": null,
            "left": null
          }
        }
      }
    }
  },
  "cells": [
    {
      "cell_type": "markdown",
      "metadata": {
        "id": "view-in-github",
        "colab_type": "text"
      },
      "source": [
        "<a href=\"https://colab.research.google.com/github/tejaschaudhari2811/FIRE_Project_Task_1/blob/main/FIRE_Project.ipynb\" target=\"_parent\"><img src=\"https://colab.research.google.com/assets/colab-badge.svg\" alt=\"Open In Colab\"/></a>"
      ]
    },
    {
      "cell_type": "markdown",
      "metadata": {
        "id": "HwcN9tblVAaR"
      },
      "source": [
        "# Task 1 : Message Level Sentiment Analysis for Tamil Language"
      ]
    },
    {
      "cell_type": "code",
      "metadata": {
        "id": "W-bvonwgUN3N",
        "colab": {
          "base_uri": "https://localhost:8080/"
        },
        "collapsed": true,
        "outputId": "1eef8db4-66d8-427f-8d1b-fb8023ac4a58"
      },
      "source": [
        "import pandas as pd\n",
        "import re\n"
      ],
      "execution_count": null,
      "outputs": [
        {
          "output_type": "stream",
          "text": [
            "/usr/local/lib/python3.7/dist-packages/sklearn/externals/six.py:31: FutureWarning: The module is deprecated in version 0.21 and will be removed in version 0.23 since we've dropped support for Python 2.7. Please rely on the official version of six (https://pypi.org/project/six/).\n",
            "  \"(https://pypi.org/project/six/).\", FutureWarning)\n",
            "/usr/local/lib/python3.7/dist-packages/sklearn/utils/deprecation.py:144: FutureWarning: The sklearn.neighbors.base module is  deprecated in version 0.22 and will be removed in version 0.24. The corresponding classes / functions should instead be imported from sklearn.neighbors. Anything that cannot be imported from sklearn.neighbors is now part of the private API.\n",
            "  warnings.warn(message, FutureWarning)\n"
          ],
          "name": "stderr"
        }
      ]
    },
    {
      "cell_type": "code",
      "metadata": {
        "id": "wnmt2WmiVMLZ"
      },
      "source": [
        "print(\"Upload Training Data \\n\")\n",
        "from google.colab import files\n",
        "uploaded = files.upload()"
      ],
      "execution_count": null,
      "outputs": []
    },
    {
      "cell_type": "code",
      "metadata": {
        "id": "4ArAWjGuUN3R"
      },
      "source": [
        "df = pd.read_table(\"tamil_offensive_train.tsv\")"
      ],
      "execution_count": null,
      "outputs": []
    },
    {
      "cell_type": "code",
      "metadata": {
        "id": "o_L0VvhRUN3U"
      },
      "source": [
        "# Define Polarities for numeric classification\n",
        "polarities={'NOT':1, \"OFF\":-1,\"not-Tamil\":0}"
      ],
      "execution_count": null,
      "outputs": []
    },
    {
      "cell_type": "code",
      "metadata": {
        "colab": {
          "base_uri": "https://localhost:8080/"
        },
        "id": "0_CkrCILUN3U",
        "outputId": "b6901135-96b9-44fe-f4eb-bb80803b0698"
      },
      "source": [
        "print(df.info())"
      ],
      "execution_count": null,
      "outputs": [
        {
          "output_type": "stream",
          "text": [
            "<class 'pandas.core.frame.DataFrame'>\n",
            "RangeIndex: 5880 entries, 0 to 5879\n",
            "Data columns (total 3 columns):\n",
            " #   Column    Non-Null Count  Dtype \n",
            "---  ------    --------------  ----- \n",
            " 0   id        5880 non-null   object\n",
            " 1   text      5880 non-null   object\n",
            " 2   category  5880 non-null   object\n",
            "dtypes: object(3)\n",
            "memory usage: 137.9+ KB\n",
            "None\n"
          ],
          "name": "stdout"
        }
      ]
    },
    {
      "cell_type": "code",
      "metadata": {
        "colab": {
          "base_uri": "https://localhost:8080/",
          "height": 172
        },
        "id": "PK_A0MmlUN3W",
        "outputId": "f843d748-c9dd-4fa8-c0ae-6c32a172161b"
      },
      "source": [
        "df.groupby(by=['category']).count()"
      ],
      "execution_count": null,
      "outputs": [
        {
          "output_type": "execute_result",
          "data": {
            "text/html": [
              "<div>\n",
              "<style scoped>\n",
              "    .dataframe tbody tr th:only-of-type {\n",
              "        vertical-align: middle;\n",
              "    }\n",
              "\n",
              "    .dataframe tbody tr th {\n",
              "        vertical-align: top;\n",
              "    }\n",
              "\n",
              "    .dataframe thead th {\n",
              "        text-align: right;\n",
              "    }\n",
              "</style>\n",
              "<table border=\"1\" class=\"dataframe\">\n",
              "  <thead>\n",
              "    <tr style=\"text-align: right;\">\n",
              "      <th></th>\n",
              "      <th>id</th>\n",
              "      <th>text</th>\n",
              "    </tr>\n",
              "    <tr>\n",
              "      <th>category</th>\n",
              "      <th></th>\n",
              "      <th></th>\n",
              "    </tr>\n",
              "  </thead>\n",
              "  <tbody>\n",
              "    <tr>\n",
              "      <th>NOT</th>\n",
              "      <td>4724</td>\n",
              "      <td>4724</td>\n",
              "    </tr>\n",
              "    <tr>\n",
              "      <th>OFF</th>\n",
              "      <td>1153</td>\n",
              "      <td>1153</td>\n",
              "    </tr>\n",
              "    <tr>\n",
              "      <th>not-Tamil</th>\n",
              "      <td>3</td>\n",
              "      <td>3</td>\n",
              "    </tr>\n",
              "  </tbody>\n",
              "</table>\n",
              "</div>"
            ],
            "text/plain": [
              "             id  text\n",
              "category             \n",
              "NOT        4724  4724\n",
              "OFF        1153  1153\n",
              "not-Tamil     3     3"
            ]
          },
          "metadata": {
            "tags": []
          },
          "execution_count": 5
        }
      ]
    },
    {
      "cell_type": "code",
      "metadata": {
        "id": "ESbCyzyYUN3Y"
      },
      "source": [
        "# Supplementary Functions\n",
        "def convert_polarity(category):\n",
        "    \"\"\"\n",
        "    Takes in category as string \n",
        "    outputs integer representation\n",
        "    \"\"\"\n",
        "    return polarities[category]\n",
        "\n",
        "def word_length(sentence):\n",
        "  \"\"\"\n",
        "  Takes in Tamil Text\n",
        "  Counts Words\n",
        "  Returns number of Words\n",
        "  \"\"\"\n",
        "    return len(sentence.split(\" \"))"
      ],
      "execution_count": null,
      "outputs": []
    },
    {
      "cell_type": "code",
      "metadata": {
        "id": "psCI4tbPUN3Y"
      },
      "source": [
        "df['polarity'] = df['category'].apply(convert_polarity)\n",
        "df['text_length'] = df['text'].apply(len)\n",
        "df['number_of_words'] = df['text'].apply(word_length)"
      ],
      "execution_count": null,
      "outputs": []
    },
    {
      "cell_type": "code",
      "metadata": {
        "colab": {
          "base_uri": "https://localhost:8080/",
          "height": 203
        },
        "id": "0DE1WvJdUN3Z",
        "outputId": "1c54562c-f8e2-4e7f-c0ba-57889553a87f"
      },
      "source": [
        "df.head()"
      ],
      "execution_count": null,
      "outputs": [
        {
          "output_type": "execute_result",
          "data": {
            "text/html": [
              "<div>\n",
              "<style scoped>\n",
              "    .dataframe tbody tr th:only-of-type {\n",
              "        vertical-align: middle;\n",
              "    }\n",
              "\n",
              "    .dataframe tbody tr th {\n",
              "        vertical-align: top;\n",
              "    }\n",
              "\n",
              "    .dataframe thead th {\n",
              "        text-align: right;\n",
              "    }\n",
              "</style>\n",
              "<table border=\"1\" class=\"dataframe\">\n",
              "  <thead>\n",
              "    <tr style=\"text-align: right;\">\n",
              "      <th></th>\n",
              "      <th>id</th>\n",
              "      <th>text</th>\n",
              "      <th>category</th>\n",
              "      <th>polarity</th>\n",
              "      <th>text_length</th>\n",
              "      <th>number_of_words</th>\n",
              "    </tr>\n",
              "  </thead>\n",
              "  <tbody>\n",
              "    <tr>\n",
              "      <th>0</th>\n",
              "      <td>tam1</td>\n",
              "      <td>திருமலை நாயக்கர் பேரவை சார்பாக படம் வெற்றி பெற...</td>\n",
              "      <td>NOT</td>\n",
              "      <td>1</td>\n",
              "      <td>60</td>\n",
              "      <td>8</td>\n",
              "    </tr>\n",
              "    <tr>\n",
              "      <th>1</th>\n",
              "      <td>tam2</td>\n",
              "      <td>இந்த ட்ரெய்லர் கூட பார்க்கிற மாதிரி இல்லை.. இத...</td>\n",
              "      <td>OFF</td>\n",
              "      <td>-1</td>\n",
              "      <td>80</td>\n",
              "      <td>12</td>\n",
              "    </tr>\n",
              "    <tr>\n",
              "      <th>2</th>\n",
              "      <td>tam3</td>\n",
              "      <td>மைசூரு செட்டியார் சமூகத்தின் சார்பாக இப்படம் வ...</td>\n",
              "      <td>NOT</td>\n",
              "      <td>1</td>\n",
              "      <td>69</td>\n",
              "      <td>7</td>\n",
              "    </tr>\n",
              "    <tr>\n",
              "      <th>3</th>\n",
              "      <td>tam4</td>\n",
              "      <td>மொத்த சாதியும் ஒரு சாதிக்கு எதிரா நிக்குது.......</td>\n",
              "      <td>OFF</td>\n",
              "      <td>-1</td>\n",
              "      <td>84</td>\n",
              "      <td>13</td>\n",
              "    </tr>\n",
              "    <tr>\n",
              "      <th>4</th>\n",
              "      <td>tam5</td>\n",
              "      <td>only for விஜய் சேதுபதி and STR</td>\n",
              "      <td>NOT</td>\n",
              "      <td>1</td>\n",
              "      <td>30</td>\n",
              "      <td>6</td>\n",
              "    </tr>\n",
              "  </tbody>\n",
              "</table>\n",
              "</div>"
            ],
            "text/plain": [
              "     id  ... number_of_words\n",
              "0  tam1  ...               8\n",
              "1  tam2  ...              12\n",
              "2  tam3  ...               7\n",
              "3  tam4  ...              13\n",
              "4  tam5  ...               6\n",
              "\n",
              "[5 rows x 6 columns]"
            ]
          },
          "metadata": {
            "tags": []
          },
          "execution_count": 30
        }
      ]
    },
    {
      "cell_type": "code",
      "metadata": {
        "id": "mV6poheYcB0p"
      },
      "source": [
        "df = df.drop(df[df.polarity == 0].index)"
      ],
      "execution_count": null,
      "outputs": []
    },
    {
      "cell_type": "code",
      "metadata": {
        "id": "ZCABMUX-UN3a"
      },
      "source": [
        "from sklearn.model_selection import train_test_split\n",
        "from sklearn.feature_extraction.text import TfidfVectorizer\n",
        "from sklearn.svm import LinearSVC\n",
        "from sklearn.linear_model import LogisticRegression\n",
        "from sklearn.metrics import classification_report"
      ],
      "execution_count": null,
      "outputs": []
    },
    {
      "cell_type": "code",
      "metadata": {
        "id": "Ko3TTBROU5L-"
      },
      "source": [
        "tfidf = TfidfVectorizer(max_features=1000)"
      ],
      "execution_count": null,
      "outputs": []
    },
    {
      "cell_type": "code",
      "metadata": {
        "colab": {
          "base_uri": "https://localhost:8080/"
        },
        "id": "XlAYaYSty36z",
        "outputId": "bc4bde4c-250f-4a27-8b5d-afcfdfeead91"
      },
      "source": [
        "!pip install imbalanced-learn\n",
        "from imblearn.over_sampling import RandomOverSampler\n",
        "ros = RandomOverSampler()"
      ],
      "execution_count": null,
      "outputs": [
        {
          "output_type": "stream",
          "text": [
            "Requirement already satisfied: imbalanced-learn in /usr/local/lib/python3.7/dist-packages (0.4.3)\n",
            "Requirement already satisfied: scikit-learn>=0.20 in /usr/local/lib/python3.7/dist-packages (from imbalanced-learn) (0.22.2.post1)\n",
            "Requirement already satisfied: numpy>=1.8.2 in /usr/local/lib/python3.7/dist-packages (from imbalanced-learn) (1.19.5)\n",
            "Requirement already satisfied: scipy>=0.13.3 in /usr/local/lib/python3.7/dist-packages (from imbalanced-learn) (1.4.1)\n",
            "Requirement already satisfied: joblib>=0.11 in /usr/local/lib/python3.7/dist-packages (from scikit-learn>=0.20->imbalanced-learn) (1.0.1)\n"
          ],
          "name": "stdout"
        }
      ]
    },
    {
      "cell_type": "code",
      "metadata": {
        "id": "zwkmbk75U9si",
        "colab": {
          "base_uri": "https://localhost:8080/"
        },
        "outputId": "292e2f76-b4af-4ce4-edf8-dbe000234f73"
      },
      "source": [
        "# Get the data from Dataframe.\n",
        "X = df['text']\n",
        "y = df['polarity']\n",
        "\n",
        "# Convert data to vectors\n",
        "X = tfidf.fit_transform(X)\n",
        "X_ros,y_ros = ros.fit_resample(X,y)"
      ],
      "execution_count": null,
      "outputs": [
        {
          "output_type": "stream",
          "text": [
            "/usr/local/lib/python3.7/dist-packages/sklearn/utils/deprecation.py:87: FutureWarning: Function safe_indexing is deprecated; safe_indexing is deprecated in version 0.22 and will be removed in version 0.24.\n",
            "  warnings.warn(msg, category=FutureWarning)\n"
          ],
          "name": "stderr"
        }
      ]
    },
    {
      "cell_type": "code",
      "metadata": {
        "id": "kVIYds4-8dNJ"
      },
      "source": [
        "def svm_classifier(X_ros,y_ros):\n",
        "  \"\"\"\n",
        "  Takes in oversampled data\n",
        "  Outputs support vector machine model and classification report\n",
        "  \"\"\"\n",
        "  X_train,X_test,y_train,y_test = train_test_split(X_ros,y_ros,test_size=0.2, random_state=0)\n",
        "  clf = LinearSVC()\n",
        "  linear_svc_model = clf.fit(X_train,y_train)\n",
        "  y_pred = clf.predict(X_test)\n",
        "  report = classification_report(y_pred,y_test)\n",
        "  return linear_svc_model,report\n"
      ],
      "execution_count": null,
      "outputs": []
    },
    {
      "cell_type": "code",
      "metadata": {
        "id": "XI8yBFDt917w"
      },
      "source": [
        "model,report= svm_classifier(X_ros,y_ros)"
      ],
      "execution_count": null,
      "outputs": []
    },
    {
      "cell_type": "code",
      "metadata": {
        "colab": {
          "base_uri": "https://localhost:8080/"
        },
        "id": "xeHbYTfFkF4M",
        "outputId": "5d353fa1-c23c-4d52-fe26-29cc448ab95f"
      },
      "source": [
        "print(report)"
      ],
      "execution_count": null,
      "outputs": [
        {
          "output_type": "stream",
          "text": [
            "              precision    recall  f1-score   support\n",
            "\n",
            "          -1       0.85      0.78      0.81      1041\n",
            "           1       0.75      0.83      0.79       849\n",
            "\n",
            "    accuracy                           0.80      1890\n",
            "   macro avg       0.80      0.81      0.80      1890\n",
            "weighted avg       0.81      0.80      0.80      1890\n",
            "\n"
          ],
          "name": "stdout"
        }
      ]
    },
    {
      "cell_type": "markdown",
      "metadata": {
        "id": "DiyHyP5UbzzD"
      },
      "source": [
        "# Using Logistic Regression for Classification"
      ]
    },
    {
      "cell_type": "code",
      "metadata": {
        "id": "bsVdQwf_-BWP"
      },
      "source": [
        "def logistic_regression_classifier(X_ros,y_ros):\n",
        "  \"\"\"\n",
        "  Takes in oversampled data\n",
        "  Outputs Linear Regression Model and classification report\n",
        "  \"\"\"\n",
        "  X_train,X_test,y_train,y_test = train_test_split(X_ros,y_ros,test_size=0.2, random_state=0)\n",
        "  clf = LogisticRegression(random_state=0)\n",
        "  logistic_regression_model = clf.fit(X_train,y_train)\n",
        "  y_pred = clf.predict(X_test)\n",
        "  report = classification_report(y_pred,y_test)\n",
        "  return logistic_regression_model,report"
      ],
      "execution_count": null,
      "outputs": []
    },
    {
      "cell_type": "code",
      "metadata": {
        "colab": {
          "base_uri": "https://localhost:8080/"
        },
        "id": "yh2PKjkIkKGy",
        "outputId": "e0c8e0f2-6f89-4850-e607-f5b3b82845e3"
      },
      "source": [
        "lr_model,report = logistic_regression_classifier(X_ros,y_ros)\n",
        "print(report)"
      ],
      "execution_count": null,
      "outputs": [
        {
          "output_type": "stream",
          "text": [
            "              precision    recall  f1-score   support\n",
            "\n",
            "          -1       0.81      0.78      0.80       995\n",
            "           1       0.77      0.80      0.78       895\n",
            "\n",
            "    accuracy                           0.79      1890\n",
            "   macro avg       0.79      0.79      0.79      1890\n",
            "weighted avg       0.79      0.79      0.79      1890\n",
            "\n"
          ],
          "name": "stdout"
        }
      ]
    },
    {
      "cell_type": "markdown",
      "metadata": {
        "id": "AgVC6acOdOv-"
      },
      "source": [
        "# Use of Indic-nlp-library for Text Processing"
      ]
    },
    {
      "cell_type": "code",
      "metadata": {
        "id": "iNY23e0icuIt"
      },
      "source": [
        "!git clone \"https://github.com/anoopkunchukuttan/indic_nlp_resources.git\""
      ],
      "execution_count": null,
      "outputs": []
    },
    {
      "cell_type": "code",
      "metadata": {
        "id": "tf99HTZrdT3U"
      },
      "source": [
        "!pip install indic-nlp-library"
      ],
      "execution_count": null,
      "outputs": []
    },
    {
      "cell_type": "code",
      "metadata": {
        "id": "6dJOx2JJdXpb"
      },
      "source": [
        "INDIC_NLP_RESOURCES=r\"/content/indic_nlp_resources\""
      ],
      "execution_count": null,
      "outputs": []
    },
    {
      "cell_type": "code",
      "metadata": {
        "id": "cxoSkbKcdyEQ"
      },
      "source": [
        "from indicnlp import common\n",
        "common.set_resources_path(INDIC_NLP_RESOURCES)"
      ],
      "execution_count": null,
      "outputs": []
    },
    {
      "cell_type": "code",
      "metadata": {
        "id": "-uER6usbd39B"
      },
      "source": [
        "from indicnlp import loader\n",
        "loader.load()"
      ],
      "execution_count": null,
      "outputs": []
    },
    {
      "cell_type": "code",
      "metadata": {
        "colab": {
          "base_uri": "https://localhost:8080/"
        },
        "id": "u4zZWMmzeBWW",
        "outputId": "ed018b09-802f-49eb-f062-f3542d7a5102"
      },
      "source": [
        "from indicnlp.tokenize import sentence_tokenize, indic_tokenize\n",
        "from indicnlp.transliterate.unicode_transliterate import UnicodeIndicTransliterator, ItransTransliterator\n",
        "string = \"திருமலை நாயக்கர் பேரவை சார்பாக படம் வெற்றி பெற வாழ்த்துக்கள்\"\n",
        "sentences = sentence_tokenize.sentence_split(string, lang='ta')\n",
        "for se in indic_tokenize.trivial_tokenize(string):\n",
        "  print(ItransTransliterator.to_itrans(se,'en'))"
      ],
      "execution_count": null,
      "outputs": [
        {
          "output_type": "stream",
          "text": [
            "திருமலை\n",
            "நாயக்கர்\n",
            "பேரவை\n",
            "சார்பாக\n",
            "படம்\n",
            "வெற்றி\n",
            "பெற\n",
            "வாழ்த்துக்கள்\n"
          ],
          "name": "stdout"
        }
      ]
    },
    {
      "cell_type": "code",
      "metadata": {
        "colab": {
          "base_uri": "https://localhost:8080/"
        },
        "id": "twPhWH1sADK1",
        "outputId": "1511ae63-69f5-4cc4-dde5-d4f042f1373d"
      },
      "source": [
        "from indicnlp.transliterate.unicode_transliterate import ItransTransliterator\n",
        "\n",
        "#input_text='राजस्थान'\n",
        "input_text='திருமலை'\n",
        "lang='ta'\n",
        "\n",
        "print(ItransTransliterator.to_itrans(input_text,lang))"
      ],
      "execution_count": null,
      "outputs": [
        {
          "output_type": "stream",
          "text": [
            "tirumalai\n"
          ],
          "name": "stdout"
        }
      ]
    },
    {
      "cell_type": "code",
      "metadata": {
        "id": "zsxVImRb_cOo"
      },
      "source": [
        ""
      ],
      "execution_count": null,
      "outputs": []
    },
    {
      "cell_type": "code",
      "metadata": {
        "id": "mgF-qR2W_43s",
        "colab": {
          "base_uri": "https://localhost:8080/",
          "height": 365,
          "referenced_widgets": [
            "6e0214c3a75747979211afc0a799b3b8",
            "6c1ee43a50ee40c5b8d244d835f36e28",
            "01152a6a6c0f45039fc6d206907688b6",
            "537389912a924408b41303f99617607c",
            "5a2cf76eb7c74b1eaced2a8b9ad5bff1",
            "6e32c6b56d7845afbfd8bbfbc3af7578",
            "9bcb0f2757d444ecb28058f58aacb711",
            "227066307b6847028e15db06fb9e2037",
            "cd79d51c4f1f42a0a26d670719941fe7",
            "ed4a72d2397c47b38d8d43d9b06a143c",
            "a9d4211887aa4bc198e61b22d4599981",
            "5140e443457e4dd8a4c73c4ea8aab35c",
            "757f699af658443ebb0b991912abf035",
            "9ea276dda0714ffb99db859c2d5ef920",
            "048a473a9d8a4e24b95a26dcd2d5b7a1",
            "d6f2d532b43e47e4a655c8b7962c39cf",
            "4109be69819846e6bf81e31d6dbcd807",
            "abc078a0f19045a3b42c38228d29ea21",
            "3c0fce32c9b6411aae473cff46cd01f2",
            "f7bd8375c7564ccb89f5a1390165e353",
            "56ef0e97d4c74d3799d58263f33d88be",
            "4dbd0bfc3c2f44ef8791582e78a4f046",
            "c7749445fcf94fdbad8c5dde1ef7c97b",
            "78fe1edc29204af5aa2fc0c41dff7478",
            "40c26100327648b4a377fccb4fba9a56",
            "80493d63daee4fc19fceb1a1ad3b3d5d",
            "6e89db9e06eb4a6f87eab36003166e75",
            "abe3d96e23c142f591a61f3b07bf4173",
            "cbe95871ce4a4890ae11bfc3ade5351b",
            "5f3823043a76419cafaf284b697ab095",
            "3500ddb92db449d39c78fc3212e70191",
            "345e7fae3f95427bac583c50a784d0be",
            "58ecef7221e04516be6c53aeebe6be2c",
            "c1c27b965c4441b892282e0844171aeb",
            "e8eec073b0b14fd98f3336a469b13289",
            "b9a3a849be614145875efb6206a9b7dc",
            "f0229ca97c0645628c6c4b7881302039",
            "3857dfc1b83c441cbf2cac899d937aa1",
            "8343448204a648db9d36babf83803c38",
            "e356038240ee4d43b7a23db9d77facca"
          ]
        },
        "outputId": "c24f1d5b-3ce4-4cfa-c06c-62b39cbda9ff"
      },
      "source": [
        "from transformers import BertTokenizer, TFBertModel\n",
        "tokenizer = BertTokenizer.from_pretrained('bert-base-multilingual-uncased')\n",
        "model = TFBertModel.from_pretrained(\"bert-base-multilingual-uncased\")\n"
      ],
      "execution_count": null,
      "outputs": [
        {
          "output_type": "display_data",
          "data": {
            "application/vnd.jupyter.widget-view+json": {
              "model_id": "6e0214c3a75747979211afc0a799b3b8",
              "version_minor": 0,
              "version_major": 2
            },
            "text/plain": [
              "HBox(children=(FloatProgress(value=0.0, description='Downloading', max=871891.0, style=ProgressStyle(descripti…"
            ]
          },
          "metadata": {
            "tags": []
          }
        },
        {
          "output_type": "stream",
          "text": [
            "\n"
          ],
          "name": "stdout"
        },
        {
          "output_type": "display_data",
          "data": {
            "application/vnd.jupyter.widget-view+json": {
              "model_id": "cd79d51c4f1f42a0a26d670719941fe7",
              "version_minor": 0,
              "version_major": 2
            },
            "text/plain": [
              "HBox(children=(FloatProgress(value=0.0, description='Downloading', max=28.0, style=ProgressStyle(description_w…"
            ]
          },
          "metadata": {
            "tags": []
          }
        },
        {
          "output_type": "stream",
          "text": [
            "\n"
          ],
          "name": "stdout"
        },
        {
          "output_type": "display_data",
          "data": {
            "application/vnd.jupyter.widget-view+json": {
              "model_id": "4109be69819846e6bf81e31d6dbcd807",
              "version_minor": 0,
              "version_major": 2
            },
            "text/plain": [
              "HBox(children=(FloatProgress(value=0.0, description='Downloading', max=1715180.0, style=ProgressStyle(descript…"
            ]
          },
          "metadata": {
            "tags": []
          }
        },
        {
          "output_type": "stream",
          "text": [
            "\n"
          ],
          "name": "stdout"
        },
        {
          "output_type": "display_data",
          "data": {
            "application/vnd.jupyter.widget-view+json": {
              "model_id": "40c26100327648b4a377fccb4fba9a56",
              "version_minor": 0,
              "version_major": 2
            },
            "text/plain": [
              "HBox(children=(FloatProgress(value=0.0, description='Downloading', max=625.0, style=ProgressStyle(description_…"
            ]
          },
          "metadata": {
            "tags": []
          }
        },
        {
          "output_type": "stream",
          "text": [
            "\n"
          ],
          "name": "stdout"
        },
        {
          "output_type": "display_data",
          "data": {
            "application/vnd.jupyter.widget-view+json": {
              "model_id": "58ecef7221e04516be6c53aeebe6be2c",
              "version_minor": 0,
              "version_major": 2
            },
            "text/plain": [
              "HBox(children=(FloatProgress(value=0.0, description='Downloading', max=999358484.0, style=ProgressStyle(descri…"
            ]
          },
          "metadata": {
            "tags": []
          }
        },
        {
          "output_type": "stream",
          "text": [
            "\n"
          ],
          "name": "stdout"
        },
        {
          "output_type": "stream",
          "text": [
            "Some layers from the model checkpoint at bert-base-multilingual-uncased were not used when initializing TFBertModel: ['nsp___cls', 'mlm___cls']\n",
            "- This IS expected if you are initializing TFBertModel from the checkpoint of a model trained on another task or with another architecture (e.g. initializing a BertForSequenceClassification model from a BertForPreTraining model).\n",
            "- This IS NOT expected if you are initializing TFBertModel from the checkpoint of a model that you expect to be exactly identical (initializing a BertForSequenceClassification model from a BertForSequenceClassification model).\n",
            "All the layers of TFBertModel were initialized from the model checkpoint at bert-base-multilingual-uncased.\n",
            "If your task is similar to the task the model of the checkpoint was trained on, you can already use TFBertModel for predictions without further training.\n"
          ],
          "name": "stderr"
        }
      ]
    },
    {
      "cell_type": "code",
      "metadata": {
        "id": "qT8st14MlFfi"
      },
      "source": [
        "text = \"திருமலை நாயக்கர் பேரவை சார்பாக படம் வெற்றி பெற வாழ்த்துக்கள்\"\n",
        "encoded_input = tokenizer(text, return_tensors='tf')\n",
        "output = model(encoded_input)"
      ],
      "execution_count": null,
      "outputs": []
    },
    {
      "cell_type": "code",
      "metadata": {
        "id": "EH8uJt4Umeyu"
      },
      "source": [
        "X_hf = df['text']\n",
        "y_hf = df['polarity']\n",
        "\n",
        "X_hf = X_hf.apply(tokenizer)"
      ],
      "execution_count": null,
      "outputs": []
    },
    {
      "cell_type": "code",
      "metadata": {
        "colab": {
          "base_uri": "https://localhost:8080/"
        },
        "id": "QvO-4BePnaBb",
        "outputId": "b582843e-f17e-4efd-e14d-b4b2e0bf68e2"
      },
      "source": [
        "X_hf[0]"
      ],
      "execution_count": null,
      "outputs": [
        {
          "output_type": "execute_result",
          "data": {
            "text/plain": [
              "{'input_ids': [101, 54552, 60211, 25088, 808, 37025, 20798, 13047, 810, 55541, 20841, 802, 15241, 85286, 12146, 810, 44042, 818, 96902, 49815, 810, 96902, 36718, 818, 13744, 40806, 95588, 12076, 102], 'token_type_ids': [0, 0, 0, 0, 0, 0, 0, 0, 0, 0, 0, 0, 0, 0, 0, 0, 0, 0, 0, 0, 0, 0, 0, 0, 0, 0, 0, 0, 0], 'attention_mask': [1, 1, 1, 1, 1, 1, 1, 1, 1, 1, 1, 1, 1, 1, 1, 1, 1, 1, 1, 1, 1, 1, 1, 1, 1, 1, 1, 1, 1]}"
            ]
          },
          "metadata": {
            "tags": []
          },
          "execution_count": 69
        }
      ]
    },
    {
      "cell_type": "code",
      "metadata": {
        "id": "KWTke5wuohtC"
      },
      "source": [
        "import numpy as np"
      ],
      "execution_count": null,
      "outputs": []
    },
    {
      "cell_type": "code",
      "metadata": {
        "colab": {
          "base_uri": "https://localhost:8080/"
        },
        "id": "pwMsNGqwm68p",
        "outputId": "2a5bceed-9cc4-4cfc-9617-9d52a8525989"
      },
      "source": [
        "# Remove Unnecessary keys and values from the embeddings\n",
        "X_train = []\n",
        "for text in X_hf:\n",
        "  text.pop('token_type_ids')\n",
        "  text.pop('attention_mask')\n",
        "  X_train.append(np.array(text['input_ids']))\n",
        "\n",
        "print(\"Finished\")"
      ],
      "execution_count": null,
      "outputs": [
        {
          "output_type": "stream",
          "text": [
            "Finished\n"
          ],
          "name": "stdout"
        }
      ]
    },
    {
      "cell_type": "code",
      "metadata": {
        "colab": {
          "base_uri": "https://localhost:8080/",
          "height": 945
        },
        "id": "Oo0fLhUsoQ26",
        "outputId": "3a53c508-e2c4-47c2-d20a-5ecca8862fce"
      },
      "source": [
        "X_ros,y_ros = ros.fit_resample(X_train,y_hf)"
      ],
      "execution_count": null,
      "outputs": [
        {
          "output_type": "stream",
          "text": [
            "/usr/local/lib/python3.7/dist-packages/numpy/core/_asarray.py:83: VisibleDeprecationWarning: Creating an ndarray from ragged nested sequences (which is a list-or-tuple of lists-or-tuples-or ndarrays with different lengths or shapes) is deprecated. If you meant to do this, you must specify 'dtype=object' when creating the ndarray\n",
            "  return array(a, dtype, copy=False, order=order)\n"
          ],
          "name": "stderr"
        },
        {
          "output_type": "error",
          "ename": "ValueError",
          "evalue": "ignored",
          "traceback": [
            "\u001b[0;31m---------------------------------------------------------------------------\u001b[0m",
            "\u001b[0;31mValueError\u001b[0m                                Traceback (most recent call last)",
            "\u001b[0;32m<ipython-input-72-d3a4f9906cdf>\u001b[0m in \u001b[0;36m<module>\u001b[0;34m()\u001b[0m\n\u001b[0;32m----> 1\u001b[0;31m \u001b[0mX_ros\u001b[0m\u001b[0;34m,\u001b[0m\u001b[0my_ros\u001b[0m \u001b[0;34m=\u001b[0m \u001b[0mros\u001b[0m\u001b[0;34m.\u001b[0m\u001b[0mfit_resample\u001b[0m\u001b[0;34m(\u001b[0m\u001b[0mX_train\u001b[0m\u001b[0;34m,\u001b[0m\u001b[0my_hf\u001b[0m\u001b[0;34m)\u001b[0m\u001b[0;34m\u001b[0m\u001b[0;34m\u001b[0m\u001b[0m\n\u001b[0m",
            "\u001b[0;32m/usr/local/lib/python3.7/dist-packages/imblearn/base.py\u001b[0m in \u001b[0;36mfit_resample\u001b[0;34m(self, X, y)\u001b[0m\n\u001b[1;32m     78\u001b[0m         \u001b[0mself\u001b[0m\u001b[0;34m.\u001b[0m\u001b[0m_deprecate_ratio\u001b[0m\u001b[0;34m(\u001b[0m\u001b[0;34m)\u001b[0m\u001b[0;34m\u001b[0m\u001b[0;34m\u001b[0m\u001b[0m\n\u001b[1;32m     79\u001b[0m \u001b[0;34m\u001b[0m\u001b[0m\n\u001b[0;32m---> 80\u001b[0;31m         \u001b[0mX\u001b[0m\u001b[0;34m,\u001b[0m \u001b[0my\u001b[0m\u001b[0;34m,\u001b[0m \u001b[0mbinarize_y\u001b[0m \u001b[0;34m=\u001b[0m \u001b[0mself\u001b[0m\u001b[0;34m.\u001b[0m\u001b[0m_check_X_y\u001b[0m\u001b[0;34m(\u001b[0m\u001b[0mX\u001b[0m\u001b[0;34m,\u001b[0m \u001b[0my\u001b[0m\u001b[0;34m)\u001b[0m\u001b[0;34m\u001b[0m\u001b[0;34m\u001b[0m\u001b[0m\n\u001b[0m\u001b[1;32m     81\u001b[0m \u001b[0;34m\u001b[0m\u001b[0m\n\u001b[1;32m     82\u001b[0m         self.sampling_strategy_ = check_sampling_strategy(\n",
            "\u001b[0;32m/usr/local/lib/python3.7/dist-packages/imblearn/over_sampling/_random_over_sampler.py\u001b[0m in \u001b[0;36m_check_X_y\u001b[0;34m(X, y)\u001b[0m\n\u001b[1;32m     93\u001b[0m     \u001b[0;32mdef\u001b[0m \u001b[0m_check_X_y\u001b[0m\u001b[0;34m(\u001b[0m\u001b[0mX\u001b[0m\u001b[0;34m,\u001b[0m \u001b[0my\u001b[0m\u001b[0;34m)\u001b[0m\u001b[0;34m:\u001b[0m\u001b[0;34m\u001b[0m\u001b[0;34m\u001b[0m\u001b[0m\n\u001b[1;32m     94\u001b[0m         \u001b[0my\u001b[0m\u001b[0;34m,\u001b[0m \u001b[0mbinarize_y\u001b[0m \u001b[0;34m=\u001b[0m \u001b[0mcheck_target_type\u001b[0m\u001b[0;34m(\u001b[0m\u001b[0my\u001b[0m\u001b[0;34m,\u001b[0m \u001b[0mindicate_one_vs_all\u001b[0m\u001b[0;34m=\u001b[0m\u001b[0;32mTrue\u001b[0m\u001b[0;34m)\u001b[0m\u001b[0;34m\u001b[0m\u001b[0;34m\u001b[0m\u001b[0m\n\u001b[0;32m---> 95\u001b[0;31m         \u001b[0mX\u001b[0m\u001b[0;34m,\u001b[0m \u001b[0my\u001b[0m \u001b[0;34m=\u001b[0m \u001b[0mcheck_X_y\u001b[0m\u001b[0;34m(\u001b[0m\u001b[0mX\u001b[0m\u001b[0;34m,\u001b[0m \u001b[0my\u001b[0m\u001b[0;34m,\u001b[0m \u001b[0maccept_sparse\u001b[0m\u001b[0;34m=\u001b[0m\u001b[0;34m[\u001b[0m\u001b[0;34m'csr'\u001b[0m\u001b[0;34m,\u001b[0m \u001b[0;34m'csc'\u001b[0m\u001b[0;34m]\u001b[0m\u001b[0;34m,\u001b[0m \u001b[0mdtype\u001b[0m\u001b[0;34m=\u001b[0m\u001b[0;32mNone\u001b[0m\u001b[0;34m)\u001b[0m\u001b[0;34m\u001b[0m\u001b[0;34m\u001b[0m\u001b[0m\n\u001b[0m\u001b[1;32m     96\u001b[0m         \u001b[0;32mreturn\u001b[0m \u001b[0mX\u001b[0m\u001b[0;34m,\u001b[0m \u001b[0my\u001b[0m\u001b[0;34m,\u001b[0m \u001b[0mbinarize_y\u001b[0m\u001b[0;34m\u001b[0m\u001b[0;34m\u001b[0m\u001b[0m\n\u001b[1;32m     97\u001b[0m \u001b[0;34m\u001b[0m\u001b[0m\n",
            "\u001b[0;32m/usr/local/lib/python3.7/dist-packages/sklearn/utils/validation.py\u001b[0m in \u001b[0;36mcheck_X_y\u001b[0;34m(X, y, accept_sparse, accept_large_sparse, dtype, order, copy, force_all_finite, ensure_2d, allow_nd, multi_output, ensure_min_samples, ensure_min_features, y_numeric, warn_on_dtype, estimator)\u001b[0m\n\u001b[1;32m    753\u001b[0m                     \u001b[0mensure_min_features\u001b[0m\u001b[0;34m=\u001b[0m\u001b[0mensure_min_features\u001b[0m\u001b[0;34m,\u001b[0m\u001b[0;34m\u001b[0m\u001b[0;34m\u001b[0m\u001b[0m\n\u001b[1;32m    754\u001b[0m                     \u001b[0mwarn_on_dtype\u001b[0m\u001b[0;34m=\u001b[0m\u001b[0mwarn_on_dtype\u001b[0m\u001b[0;34m,\u001b[0m\u001b[0;34m\u001b[0m\u001b[0;34m\u001b[0m\u001b[0m\n\u001b[0;32m--> 755\u001b[0;31m                     estimator=estimator)\n\u001b[0m\u001b[1;32m    756\u001b[0m     \u001b[0;32mif\u001b[0m \u001b[0mmulti_output\u001b[0m\u001b[0;34m:\u001b[0m\u001b[0;34m\u001b[0m\u001b[0;34m\u001b[0m\u001b[0m\n\u001b[1;32m    757\u001b[0m         y = check_array(y, 'csr', force_all_finite=True, ensure_2d=False,\n",
            "\u001b[0;32m/usr/local/lib/python3.7/dist-packages/sklearn/utils/validation.py\u001b[0m in \u001b[0;36mcheck_array\u001b[0;34m(array, accept_sparse, accept_large_sparse, dtype, order, copy, force_all_finite, ensure_2d, allow_nd, ensure_min_samples, ensure_min_features, warn_on_dtype, estimator)\u001b[0m\n\u001b[1;32m    554\u001b[0m                     \u001b[0;34m\"Reshape your data either using array.reshape(-1, 1) if \"\u001b[0m\u001b[0;34m\u001b[0m\u001b[0;34m\u001b[0m\u001b[0m\n\u001b[1;32m    555\u001b[0m                     \u001b[0;34m\"your data has a single feature or array.reshape(1, -1) \"\u001b[0m\u001b[0;34m\u001b[0m\u001b[0;34m\u001b[0m\u001b[0m\n\u001b[0;32m--> 556\u001b[0;31m                     \"if it contains a single sample.\".format(array))\n\u001b[0m\u001b[1;32m    557\u001b[0m \u001b[0;34m\u001b[0m\u001b[0m\n\u001b[1;32m    558\u001b[0m         \u001b[0;31m# in the future np.flexible dtypes will be handled like object dtypes\u001b[0m\u001b[0;34m\u001b[0m\u001b[0;34m\u001b[0m\u001b[0;34m\u001b[0m\u001b[0m\n",
            "\u001b[0;31mValueError\u001b[0m: Expected 2D array, got 1D array instead:\narray=[array([  101, 54552, 60211, 25088,   808, 37025, 20798, 13047,   810,\n       55541, 20841,   802, 15241, 85286, 12146,   810, 44042,   818,\n       96902, 49815,   810, 96902, 36718,   818, 13744, 40806, 95588,\n       12076,   102])\n array([  101, 15506,   805, 13047, 96902, 50064, 13047,   800, 57050,\n       17544,   810, 15241, 75963, 36718,   811, 84709, 30859, 87378,\n         119,   119,   791, 26470, 54552, 55316, 60694,   815,   810,\n       85731,   810, 15241, 20798, 12860, 13411, 13744,   119,   119,\n         119,   102])\n array([  101,   811, 13120, 15490, 21623, 18619,   802, 58049, 23344,\n       46071, 13047,   802, 12005, 57050, 12146, 19270,   802, 15241,\n       85286, 12146,   791, 12382, 78556, 12005,   818, 96902, 49815,\n       12382, 96902, 36718,   818, 13744, 40806, 95588, 14513, 36718,\n       19563, 12860,   102])\n ...\n array([  101,   800, 26470,   807, 96902, 73818, 48286, 61573, 67692,\n         811, 80431, 88923, 82394, 16341, 45647,   818, 13744, 40806,\n       95588, 12076,   810, 43581, 38968,   802, 15241, 85286, 12146,\n         808, 68358, 14513, 74112, 14178, 12860,   803, 14513,   102])\n array([  101,   789, 17544,   810, 13047, 26577, 16112, 25088, 55316,\n         129,   119,   126, 54352, 18786, 25088, 12146, 18786,   810,\n       30276, 53330, 18619, 54910, 18619, 58718,   119,   119,   810,\n       13047, 26577, 16112,   818, 15024, 14513, 25744,   795, 57799,\n       96899, 34646,   802, 13744, 20222, 58718, 17544, 13744,   802,\n       13744, 20222, 58718, 17544, 13744,   802, 63735, 13744, 48572,\n         808, 37025, 16041, 13744,   119,   119, 74230, 12860, 13411,\n         808, 14513, 43581, 15024, 54352, 18786, 25088, 12146, 18786,\n         795, 19181, 13047,   810, 63735, 18619, 89494,   119,   119,\n         102])\n array([  101,   793, 13672, 15024, 96900, 14513, 19181, 18727,   808,\n       23344, 18570,   818, 13047, 13146, 12860, 18619,   802, 96902,\n       16112, 13047, 26577, 58718,   815, 44786,   810, 30276, 22748,\n       16041,   119,   119,   119,   102])].\nReshape your data either using array.reshape(-1, 1) if your data has a single feature or array.reshape(1, -1) if it contains a single sample."
          ]
        }
      ]
    },
    {
      "cell_type": "markdown",
      "metadata": {
        "id": "ZaoEf4SHbuR0"
      },
      "source": [
        "# Get Emoji Embeddings"
      ]
    },
    {
      "cell_type": "code",
      "metadata": {
        "id": "HFS1-nwkoZ3n",
        "colab": {
          "base_uri": "https://localhost:8080/"
        },
        "outputId": "c6d85feb-c5fa-4f61-ade2-75e0154908d4"
      },
      "source": [
        "!pip install gensim"
      ],
      "execution_count": 1,
      "outputs": [
        {
          "output_type": "stream",
          "text": [
            "Requirement already satisfied: gensim in /usr/local/lib/python3.7/dist-packages (3.6.0)\n",
            "Requirement already satisfied: six>=1.5.0 in /usr/local/lib/python3.7/dist-packages (from gensim) (1.15.0)\n",
            "Requirement already satisfied: scipy>=0.18.1 in /usr/local/lib/python3.7/dist-packages (from gensim) (1.4.1)\n",
            "Requirement already satisfied: smart-open>=1.2.1 in /usr/local/lib/python3.7/dist-packages (from gensim) (5.1.0)\n",
            "Requirement already satisfied: numpy>=1.11.3 in /usr/local/lib/python3.7/dist-packages (from gensim) (1.19.5)\n"
          ],
          "name": "stdout"
        }
      ]
    },
    {
      "cell_type": "code",
      "metadata": {
        "colab": {
          "base_uri": "https://localhost:8080/"
        },
        "id": "tDsM8uR4-U-S",
        "outputId": "ae5d1f7a-92c0-4d8f-f403-e580c52ad468"
      },
      "source": [
        "!git clone \"https://github.com/uclnlp/emoji2vec.git\""
      ],
      "execution_count": 2,
      "outputs": [
        {
          "output_type": "stream",
          "text": [
            "Cloning into 'emoji2vec'...\n",
            "remote: Enumerating objects: 62, done.\u001b[K\n",
            "remote: Counting objects: 100% (3/3), done.\u001b[K\n",
            "remote: Compressing objects: 100% (3/3), done.\u001b[K\n",
            "remote: Total 62 (delta 0), reused 1 (delta 0), pack-reused 59\u001b[K\n",
            "Unpacking objects: 100% (62/62), done.\n"
          ],
          "name": "stdout"
        }
      ]
    },
    {
      "cell_type": "code",
      "metadata": {
        "id": "wBk-dTKm91fi"
      },
      "source": [
        "import gensim.models as gsm\n",
        "\n",
        "e2v = gsm.KeyedVectors.load_word2vec_format('/content/emoji2vec/pre-trained/emoji2vec.bin', binary=True)\n",
        "happy_vector = e2v['😂']    # Produces an embedding vector of length 300"
      ],
      "execution_count": 3,
      "outputs": []
    },
    {
      "cell_type": "code",
      "metadata": {
        "colab": {
          "base_uri": "https://localhost:8080/"
        },
        "id": "m1ToZPwF-AjR",
        "outputId": "612c3a81-b2b7-4721-d9ca-5b93b5862141"
      },
      "source": [
        "print(happy_vector)"
      ],
      "execution_count": 4,
      "outputs": [
        {
          "output_type": "stream",
          "text": [
            "[ 0.00368995 -0.00747812  0.04797658  0.0592004  -0.0594517  -0.01919357\n",
            "  0.06628808 -0.06752758  0.10211562  0.087887   -0.02949324 -0.07718539\n",
            " -0.07068242  0.04688684 -0.07970048  0.09425059  0.06230384  0.09221437\n",
            " -0.03019106 -0.08475313  0.06153254  0.08948752  0.07492744 -0.0697182\n",
            "  0.02842957 -0.07775956 -0.00585377 -0.01818646  0.07633407 -0.09874155\n",
            " -0.05507204  0.04539224  0.00842756 -0.06562244 -0.04902945 -0.05832005\n",
            "  0.07070394  0.05070673  0.05466724  0.08123799  0.06764334 -0.09264724\n",
            "  0.07862549 -0.03581576  0.02264971 -0.00622183 -0.0318586   0.0421854\n",
            " -0.05610641  0.07420981 -0.06671992 -0.05842454  0.03449175  0.07620545\n",
            "  0.08768762  0.03041447 -0.05500258 -0.03190211  0.07291865 -0.04514114\n",
            " -0.0541351   0.05987531 -0.0346354  -0.01317827  0.00849659 -0.01372368\n",
            " -0.01279207 -0.01283779 -0.07702036  0.09149366  0.0390107   0.07108027\n",
            " -0.01238731  0.08397982 -0.08521689 -0.06615324  0.02603729  0.07916152\n",
            "  0.08146766  0.09780202 -0.05352468  0.03703088  0.02943622 -0.0411319\n",
            " -0.08929481 -0.00907463 -0.07406733  0.07654026  0.07333956  0.03913452\n",
            " -0.03275327  0.0839721  -0.09473041 -0.02795571 -0.10102268  0.03562701\n",
            "  0.06465388  0.00239606 -0.01363948 -0.04439699 -0.0908874   0.03828626\n",
            "  0.03901853 -0.01020065 -0.00448968  0.07071512  0.04707636  0.00378791\n",
            "  0.05759984  0.01114361 -0.03391467  0.00760981  0.06322926 -0.0880087\n",
            "  0.06876363 -0.07912473 -0.0028417  -0.06997126  0.02684613 -0.07514256\n",
            " -0.07525261  0.04538977 -0.01857131 -0.09254144  0.01272622 -0.06651675\n",
            " -0.07780645 -0.00054866  0.01530222 -0.06704907 -0.09591693 -0.04216382\n",
            " -0.05920067  0.04180467 -0.08473751 -0.0091961  -0.01856733  0.06411888\n",
            " -0.01504513  0.00653571  0.03186707 -0.04212012  0.07634199 -0.08881496\n",
            " -0.07597502  0.03467466 -0.08546355 -0.05052061  0.0900829  -0.08306081\n",
            "  0.09260429  0.08704868 -0.0360002   0.02944678 -0.05743967 -0.00339006\n",
            " -0.06426711  0.04361258 -0.07921562 -0.0765662   0.01060756  0.06268018\n",
            "  0.08522304  0.06723925  0.07288557 -0.09302333  0.02477937  0.01172222\n",
            "  0.00479384  0.02157678  0.01548687 -0.07941901 -0.01285125 -0.01106149\n",
            " -0.05682039  0.01480553  0.07593461 -0.02521644  0.0160483  -0.02013016\n",
            " -0.0006516  -0.0474901   0.079786    0.08490966 -0.07243283  0.03765685\n",
            " -0.08713188  0.03943245 -0.06611194 -0.03412999  0.02676374 -0.07299029\n",
            "  0.0697734  -0.05803109  0.08248405  0.06971692 -0.08738452 -0.00018618\n",
            " -0.07082236 -0.04650601 -0.05312995  0.0649436  -0.05497617 -0.07783619\n",
            "  0.06110686 -0.05441086 -0.0623476   0.04429746 -0.05169839  0.07030815\n",
            " -0.04818415  0.05482576 -0.05496503 -0.07783284 -0.08059028  0.06439808\n",
            " -0.00520644 -0.0330755  -0.07652996 -0.01107413 -0.00750746  0.08184698\n",
            "  0.04372175  0.07949491 -0.00567428 -0.0624898   0.02245951 -0.00251985\n",
            " -0.02233904 -0.06598     0.05270914 -0.01273476 -0.08402091  0.03170872\n",
            "  0.03557813 -0.00872936 -0.0292008  -0.05209661  0.08882122  0.08563904\n",
            "  0.06974573  0.04504047 -0.06368353 -0.02415369 -0.07969051  0.09035778\n",
            "  0.05923794  0.04466449  0.00783385 -0.03746437  0.00996592  0.02965579\n",
            "  0.05722547  0.08226684  0.01086137 -0.07542461 -0.07651414 -0.00404104\n",
            " -0.08048932 -0.04402169 -0.07493835  0.00871058  0.03949443  0.056054\n",
            "  0.02210577  0.00656221  0.02639471  0.0557919   0.01582586 -0.00514857\n",
            " -0.05831469  0.08793064  0.08895694 -0.0292627   0.07007831 -0.0333305\n",
            " -0.08543444 -0.00450068 -0.06502454 -0.00331638  0.06480967 -0.0196905\n",
            " -0.04076313  0.02563368  0.06550946 -0.06623957  0.06932179  0.03883428\n",
            " -0.02262465  0.03270576 -0.06228965  0.01850435 -0.09290913 -0.05605437\n",
            " -0.09467187 -0.0215614  -0.02299731 -0.06261437  0.00722107 -0.04899564]\n"
          ],
          "name": "stdout"
        }
      ]
    },
    {
      "cell_type": "markdown",
      "metadata": {
        "id": "QSbkzKJYBI63"
      },
      "source": [
        "# Dataset Expansion using INDIC NLP Romanization Module"
      ]
    },
    {
      "cell_type": "code",
      "metadata": {
        "colab": {
          "base_uri": "https://localhost:8080/"
        },
        "id": "5Zlpd-IDBN0Y",
        "outputId": "a31daf5d-1c46-4a8d-d2cf-2a6de6dc3f00"
      },
      "source": [
        "from indicnlp.transliterate.unicode_transliterate import ItransTransliterator\n",
        "\n",
        "input_text='திருமலை'\n",
        "lang='ta'\n",
        "\n",
        "print(ItransTransliterator.to_itrans(input_text,lang))"
      ],
      "execution_count": null,
      "outputs": [
        {
          "output_type": "stream",
          "text": [
            "tirumalai\n"
          ],
          "name": "stdout"
        }
      ]
    },
    {
      "cell_type": "code",
      "metadata": {
        "id": "4_T2F2ppBd2G"
      },
      "source": [
        "English_Tamil_comments = []\n",
        "id = 0\n",
        "id_list = []\n",
        "\n",
        "for text in df['text']:\n",
        "  id_list.append(str(\"eng{}\".format(id)))\n",
        "  English_Tamil_comments.append((ItransTransliterator.to_itrans(text,'ta')))\n",
        "  id +=1"
      ],
      "execution_count": null,
      "outputs": []
    },
    {
      "cell_type": "code",
      "metadata": {
        "id": "by58WSp2Bj-V"
      },
      "source": [
        "dict_ = {'id':id_list,'text':English_Tamil_comments, 'category':df['category']}"
      ],
      "execution_count": null,
      "outputs": []
    },
    {
      "cell_type": "code",
      "metadata": {
        "id": "PluOpcBFCuYy"
      },
      "source": [
        "new_df = pd.DataFrame.from_dict(dict_)\n",
        "df = df.append(new_df,ignore_index=True)"
      ],
      "execution_count": null,
      "outputs": []
    },
    {
      "cell_type": "markdown",
      "metadata": {
        "id": "OsPz8xCZpJ3r"
      },
      "source": [
        "# Add English Translated Comments to Data"
      ]
    },
    {
      "cell_type": "code",
      "metadata": {
        "colab": {
          "base_uri": "https://localhost:8080/",
          "height": 525
        },
        "id": "wUTva67MrTlD",
        "outputId": "51e0022a-fd53-45c0-b697-4384a42eeddb"
      },
      "source": [
        "!pip install googletrans==3.1.0a0"
      ],
      "execution_count": null,
      "outputs": [
        {
          "output_type": "stream",
          "text": [
            "Collecting googletrans==3.1.0a0\n",
            "  Downloading https://files.pythonhosted.org/packages/19/3d/4e3a1609bf52f2f7b00436cc751eb977e27040665dde2bd57e7152989672/googletrans-3.1.0a0.tar.gz\n",
            "Requirement already satisfied: httpx==0.13.3 in /usr/local/lib/python3.7/dist-packages (from googletrans==3.1.0a0) (0.13.3)\n",
            "Requirement already satisfied: idna==2.* in /usr/local/lib/python3.7/dist-packages (from httpx==0.13.3->googletrans==3.1.0a0) (2.10)\n",
            "Requirement already satisfied: certifi in /usr/local/lib/python3.7/dist-packages (from httpx==0.13.3->googletrans==3.1.0a0) (2021.5.30)\n",
            "Requirement already satisfied: rfc3986<2,>=1.3 in /usr/local/lib/python3.7/dist-packages (from httpx==0.13.3->googletrans==3.1.0a0) (1.5.0)\n",
            "Requirement already satisfied: sniffio in /usr/local/lib/python3.7/dist-packages (from httpx==0.13.3->googletrans==3.1.0a0) (1.2.0)\n",
            "Requirement already satisfied: hstspreload in /usr/local/lib/python3.7/dist-packages (from httpx==0.13.3->googletrans==3.1.0a0) (2020.12.22)\n",
            "Requirement already satisfied: httpcore==0.9.* in /usr/local/lib/python3.7/dist-packages (from httpx==0.13.3->googletrans==3.1.0a0) (0.9.1)\n",
            "Requirement already satisfied: chardet==3.* in /usr/local/lib/python3.7/dist-packages (from httpx==0.13.3->googletrans==3.1.0a0) (3.0.4)\n",
            "Requirement already satisfied: h2==3.* in /usr/local/lib/python3.7/dist-packages (from httpcore==0.9.*->httpx==0.13.3->googletrans==3.1.0a0) (3.2.0)\n",
            "Requirement already satisfied: h11<0.10,>=0.8 in /usr/local/lib/python3.7/dist-packages (from httpcore==0.9.*->httpx==0.13.3->googletrans==3.1.0a0) (0.9.0)\n",
            "Requirement already satisfied: hpack<4,>=3.0 in /usr/local/lib/python3.7/dist-packages (from h2==3.*->httpcore==0.9.*->httpx==0.13.3->googletrans==3.1.0a0) (3.0.0)\n",
            "Requirement already satisfied: hyperframe<6,>=5.2.0 in /usr/local/lib/python3.7/dist-packages (from h2==3.*->httpcore==0.9.*->httpx==0.13.3->googletrans==3.1.0a0) (5.2.0)\n",
            "Building wheels for collected packages: googletrans\n",
            "  Building wheel for googletrans (setup.py) ... \u001b[?25l\u001b[?25hdone\n",
            "  Created wheel for googletrans: filename=googletrans-3.1.0a0-cp37-none-any.whl size=16368 sha256=f6f1565873f6a96c75c3e22511518e5260a0ccbb2317aeb5476c26f92535221d\n",
            "  Stored in directory: /root/.cache/pip/wheels/27/7a/a0/aff3babbb775549ce6813cb8fa7ff3c0848c4dc62c20f8fdac\n",
            "Successfully built googletrans\n",
            "Installing collected packages: googletrans\n",
            "  Found existing installation: googletrans 4.0.0rc1\n",
            "    Uninstalling googletrans-4.0.0rc1:\n",
            "      Successfully uninstalled googletrans-4.0.0rc1\n",
            "Successfully installed googletrans-3.1.0a0\n"
          ],
          "name": "stdout"
        },
        {
          "output_type": "display_data",
          "data": {
            "application/vnd.colab-display-data+json": {
              "pip_warning": {
                "packages": [
                  "googletrans"
                ]
              }
            }
          },
          "metadata": {
            "tags": []
          }
        }
      ]
    },
    {
      "cell_type": "code",
      "metadata": {
        "colab": {
          "base_uri": "https://localhost:8080/"
        },
        "id": "nGm7x3lpxQpG",
        "outputId": "0e380442-7d3c-435b-9639-7052b9cfe20f"
      },
      "source": [
        "!pip uninstall googletrans"
      ],
      "execution_count": null,
      "outputs": [
        {
          "output_type": "stream",
          "text": [
            "Uninstalling googletrans-3.1.0a0:\n",
            "  Would remove:\n",
            "    /usr/local/bin/translate\n",
            "    /usr/local/lib/python3.7/dist-packages/googletrans-3.1.0a0.dist-info/*\n",
            "    /usr/local/lib/python3.7/dist-packages/googletrans/*\n",
            "Proceed (y/n)? "
          ],
          "name": "stdout"
        }
      ]
    },
    {
      "cell_type": "code",
      "metadata": {
        "id": "rYZYy7_Aqws2"
      },
      "source": [
        "from googletrans import Translator, constants\n",
        "translator = Translator()"
      ],
      "execution_count": null,
      "outputs": []
    },
    {
      "cell_type": "code",
      "metadata": {
        "colab": {
          "base_uri": "https://localhost:8080/"
        },
        "id": "jxoZ9CMfq-NN",
        "outputId": "15a3464b-5ab7-40e0-fb12-42e71fe043ab"
      },
      "source": [
        "translation = translator.translate(\"திருமலை நாயக்கர் பேரவை சார்பாக படம் வெற்றி பெற வாழ்த்துக்கள்\")\n",
        "print(translation.text)"
      ],
      "execution_count": null,
      "outputs": [
        {
          "output_type": "stream",
          "text": [
            "திருமலை நாயக்கர் பேரவை சார்பாக படம் வெற்றி பெற வாழ்த்துக்கள்\n"
          ],
          "name": "stdout"
        }
      ]
    },
    {
      "cell_type": "code",
      "metadata": {
        "id": "qFoS3-p6sFz_"
      },
      "source": [
        "Tamil_translated_comments = []\n",
        "id = 0\n",
        "id_list = []\n",
        "\n",
        "for text in df['text']:\n",
        "  id_list.append(str(\"trans_{}\".format(id)))\n",
        "  id +=1\n",
        "  if id < 2370:\n",
        "    continue\n",
        "  translator.raise_Exception = True\n",
        "  translation = translator.translate(text)\n",
        "  print(id)\n",
        "  Tamil_translated_comments.append(translation.text)\n",
        "  \n",
        "  \n",
        "print(Tamil_translated_comments)"
      ],
      "execution_count": null,
      "outputs": []
    },
    {
      "cell_type": "code",
      "metadata": {
        "id": "Q_ETLD_Y_6Q_"
      },
      "source": [
        "import pickle\n",
        "with open(\"tamil_english_translated_2.pkl\",\"wb\") as f:\n",
        "  pickle.dump(Tamil_translated_comments,f)"
      ],
      "execution_count": null,
      "outputs": []
    },
    {
      "cell_type": "code",
      "metadata": {
        "id": "ox9Gvy9LZxCV"
      },
      "source": [
        "import pickle\n",
        "with open(\"/content/tamil_english_translated.pkl\",\"rb\") as f:\n",
        "  list_1 = pickle.load(f)"
      ],
      "execution_count": null,
      "outputs": []
    },
    {
      "cell_type": "code",
      "metadata": {
        "id": "rjht2vaZ1jBn"
      },
      "source": [
        "all_comments = list_1+Tamil_translated_comments"
      ],
      "execution_count": null,
      "outputs": []
    },
    {
      "cell_type": "code",
      "metadata": {
        "colab": {
          "base_uri": "https://localhost:8080/"
        },
        "id": "1PYUx3-G72V7",
        "outputId": "4764a17c-f90d-4e6d-9192-a7d4b4a76ebc"
      },
      "source": [
        "print(len(df['text']))"
      ],
      "execution_count": null,
      "outputs": [
        {
          "output_type": "stream",
          "text": [
            "5880\n"
          ],
          "name": "stdout"
        }
      ]
    },
    {
      "cell_type": "code",
      "metadata": {
        "colab": {
          "base_uri": "https://localhost:8080/"
        },
        "id": "spH5vFpS7zV8",
        "outputId": "efc2256a-30c4-4a61-f1d6-5e6a403bd4cc"
      },
      "source": [
        "print(len(all_comments))"
      ],
      "execution_count": null,
      "outputs": [
        {
          "output_type": "stream",
          "text": [
            "5881\n"
          ],
          "name": "stdout"
        }
      ]
    },
    {
      "cell_type": "code",
      "metadata": {
        "colab": {
          "base_uri": "https://localhost:8080/"
        },
        "id": "VMCaSHg0KKBF",
        "outputId": "d6e2f51e-84a4-4c5e-8a4d-e37c1daf260a"
      },
      "source": [
        "print(all_comments[5880])"
      ],
      "execution_count": null,
      "outputs": [
        {
          "output_type": "stream",
          "text": [
            "உதயநிதிக்கு நடிப்பு வரலனு சொல்ரவங்க லைக் போடுங்கள் ...\n"
          ],
          "name": "stdout"
        }
      ]
    },
    {
      "cell_type": "code",
      "metadata": {
        "colab": {
          "base_uri": "https://localhost:8080/",
          "height": 128
        },
        "id": "M1j-g6HIsyg1",
        "outputId": "462d2c82-c498-43f3-b066-6f89261dbbee"
      },
      "source": [
        "#dict_ = {'id':id_list,'text':Tamil_translated_comments, 'category':df['category']}\n",
        "dict_ = {text':Tamil_translated_comments}"
      ],
      "execution_count": null,
      "outputs": [
        {
          "output_type": "error",
          "ename": "SyntaxError",
          "evalue": "ignored",
          "traceback": [
            "\u001b[0;36m  File \u001b[0;32m\"<ipython-input-23-28aea0002a3a>\"\u001b[0;36m, line \u001b[0;32m2\u001b[0m\n\u001b[0;31m    dict_ = {text':Tamil_translated_comments}\u001b[0m\n\u001b[0m                                             ^\u001b[0m\n\u001b[0;31mSyntaxError\u001b[0m\u001b[0;31m:\u001b[0m EOL while scanning string literal\n"
          ]
        }
      ]
    },
    {
      "cell_type": "code",
      "metadata": {
        "colab": {
          "base_uri": "https://localhost:8080/"
        },
        "id": "Frd-iN0z_n3X",
        "outputId": "a11a5ddd-fc57-41b8-dadc-6cbc9d3dfe80"
      },
      "source": [
        "print(Tamil_translated_comments)"
      ],
      "execution_count": null,
      "outputs": [
        {
          "output_type": "stream",
          "text": [
            "['Congratulations to win the film on behalf of Thirumalai Nayakar', 'This trailer does not even see the model .. this is the theater go and see ..', 'I congratulate this film on behalf of Mysore Chettiar community', 'Total caste is a nickname for a caste ...', 'Only for Vijay Sethupathi and str', 'This is why Psycho Picture is Burly', 'Mutha and the caste paint will now come to Mohan and the caste dye', 'Success to the film on behalf of all people who speak in Tamil Nadu', 'We are important for both of us to cut the hand of the yaroo', 'The picture is more realistic than that', 'This movie is dominated by the Tamil cinema, getting the great success,', 'We were Mohan Anna, anxiety', 'Congratulations on behalf of the people in Tamil Nadu ... Papa according to the caste.You have a lot of offers (for the flow)) Puba.', 'I looked at 105 times.Kilker, Beautiful ...', 'If the society is society, let the poison in the blowing air.', 'Brother ... You are everything YouTube-Gaya ??Despite any Video VIDEO Likes is the update is the views update ... Puthusa Jio Sim Vangi Puthusa YouTube LA Pakravanga Ellam Konjam Silent AH Iruntha Nalla Irukum ...', \"Strength of Ilayarajah's Music Picture\", 'Congratulations on behalf of Thiruvannamalai Sabila', \"The proletariat of the People's Villupuram Northern District Confirmation\", 'Music in the ears .. Imagineing of the eyes.', 'Draupati movie on behalf of the heroic Vanniaras 🦁', 'Politics can not be exposed to a Rajapide', '#Surya Thank you very much for the peasant pancakes', 'Director Congratulations on behalf of the Nadar community', 'Anna Midnie Gas Gadenu I Happy Dai This is the remainder of the Gos', 'Congratulations to win this movie on behalf of Deepan Airdo Protection Force', \"There is no choice to discredit my shemale girl not a drama love.The female female race in Aryan law.To eradicate the lower term.In fact, Aryan is to take a picture.This is a political theater cinema.This is a planned slander.Let's make humanity.\", 'It is clear that these rearers are cheating this movie and everyone should always see this movie', \"If only the cultivation of our conspirator, the woven, the garment will only be dressed, if I'm dressed only if I'm dressed, everyone is finalized ........... do not ugly to our girls saying that the drama love ......\", 'Congratulations on behalf of District District District District', 'This Trillare is so FUN BOOSTA FUN BOOST ..', \"It's great for the success of the strict\", 'Surya Annan Aweso is preparing good.Surya', 'Success ... With the support of our Vanni people', 'TRAILER WOW NU', 'Congratulations to the success of the film on behalf of them ...', 'THALA NA MASSSS.BY Commander fan', 'The nations is located in the Bapapa ... clan dams areas sinning.', 'Congratulations to win the film on behalf of the current counterfeit', 'In this film, there may be okay to be pushed to Madan Babu', 'We love the Chettiar girl in the Chettiar girl, which is the head of the head of the feminine gosh, which is the pics of the Ranjith directed by Ranjith.', 'Story music cinematography is good.Ana End Missing', 'Some people have to put a torn book called this law ...', 'Congratulations on behalf of the Heart (Pillarmar, Madness, Counter)', 'Congratulations to win the film on behalf of the Pimeter Democrat', 'Congratulations to the film on behalf of the society of coarse', 'A story that has a story like this', 'All Tamil Nadu Satriunung will include the Da Da Da, what includes the Da Dai!Countdown, Thiravar, Nadar all the deities of the Hindu religion Da !!!', 'The title of the chip is super full of our soil smell', 'Congratulations on behalf of the Tamil Nadu Bromanarh Association Iyar and Iyengar !!', \"The love of the theater is to be innovative.Always be clearer than women's men.Analyzis Pannes to keep himself with a person who speaks.It takes the sample images and he does not lie down.2020th home 2060 but sorrowed ......................... s.A\", 'Thank you for the bravery of the truth.', 'Fancy .... Congratulations to win the picture', 'Picture of watching watching her orches with her caste .. # greetings # Draupati #Team', 'Congratulations to win the movie on behalf of our Nadar community ......', '100 Tickets will be offered free of charge on behalf of the throat units ...', 'Music is the love music of the born in 90 ... at school', \"On behalf of the Kongu society ..... Director Mohan's director of the proletariat party\", 'The functions of simple people for change are called revolution ......', 'How to know the comentsa Ba Dadada how many nathi', 'This is the image of the film, not the life of many.', 'Guru Kurup Kiundi Vananta Chakabaram Greetings Mohan Sir ....', \"This director of Yaru Sami?You give India ruling RSS protection, now the woman, the girl's awareness movie\", 'What a wonderful trailer Rakshit Shetty is awesome you ..', 'Drama lover movie drama sample took the sample.', 'The master of the caste elevator film pickup and kisses of the caste, the nathegamaryo housing ponna tumor can not be the same as the name of the Jadiya Davidty Bonnan Tumor Awesome The reason is that you have a painful pattern of pain and pain but the past nation of the last nation of the tremendous', 'How to Make Surya Sir How to Make Ajit Figure Trailer', 'More than this trailer .. Caments that study here are very sad ..', 'Will definitely see this movie theater', 'Packy Passengers Tired of the fuos', 'True Background for Murugadoss Cheat Rajini:', 'The only thing I have is the model model of the model of the Saw ...', 'Do not Release?Does anyone say Da ... Where is the pool of any theater', 'Congratulations to enormous success on behalf of any people.', 'The end of the nucleus is the decision of the nucleus, my opposition is to decide ..., do you have a friend?Home enemy .........', 'The 2000 year slave meetings are just a joy!', 'Vanni and the south of the north of the north ...', 'Does the name of the nation?', 'When the films come to films, such as Pictures like Bureau, Mumar, monster, Gala, has seen the theaters of the theaters, as well as the freedom of the director of these images, the Draupati film director has the freedom of his opinion ... After the film came,', 'Adei ... EcclesomeSummava said .. Downs are downgrades', 'Super Head is no one to beat you in this world', 'Every word you said in this offer BC-30% MBC-20% OC-10% SC-15% SCA - 3% St-1% Managing Sleep Model (What is the Knowledge of the Da Knowledge Knowledge)', 'Congratulations to victory on behalf of heroic teeth', 'Struggling to fight if the fight is to fight ... we are Tamil ......', 'Congratulations on behalf of the Madurai Counter Council', 'Congratulations on behalf of Karur District', 'Mohan Semanya is .....', \"How to Know, 90'S Kids Can Dawn Whole 2K Kids Dear Sample\", 'Leader Surya Emperor Mango Trailer', 'Cut you cut into the cut and it will make us satisfying ..... What verse is awesome .... The truth is true', \"Happy People's Bilead This film is congratulating\", \"Congratulations to the first movie to tell our people's fair and pain\", 'This film seems to be fine as a film that has been taken to be the best of the caste of the caste that is comment', 'Such the nate in Tamil Nadu', 'Picture to see kids kids ...', 'Anything that is unable to read and become a Christian and Muslim in Tamil Nadu and the Muslim is a comment that you are commented and the sake of the comment that you will be able to come into power and I will not only come to power After saying, how many times did Danda ask how many times, India is the power of India?', 'Semma Mass Suriya Anna, Selvaragavan, U1 Music ...... Pakka Mass ... The Demon of the Demon', \"Telugu Coldy Seghudra Virgin is your dog's caste spears.\", 'Waving Laying Loyes Having Hurry to Hurry ........', 'Save the human being when split as the race', 'This is good time to join one against him', 'Where are the people in any Jilla?', 'Teaser What is the fear of the fear of the fear of the fear of the fear of the Fun', 'Tal Mass Pepa Sepa Murder Dead Love Uuuuuuuuu', 'The woman and soil is one of us ... the right verse .. But the soil is now there? If all the castes are changing to the cowards in the soil is changing for the cultures ... ... Tamils', 'South Chennai Vanni - Madness Association.Congratulations on behalf', 'The film is only like Perasa', 'Draupati Vanni Kuladi ... The community beyond the caste', 'Brother Mohan G. Allahpati movie is along with your ACCOUNT NUMBER on your ACCOUNT NUMBER', 'It is important to us soils ... I feel like the mother of Draupadi to defend our clan women ... Yadava Kannan Kannan ... Congratulations on behalf of the Tamil Nadu,', \"The only pictures of a specific casting pics are also a little new in Patti Tamil cinema It is also a picture of a picture. The 'bomb'\", 'Where is the exterior of him.Item according to the order.', 'Congratulations on behalf of the International World Component (People).Congratulations to achieve a hundred days of this film.This picture has full shift', 'It is a portrait of a padma for a Supreme Court of theft, and I will see any amount of honor of Him', 'Super..', 'Tirunelveli Veerapaguu Champantha Gandhi congratulations on the people of the population', 'All community friends supported by this preview #Ivan is one of you', 'I have a lot of altered by the Nathi Jadi, the religion of the religion changing and the fine of the religion.', 'Greetings to win Draupati film on behalf of Tirunelveli', 'Congratulations to the Dikktagl Sunt', '500 Kodiggetta Leave Evan Tire', 'Congratulations to win the film on behalf of the wardrobe', 'Indagi!A bad habit of ethical battle is my kittack !!!Da !!!!!!!', 'Fine Good ..... win the winner, no longer life .....', \"The Vanni's Draupadi's film in Tamil Nadu is going to go to Theater\", 'What is the tempbols of the buggy', 'The intimidation combo.', 'Just treilar E Seeing this thing to spite the movie Mass', 'The Trailer Pudhalam Dirapati Dirabadi Dirabady Directiya Dirabadi Directiyar Dirabadi Directiyar,@ Mohan you are my willingness mindful thanks', \"We are worshiped by worshiping our Draupati's mother on behalf of the Cuddalore District of Cuddalore.\", 'Thanks to the truth Thank you so many thanks to Anna brother and many ...', 'Here only thalapathy rules bairava grade lightning Ninin Pattra', 'The beauty #NGK is just beginning from the nail root of the nail', 'Congratulations on behalf of all the expanders to win the picture ...', 'I was waiting for a social concern for the fact that the truth is to put this truth.! The next one is the film for dogs who hand over home women.! See the film as a film like the pictures like Kapali, Kala, Purius Perumal. !! In vain, the wrong caste dye. !!! Draupadi gone to the time. Let her be protected by her. The film is a mindful congratulation to succeed with the great social change! This is one of the ordinary man', 'Picky Maggadi Radiation and Paul Kai ... Like the toy', 'Congratulations on behalf of the grandlal Kamaraj devotees', \"Does the film have to keep the mind in mind?Let's listen to ...\", 'A thousand Periyar does not revise our people', 'Best addictive talk addiction - Semi, beautiful trailer', 'The most celebrities in the SC category are the same segment of this fertilizer and the sole stamp of the total scorptions of the total SC division is not wrong to tell them.', 'Whether the way to the soul is not the sadness of the caste.Agni Laders', 'This creation should be released without any restrictions', 'Dredged erraticism.', 'Congratulations to the film on behalf of the Mutual (Ambulator) Happy to our stamps...... Wardy Ambalanda ....', 'Our home girl will see this picture for everyone', 'Rajapalayam Virudhunagar District ... Congratulations to see the papino festival on behalf of the Doganar Nayakan', 'I did not give builder, automatically became like this', 'Periyar gang challenge to the nations', 'This image is 90 kids hysteria', 'This model should be taken too much of the pictures', 'Kawaran Cadewettor J. We congratulate the film on behalf of the Guru Vanny Association', 'Magic Da Sami', 'Four love is a fight with four romantic character', 'History that is not far from the history of all community friends together and congratulations on behalf of society and congratulates this film', 'Illo Stars Takes a picture of the smallest thing', 'Congratulations to win this film on behalf of the city of District,', 'Congratulations to win the film on behalf of Puducherry Vanny Association', \"Own caste romance is not even the problem but the other caste love is not only drama .. for today's fighters ..\", 'Buba according to the nations;- The sin of clan damage is sinful;Justice, the highest, education - love is a lot of people', 'All the dislike is the chicks of the brother Gujinicant ..', 'Punta Roshap PuntuAnna drive to the alliance with him.', 'Both the soil and the woman is important to cut the wand cacha to the quality incident', 'Fool Purpose Purpose Sindhish Rice Every life of every life .. Nation is a good worker.', 'Mention Mention Mention Pannala, Kurma Cruzku, Glutus, is not only intelligible for however', 'Draupadi # Lesson Great Victor of Draupati # Chapirowpathi', 'Congratulations to win this movie on behalf of Krishana community', 'What is the perfect trolberda this is a hunger 🤦', 'Mohan designed as the screen form in our mind. G Director Thank them.', 'What are the big collections you are not unknown .....: D', 'The answer to the head of the head of the head of the feminine', 'Congratulations to the film on behalf of Penimar Association', 'Figure Release Date will be a little bit of seams.All the northians are this image in the style of the Chunk & Kurima Boys.Saddota Suda Image Releas Panetta is good.', 'What a publisher published this film in August August is a point for this Elexman and is not enough to earn only 80 thousand people', \"Trailer Sema Ana BGM Asked the king of the king and why I remember why I talked about the image of '96.\", 'How to have two-faces for a currency is the refusal of mixed marriage in which the mixed marriage is not included in the female house and the female house. Congratulations to the film', \"A PERFECT ANTHEM FOR ALL Tamil 's.Veeramna Ennanu Indha Naatuke Avan Sonnane.Vaai Illa Maatukum Avan Needhiya Thandhane. Temnite is like me.\", 'Congratulations to see the silver ceremony on behalf of the Madrian community', 'Mohan G ... JavaScript where the sandals are brought to us and cultivate us!Reduce the difference between the unknown dog reduced .. 🤣🤣🤣', 'The warrior of the Wear Vanni Kulastram, the warwood has received the rebellion', 'Director Producer and Image of the Image worship the foot', 'Congratulations to win this film .... But whatever Caste Name Congratulations Solder ....... (Villupuram District .....)', \"Samravakavan, P. Angit Kadi's caste fanatics, greetings to win the film\", \"Ana is the scarlet of this verse.We've started to see the pictures speaking in the ride as Mr Mani.Such crore poured picture.An Subtitle of the Lord.Do you want shankar to the fiddle?\", 'Congratulations on the behalf of the South India Chettiar community', 'We congratulate this picture on behalf of Vanni Kula Saint', 'Vanniors Picture Draupathi Vetri Engalin Win', 'Congratulations to victory on behalf of the Russian Chancellor', 'Director of the Director of the Specific Individual Director Mohan G them my mind', \"One is the nation of the race of the race in the Religion of the Religion of the Religion Mother's motherland.\", 'Congratulations to win the film on behalf of Tiruchengode', 'TRAILER REPEAT MODE PA definitely giant winning ... By Kongu', 'We have spreading false messages to false messages that the veterinary caste dogs have been the truth but pride today', 'Congratulations to win the film on behalf of the Tamilnadu Settiyar', 'Congratulations to win this movie on behalf of the investment', \"Vikram Sir .. 15 years ago Sami film was release.Today Sami comes 2.You're the father and the child.Who can do this except for yourself..Hats Off Sir .. Vikram the Legend..\", 'Mirattho Mirate Mirate This film will give you the biggest success for Udayan', \"Awesome very exciting man's Ajith's head\", \"Rajini needed Rajini's name to dispose of Jayalalithaya regime in the 1996 political DMK, 1996 Tamil State Congress Party\", 'Our Qrue Sami said Draupadi Movie is Javawaran Brother Sarath ... 🦁🦁🦁', \"Draupati is intimidating Draupati with Kawaran Kaduwettiya ...Although this screenplay is the problem, it's ready to face, from having it ... !!!Ivan-Mawaran is the corekeeper\", 'Congratulations on behalf of the lion Surya Fans to win NGK', 'A caste is not a father and we have to support and support.Thank you for the director who showed the brave social trauma.', 'Thirumavalavan you have a standard slipper feet da', 'Congratulations on behalf of J.Surge', \"Surya Anna's NGK movie will help you win the NGK film Super Trailer May 31\", 'Wherever the film is 25-30 people from where the town will definitely go to the theater and will be able to win the images as it is ... Movie to go to movie Park Point Like Panunga', 'Aaiya Sirai Kunjugala, a sauce, a level rye, Kotundar, and this took place in the war in the war ... Comedy Pannitinka', 'The most fantastic picture is kindly asked to give support to go to the theater and do not come forward to provide unrighteousness in society if these images fail', 'Where in the roar of the Dalada ... the opdom is your Dolada .... waiting for vivegam ... Tala Boys Stylish Tamizha', 'The film is a young man who thinks that the nations do not need', 'Who is the director ...?So much courage and the Barrel Trailer Trailer Lavalma.This scripture will hit all the society that makes drama.The screen is definitely welcome.', 'It is not everyone else.', 'Congratulations to the victory on behalf of the Diffin Mountain Counter Council ...', \"Last ... I come to politics .. It's 96 anymore\", 'Put the cottage and put in the picture ....', 'Jadi hysteria is ...', 'We will revolutionize how many Throvpathy arrives ... Jai beam', 'A governor is opposed to you, you grow, and many of that crowd, you mean you grow up.The film is the opposite of the theater loves, the best love of the love, the bathroom is shown.Congratulations to win ....', 'All the females who have received the female children', 'Why do not the Communanus so much?The struggle revolution is the communism to the eye of you', 'NANDAS NANCH PICA DOWN NANCSION NANCSION NANCS ALANCH NUMBERS.But the total caste hysteria in the town of Kamontlam is about, and the total caste hysteria in the city.', 'The right picture is all this and Panna is good for the nathan', 'The film is a picture of the current social problem.The archaeological silver congrats on the race.', 'No Trailer is the best of the devil option Psycho', 'Semy Mass Anna', \"Whatever the victims are the victims. If the community is based. The scene of the victim's pain is shown in the screen. They are unable to read and read them for the progress.\", 'Dindivanatala College Study Take Dalit Inflammation of the Wanni Society, Heart Society, His Friends, Heroic Community is an example of the Vanni Jadi Domerator.....', 'Selvaragan Sir Whold one of the thousands of the sir', 'Cultural care gang is going to take the chom and take the da .. #nc sc ST #im', 'Congratulations to win the film on behalf of the Devendra Kula Againer community', \"It's also happy to be my pleasure than you are happy.\", \"Knowledge Bad Nay Jayalalithaa is a steel girl who puts the picture as a ferret, your, sister, your wife, or, will your mother be good if anyone's marching photos?Paradish to think of.Sori Ne,\", 'Anyone who does not disappear', \"I wish to win the film on behalf of the People's People ... Everything\", 'What is all dialing cake .....', 'Dharmapuri District Congratulations on behalf of the Vanni Gounder', 'How many of the PLAP2 film saw the PLOP', 'The picture will successfully carry the hand of the people', 'This picture should see all of the Vanniians', 'What is the meaning of the soils of the soil and the mainstream souls', 'SPORTS HORKER as a Johner is creating a John', 'God is the God of God, our Tamil drinking rejection is proud of us', 'It is important for us to cut the soil and the renders.Congratulations to win the picture', 'Ariyalur district Veerawanier Hairman J.We congratulate congratulations on behalf of the Vanniards', \"I'm sure to come to politics.Any Yematha It was 1996. Seen Dialog Ma\", '11 K Leopard Cubs and Ranjith & Co.', 'Such images will support the film with the family with the family', 'Some of these taxes can be beneficial.', \"Thalaivaa My Bio Biodiversity My Bio Karasamy IM Very Waiting for Thali Movie Faced Facing Face People's Heart Domerator Dr. Bank Da Madurai Da Madurai Da Madurai\", 'Like Poittu of this Trailer Kayam Ravi', 'According to the 9th Mavalavan and Ranjith Drama Training Workshop Guidance, the County females who loved the Wanni women and the 5 loves, and managed to manage the marginal women and managed to eradicate the Jadi, the familiar inventory of the blue shirt.', 'A beautiful trailer close to the minds of the mind.', 'Rajini is the Super Congratulations to Chemer', 'Congratulations on behalf of Cuddalore District ..........', 'Thank you very much for Mohan Anna', 'The film that Draupadi Trailer came to the Vanni Kula Satrika', \"The picture is super.Ana is true DNA history and Tamil castes are blended.What is a lot of mixed?154 Caste Aurachi's decision less mixed apartment.Much mixed flattering.\", 'Congratulations to win the picture on behalf of the Sitting Society', 'This period is necessary to take a picture like this is the best wishes to win', 'This movie will defeat the woman', 'Congratulations to win the film on behalf of the South District Nations We will see this image go to the theater with friends', 'Hairman is a line of cademes', 'If anyone-in-laws to oppose this movie ...', 'I will go to the screen arena with my family ...', '# HAHA # Bhagul Haha Super, who told us that the HAHA # Bhagupali woman said that the head of the HAHA # Bhagupali was the head of the HAHA # Bhagupali, who told us that the head of the HAHA # Bhagupali was the head of the Haha # Bhaculu when he said that the Haha # Basupali was the head of the head.Thank you for the awesome image group', 'Madphallah Da Dislike this trailer', 'Anyone still says that this is the name of the caste Pakamana', \"Another small drop in the idea of our brother's sister\", 'I AM VERY HAPPY.Congratulations on behalf of Coimbatore Orientes', 'Finally Ridika Singh Hit Like Here ...', 'Monique and the land of the Panchami is the same as it turns out', 'Congratulations to Mohanji as aware of the awareness of the trophys females', 'Any jealousy, anger, violent caste hysteria', 'Congratulations to win the film on behalf of the wardrobe', 'Was that journal ??????Pop Pop', 'Congratulations on behalf of the National Chettiars', 'No one has talked when many of the community came.This is why this opposition only if you point out the wrong thoughts.', 'The driving caste is just to spoil so much women in Pollachi', \"The man is equal to everyone.But, 1 ide 1 ume 1 Sati will leave the society of social women in 1 મારેને માને મારેને માં 1 માં 1.Nadar, Vanny's community only struggles up to 1 dish.Others are alone in themselves.\", 'Congratulations to the success of the film on behalf of the country of Pillai', 'Every girl is forced to see the film Draupadi .. Greetings to win ..', 'Congratulations to the best director in the future ... Mohan ... special best retaliation ...', 'TROLL CANCHANCE PICTURING MOTHERS', 'Congratulations to the success of the film on behalf of the Thoothukudi Nayak', 'My congratulations on Salem Vanny Association', \"When school collegrio is studying, mental torture, mental torture and borrowed home and spoil the woman's name, and we will not immediately play all the lovers that are dramatically dramatically pulled out of the food.\", 'Super Ajith Sir .. Super Hit Confirm', 'Rajney Superstar Akshay IS THE BEST ACTOR', 'This picture will be for example to remember the familiar family that the film is better', \"Any Tulukan's communal passage is a film\", 'Do not worry about controversy .. Coverage Countdown Kailayan ...', \"1:58 Rajini: I'm guaranteed to politics Gap La Rajini Kalasanga Bathes.\", 'Congratulations to the picture giant on behalf of the Reddyar Community.We were waiting for the film.Thirumavaland was more affected by Reddyar Community.', 'No one can beat the foil', 'Ellam Mudinju Pochu Nu Ellarum Solla Arambikkum Pothu Anikku Pudusa Porakuran Namma #Hero Sk.Self-thinking is the superhero ........', 'Congratulations on behalf of the films on behalf of the film ... We will protect our home women from such dogs ... Parents need to focus on ... Standard Image Everyone is going to be a family', 'Thank you for the truth to the world thanks Anna', 'Now the day is now the Maniratnam movie Bachalaman ...', 'The 20-year-old woman married to love the 22-year-old school is 32 years old and burned the 32-year-old house and burned this movie when this woman is dead', 'Congratulations to win the film on behalf of the Trivyamalai.', 'Means did not disappear his verses when it looks at this truck', \"Image Poppy Popam '\", 'Nice Trailer .... Congratulations to Win The Thalam Thalaphathy Fans', 'The picture we need to see', 'Congratulations to achieve image failure on behalf of the human caste.', 'Can Prabhu Deva Pans Like See how many people are', 'Thank you for the extent that my expectations will be in the picture', 'Draupati Picture on behalf of the total Vanni clan dynasty', 'Congratulations to the success of Draupati film on behalf of Villupuram', '120 people went to the movie', 'Is it a smell of poding to throw the caste?The clue is _____', 'Like the Korean film I will be better than I saw the devil', \"Congratulations to Guru and Veerappan's Guru and Veerappan to win their goodnight # Draupati\", 'Dindigul Youth Congratulations to the Great Victory of Traupadi Picture ...', 'This is the quality film when viewing the Like.Collateral', 'Theater love is coming to the kingdom of Draupadhi', 'Congratulations to the Vishwannamalai District Vishwannamalaya (Avarian)', 'Thalabathy Rasikanda ... Hai Independent is a bad disadvantage ... Vlayadalama ..........', 'Al Vijay in the correct blame', \"If you get 5% of the success of this movie, it's a surprise.It will show that this film is useless for community\", \"Correct picture for today's generations good movie\", 'All accomplishments are equal to the politics,', \"Congratulations ... SIR I'm Cuddalore Support\", 'Congratulations to win the film on behalf of anyone (Concert)', 'Tirunelveli Vishwaghma community greetings to win the movie', 'Thousands of Pudichu, who puts down the Dissa Pudichu Awar, may be arrested half the theater romantic mobbath, and this ten thousand may be more criminal background and the Tamil Nadu Police Picture can prevent the marriage of Rap Rab murder. Wake up the Tamil Nadu Police', 'Congratulations on behalf of Thalapathy fans ..', 'This film is a chivalrous blows and sweeps to say that it is the revolution in the name of love ...', 'MORE THAN 3M VIEWS..The intimidation will continue .... # Draupadi ..', \"This is the effect of the Draupadi film outsourcing;The drama love in this community can be Brahfl's ....... All people have to take their children and show their children ...\", 'Ratchson seen this trickson looks like the picture', 'Villupuram District Congratulations on behalf of the Vanny Association and congratulations on behalf of the proletariat social media', 'All the father of the father, mother, sisters, sisters of all the father, mother, sisters, sisters in the worry of a woman, and his childhood, the father of the female children in his blood,', 'Congratulations to the giant winner on behalf of herois', 'Draupadiya 5 Burusanam Da Etttithan took place to this Tittle', \"Let's go to the film\", 'Pudasus', \"It's greetings to come with a lot of model picture\", 'Congratulations on behalf of Student Caste to win the film ... The flapp image is the correct answer to the mob of the caste,', 'Images such as Tamil cinema is very needed ... fantastic picture ...', 'In the behalent on behalf of the counters, you will be able to succeed in the theater and see the family', 'All the backward community is brotherhood through the film. \\\\ R \\\\ r thus adding all the backward social leaders to integrate across the Indian romantic mixed wedding legislation.', 'Congratulations to win the film on behalf of the Vannyan Association', 'Not only Love is not enough to get the maternel and it is not the caste caste to cut the square of the society and the Sataka Chords', 'Cuddalore District Gounder, Congratulations on behalf of the Cuddalore District, Vanni.People are over the top people.', 'Dai Gillark Devidia Ajith Golden, What Da Solicited, Where the Combate Friend Surya is the lion 3 wins !!', \"One reaction to every reaction ... My mindful congratulations of my mind Mohan is .... I'm one of the millions of people who are a film\", \"The film was taken against the love of the drama and added all the society through this film.Let's defend our clan girls\", \"Hey, it's 96, whom the Pakataka Pakataka Seen Celi, Sanses!AFTER SMALLY SHEMS\", 'Everyone see this film is the theater', 'This step-pexic cowe is ran the vena ran and the namah of Tanya Nasa is the go .......', 'Congratulations to win the film on behalf of the OPS', 'Any nation under my caste in the nation hierarchy <nation hierarchy does not come to a social equal level that does not have any nations on top of my caste?', 'Congratulations to win the film .. All the right is right to say ..', 'Inventory Middle ... Countdown Count disconnectual tie count counties such as a total of social women built into a total of soles ... My congratulations to win the film', 'Congratulations to the congratulations of the film on behalf of the Vonipuram district', 'Congratulations on behalf of the Dhani District Nayakar Community and welcome ..', 'Congratulations to win the film on behalf of Tirunelveli Tavar Community', 'Congratulations to Dindigul Sucalika Counter to win the film', 'Already the Neighborhood Religious Fight, this is the caste of the caste.100k Periyar, but you can not be edited.Go to the order and see the item.', 'Preview is awesome .... I beg to be awesome and without any problem ....', 'A true registration is the WAIT Pannitu Irukom Sathyama Sri Lanka and my Manner is a very proud of Anna ALL THE BEST ANNA', 'Madras Madras: 18 to 28 Income: 15000 to 25000 Permanent Job Shelter Free, 6374009065', 'Tylog is all the other Level ... \\\\ r \\\\ r bgm sa ... \\\\ r \\\\ r bgm sa ... \\\\ r \\\\ r playing dogs', \"Let's go to the coming ....... more than 50 times\", 'Make sure I come to politics, ensure people in the screen arena are made to shake the stomach', 'Rouer Level Warehouse Model Anna', 'Similar Trailer Total Meeting and SattudukkukkuCongratulations to win the picture on behalf of the Hillman Wardrobe ...', 'Thanks Siva Sar and Group Thanks to Intuerer', 'Super Picture Draw Dry Picture Picture Picture Picture', 'I was able to take the theater in my village so far the theater would go to this film ...', \"You have come to the blood of the tomatoes for us ...... It's the beginning.Let victory continue ........\", 'Congratulations on behalf of the Viswagaram Dynasty to win the film', 'Evanlam Lovely Sense of Pakamam, Footfire Draupadi, which hit him for him to resolve the emotional and lust. It is the true story that he knows the fact that it is true story that neutral nicks will seal that Draupadi is the caste film, and it does not exist in the caste circle and the Draupadi off and save social women. # Draupadi', \"Teaser Only Head Movie's Mass\", 'Happy congratulations to win the film on behalf of the Dindigul District', 'Congratulations to see the silver ceremony on behalf of the Vanny Association of the Vanny Association ...', 'Draupadi will reach the victory on the behalf of the Monturbattu Padiyachchi Street ... Congratulations', 'Ultimate Ilayaraja Sir Vera Level BGM', 'Congratulations to win the film on behalf of the Vanni Dynasty ...', 'It is important for us the soil and the rendum ... Madurai', \"It is very important to the earth as it is very important to the yaroo's hand and cut his hand\", 'Had to embrace any truth.If anyone knows ...', 'Tirunelveli Thoothukudi District Congratulations to Success on Community', 'Looking forward to someone who does not take anyone a picture.', 'Trichy District Greetings on behalf of the Device', 'Fantastic movies', 'Avanwavan is the evil power of Tamil Nadu', 'Draupadi is forced into this period.Figure to see everyone.success guaranteed.The girl should protect the children.Thanks Mohan G', 'Monster, Hero: 5 kills 5, drinking, drinker, drinker', 'Whom Photoshi Review Prasanth', 'Congratulations on behalf of the Crown Madrian community ...', 'Adanganna, who should not include', 'The temptation will be a desire to the temple next to the next day and the caste is a seed of the dramatic marriage and my good wishes for your success', 'Until the caste fight, Telangan and knife will lead us to conveniently.The Aryan conspiracy is ...', 'Congratulations on behalf of the film on behalf of Erode and the World Tamil Heroic Association, and the congratulations to take several pictures to eradicate drama love like this', 'LOWEST INVESTMENT THEN BIGGEST MONEY EARNING OFFER ANYNE INTREST MSG ME on Whatsapp 7448660012 The lowest investigation WhatsApp number: 7448660012 NA Guarenty for money', \"Vazi's son is the Tirumachalakan Screen when you say behind you.If one says that one says outside ...\", 'Whatever everyone is greeting your caste name and say,', 'Tirunelveli District Gonar / Anyone Congratulations on behalf of the community .. friend', 'Congratulations to win the film on behalf of Muthalar (Muthuraja)', \"Mohan G. Sirana Anna and the love of this arixytham Tamper's love to grow up and thank you for the sample of the sample of the sample\", 'Congratulations to win the film on behalf of the Nayakar society', 'Kammanu was in the Undertime Meady Da ........ Dai', 'Dadaki Periyala Anna One Father Mother Meerthan said that', \"I'm the Dalit's my romantic wife Vanni, the good donation of Chennai, Famalium We are the Nathi Everything's Madness Page's Flir Man\", \"Today's Modern Politics Movie You Choose the Best Flim All The Best Illam Puyal\", 'Our Draupady is echoing the voice of the total Vanni ... Thank you on behalf of the Vanni Association for Director Mohan', \"Yow .. Rukayya like now!Suspense and Surprise Boyminun's Half Trailer's Bathe.SO MUCH ORIGINALITY !!\", 'Longer day after the film running 100 days.', 'The next Chief Minister of Tamil Nadu is our brother Surya, oru Like Podunga PA .... ngk', 'We congratulate Draupati film success on behalf of the Coimbatore District Jungar society ...', 'Seattle Da Countdown Da Countdown Da Countdown', 'How many years ago, the refreshing yuvan ... music', 'Dharmapuri Youth team', 'That mother is only alive with these teaser', 'The area full of caste sewers ...... Nobody see the Command', 'Our congratulations to win the film on behalf of the Pinnamalakarging Council Namakkal West District', 'What does the meaning mean?If you are not reading, you do not explicitly speak the crime about those who blocked the study?Is not the guilt of the woman and the soil in the same tray?', 'Congratulations to the success of the film on behalf of the Konguwalk Counters.Very Excellent Trailer !!', 'God does not have caste, but the people who worship the god of God ...', 'Congratulations to win the film on behalf of the Kumbakonam Vanny Association.', 'Three days 7 M visitors to the Surya Picture on the same day in the same day, the Mehsbabu film crosses 9.3 m visitors', 'Jack Modern Passanga Poison poisoning it is a big revolution of moisture', 'Congratulations to win the film on behalf of the Vanniark', 'Whatever I want, we will be intimidated by Nami', 'The last punch meets me a minute head.', 'Our leader is only the peak of her labor.No one did not progress.The place for him gave the Lord and the people.The height of the tower is not caught for garbage platforms.', 'Congratulations to win the film on behalf of Boer Races', 'Auction Rungei Dame No longer the film', '0:40 You are celebrated Palmatia Pulian;#NTK is not too time for the point', 'Selvaragavan is the wild .... Hence the .... BECAUSE ... Because This is a difficulty who understands this ... 10 years ago', '2020 The beginning of the flying pussy wedge .... Where the wearing of the weary wanners ... Where the wearing Bunny Rice Thereafter we have access to the Bunny rice', 'Soil .. SUPER .. We are important for us ... Supar Trailer..', 'Brush Love Jihad, Religious Religious Change Love and Following Religious Hunt ... This is the Picture of Picture.', \"The severe flowering Ajith is the only one that it's a mare of it and it's a mare of it and I love anyone who is very difficult for me\", 'Tirunelveli District Gods Congratulations on behalf of the country', 'Draupathi film is my mindful congratulations to the biggest success', 'Congratulations to the great achievement on behalf of the Konguwood Counters', 'Congratulations to Mohan who told the world to the world ...', 'If Purius, Perumal is saying social judiciary', 'Asurers are coming soon Agni Thai', 'Beat the plate to turn', 'Tirunelveli Happy to Success on behalf of Aviation', 'Director of worshiping this attempt to speak about the murders in this country,', 'This picture is proud to see the records in Tamil after a gang of a gang', 'Bring that gorgeous.Awesome Copyrights Case Put', 'Congratulations to the filmmaker on behalf of the film (recommendation)', 'Congratulations to win the picture on behalf of the Kongo zone', 'Congratulations to win the film on behalf of the People', 'Congratulations on the behalf of Ramanathapuram', 'Madras Age: Chennai Age: 18 to 28 Income: 15000 to 25000 Permanent Job Shelter Free, 9585921012', 'Congratulations to win the film on behalf of the heroic Vannine', 'Congratulations to the filmmakers on behalf of Central and South China Puters', 'Maplic ....', 'Even the caste association with the Kamant?Whenever this caste hysteria ...', 'What is the hero of the hero of the brother and the hero of the actress ... the hero of the acting', 'The movie that is not needed for modern community ... The best actors are painting in the films, which is painful ....', 'Hello on behalf of the Pillayer Democracy and the overall silver agriculture', 'The caste does not take the nation of the nation ...', 'When the girl gets the baby, the reading of the reading, the reading, when a husband is.4 Unable to earn money can not be able to conceive of Canion Marie', 'Dai Pa Ranjith said to the film', 'Hello Da Mapillai from Tirupuri', 'A thing that can be a matter of time is a fantastic picture of this film', 'This is the mother of the Mummy Eti Death Kamipangangla', 'The film has the support of the Devendra Kula Ornaments ... If there will be all the castes supported by a dramatic love caste', 'Congratulations to win the film on behalf of the Nadar', 'I have no vanior, no need to say,', 'The total castes are here ........ The good guy is good guy good work good work good family and the dolithi Dalit Half of the guy ......', 'Come to the head!Waugh 10m visitors are our heartbreaking.', 'Congratulations to achieving the film on behalf of the Pedan Achievement Kongaman Counters', 'Congratulations brothers to win the picture !!', 'Whatever color, they are the same quality and the director G.Mohan is not the fact that the modern dramatic love is the cattle ... You are the coconut and the castle of the Cochin ...Your identity is not yours ... Tamil', 'Congratulations to win the image of the Picture of Wildlife', 'Congratulations to win the movie on behalf of the shrug dynasty', 'We congratulate the Amohe Success on behalf of the Srivilliputhur Mullam Device', 'Wonderful awesome Draupati female children will be pleased to ensure a safety', 'Tirumavalavan Thirumurugan Gandhi Vellamurukun Seeman DMK Congress Dravida This Devessa Trooki Castee Credits Leave Funstones Funny Stories', 'Congratulations to achieving the film on behalf of the Crown Multi-Society', 'The information is to tell people.The', 'This is the femus running in G. Femus', 'Picture .. 10 times Pope.', 'Weather for the prophet', 'Repeat Mode 🤣🤣🤣', 'Othunuwa Everyone is situ 🤫🤫🤫 ungrateful ... str ......', 'Our obligation to view the thorax of the vast majority of the social population', \"Mishkin and Ilayaraja are strict this picture I will see I'm saying that Yarunna?\", \"It's all nations.\", \"Congratulations on behalf of Aryan Visiyar's community and congratulations to good changes in the community.\", 'All other nations except only one nation.', 'All of the works of the ocean cubes are the way to change these nomads 2 congratulations', 'i Like this Movies ..... Congrats to win the movie', 'Point Insect Everything is the Lion Da', 'This PKKi Gears have given an epic model for a month, and celebrate my heads at 10 years ...For me it is the keypad ......', 'Congratulations to win the film on behalf of the Korean race', '# Dhada Yuvanda Fiji M. Fly Vittle Vittle ..... 0.43 .... 1.16 ... 1.40', 'Congratulations to the Brywy God of the film giant.', 'Dai Gomans, Rajini, in 1996, was coming to politics in 1996, 2016 for 2016.Rajini said to politics on December 31, 2017.Before Rajini, how did Rajini have come to politics?', 'Question: How many types of nations?Answer: Read the comments below (comments)', 'Trichy, Pudukottai, Madurai, Natham, Perambalur, Thanjavur, Thiruvarur, Nagai, Mannargudi ==== Congratulations on behalf of the Community ==== ....', 'Bobba \\\\ r \\\\ r reservation notice not only Papa', 'Anta Chota Bim Green?Do you love the next caste girlfriends?', 'Congrats on behalf of Pal Cuddalore Vanniyar Association', 'Congratulations to the Having Society on behalf of Dharamapura District', 'The same teasara Vijay Anna is the only punnel and Alah, the Bhaira Teaser Style, the Bhairava of Bhaira, Kiliga Dividia Ajith Panes !!!', 'I can not say that this picture is congratulations to say I can not just get the great success in the driller ..... Welcome .....', 'The film will grow violence in the Tamil drinks, the same temptation - Ramadas drama is the story, which is not known through the morphism, and the film that is repeatedly split into Tamils, and the fellow humans of fellow humans have to pass without supporting this image!', 'The biggest change in the community looks like Draupati movies', 'Hero 10 Girls LOVE 100 MOVIE MOVIE MOVIE MOVIE MOBILE SUBLIGN SUBLI:', 'Congratulations to the success of Draupati film on behalf of the Vanni Spanage ...', 'The caste of the caste, a thousand times a thousand times a thousand, only the escape of the escape, and it is a revolutionary film if the criminal emotion.If the real theater of the community is the case, it is the caste.Avelophan Sir Strikes !!', 'This dramatic love is very good in Kanyakumari district', 'Image waiting to tell the truth .. Congratulations Anna', 'Love is eternal love is not just lust', '#The greetings to achieve this film on behalf of the society', 'Tamil Nadu greet the film silver festival on behalf of all Vishwagermat Society', \"Anta's dogs know that it is a good facility for good facilities\", \"Let's cut to cut and know that the equality is that the soil is not our right to the soil\", 'Fantastic story, to win the film my Madurai District People', 'It is a great congratulations on the behalf of Erode Sathyamangalam Puters', '2020 Large expectations ... Tamil film ... Draupadi IS Always Running Fro Right Way', 'Marlon Santosh, Marlon Santosh, Marlon Santosh, Marlon Santosh', 'Do not say the Trailer Chartered Abo Main Piker', 'This is where the Dan is the vest of them from the Ulera .....', 'For all the dubbing pictures, the same person to the hero can be changed as you can talk to the dubbing', '# Family_power_woman_natar_mapper_akkar_bhagadi_wakkur_wagar_wagaradi_walker_ykari_paggareti_cavianSelf caste', 'Congratulations to win the movie', 'Sec 1:22 Le head is just a mundam bath ....But, Threat Trailer .....', 'Our Guru Ayya and Seltoutwan Wandayar Ayya are very happy to be the film Miss You Doo', 'Bass Ink is a hundred of a hundred of the film FREE', 'Do you have fun ... A Side not only Perasa', 'Just tear .. # Greetings for the greatest victory on behalf of the Village', 'The perfect slowdown to theft for theft is this Draupadi.You have a slumber for the year ...', 'Dharmapuri District Congratulations on behalf of the Vanni Counter, Draupati movies to achieve great success ...', 'Super biggest success is a great head ...', 'I am asking to memorize Dharamumapar!Other Level', 'Attack knife, Gala, Kapali is home when coming!Right to this film Society Media La is the same cotton?Dii Resize!Bluze!Bayam film Bathoma BonomaCongratulations to the director brother!', 'There is no more to say that some people have to say, but not more understanding Model', \"Wow it's so new to Kanna\", 'Image Rils Pannun', \"Thank you for the People's Television of People's Television for People's TV, who flew over the boobs of the fleet of the flower.\", 'Congratulations on the Tamil cinema to become a mile stone in the film. Greetings on behalf of the society of Nayakers', 'Only these sorts of verses in the cinema can be spoken in ... No one can talk about sister in real life ........', 'Congratulations to Draupati film on behalf of the Trichy District Putrients ...', 'Dryrilator is a huge brother.But the largest concert you have brother in the teasing paragraph.', 'If you come to any of the problem in screening youtube, screen screening is a family of 5 people in the family and the ACCOUNT NUMBERKU picture will send you before the screen.', 'This picture for the caste maniac dogs.', 'Tirupathi is the best time to celebrate Tamil Nadu', 'Always worship the head for real love ... but the perfect whip with the love of the play .... Keep IT UP', 'All community people have to support this film (affected by playwright)', 'Congratulations to win the film on behalf of the Crown Madras. The reasons for all the nations here to pass the anarchy of the crowd of the crowd of the crowd, even the month of the month, Murmur spoke to Kururu. PCR puts in the PCR to post the video recording that he opted for the community revealed Jadi. They unleash the anarchy of the other community from the Baggat of the law.', 'Take the Trailer and look at the study Surya', \"There are female children in everyone's family and the brother says brother the nostrils\", 'My congratulations on behalf of the Nayakar clan women.Queen Mental Dynasty', 'VJS Da.STR Mass Da', 'Surya Anna I Love You', 'Welcome to Thanjavur Delta Passanga', 'The rendering of the earth is important to cut the hands of the standard Dialog .. Congratulations on behalf of the South', 'What is the mindset of the mindset of the middle of the minds of the minds of the kids, and the parents of the female children, and why many women in the romantic romance, why they do not have a picture of the romantic, and that the family will not take a picture of the money, the massive, the politics, Congratulations, director Mohan them,', 'Draupati is the film to see all the social people .....', 'Here is 99% of the caste praise - they are administering to ensure the safety of his home feminine!', 'Congratulations on behalf of the Brahmin community, who was slave all the castes.', 'We have a little bit of the Tamil partners', '10 (AVERAGE) AVERAGE HOME TO BOOD HOME OUCTION AND SERIAL SERIMIC POOSE POOSE POOSE POP ON THE SERI: His dowry is asking how much the asset is to earn / earn. The marriage is catching up with the capture of the Affair of Affair to the Affair of Affair. See the Arranged Marriage, romantic wedding and lifting the lives of the lives of the drama love, the romance of the drama romantic, the money. Everything is time.', 'The drama love is available for the gangstation', 'My congratulations to win the film on behalf of the Nandular Clans', \"As a whole, farming tiny, young people, prices increase, will not take any pamper about the country's progress.Bongha is you and your Jadi sore **.\", 'P. Angit, Maurari Selvaraj took social film', 'Whatever it is, it will remake the picture', 'Pollachi incident is included in this article ... The right example of the theater love Pollachi incident ...', \"Beethoven's Fur Elise, you know the buddhism, shoot it for it Mishkin Sir?\", \"Let's refuse to deny.Deticked to Ba Ranjith and Diram ...\", 'Never Ever Give Up, Rare Brothers Dub Bunny Merzulu Vichaavana', 'If people had been in mind how much suffering was 20 thousand, the coming of the ...', 'Ashok Selvan 🤩 Rithic Singh', 'This is a way to leave Madurai to leave Da.', 'Director Is Live Batha ... Hero is a clown benefit ... Hero ...# Karma is a boomerang', 'FIRST SHOW POPEMAGE POPEMENT OF PSS PSS Theater ....', \"Thank you for seeking popular television programs for people's television programs to see the thin feminine thin feminine thin feminine showing Tamil jaw in the waters of the Tamil jaw..\", 'I will report full support on behalf of Scorpion Screens.Let Tirumavalavan, the Ranjid model, the Buddhist hands of the Buddhist hands, say that it is a history of the slowdown.', 'This is a fantastic story ........... This picture is a good awareness of all women ..........', \"Raja Sekar....It's the real community of thumba.If you see this only to remember the next family, the congruence will come .. 13 Replies.955 likes.\", \"What is it ... ??P.Ranjith's Lasu Model?So let us take this from this?It is not the girlfriends of the glamor.He is the way.\", 'Greetings to win the film on behalf of the Neyveli Vanians Association ....', 'Congratulations to Draupati Figure with Velanesis Asian on behalf of Mullapore Community People', 'Chooshanadad Thanjavur .... Congratulations on behalf of the silver', 'Congratulations to Greetings on behalf of the Ariyalur District Vannine', 'Congratulations to win the film on behalf of the Muther community ..', 'You have seen laughter Police Max', 'Semi .... My circular relative friends will be sent to all ..... real social awareness image ....', '# We wish to win the film on behalf of the Human Jadi ... 🤝🤝🤝', 'We saw the Population Preschantic Empo-Maruthu Web Popam Satrian', 'Draupati will win Congratulations Mohan G Anna. During the wrong topics in YouTube were spreading rumors against Draupati film', 'The struggling situation is evolved in the ... Mass Dialogue.', \"Kumarapalayam Congratulations on behalf of the People's People\", 'How to do this trailer does not know Unlike Patrangan.Tal Mass.', 'Quality incident .. Wait ... Do people see care?Is the question mark?', 'I know that the verses will be spoken in this film', 'The first step of the goddess is the Draupadi string', 'He is crazy above this ...', 'Pollachi will see this Bongallam ??Did the greater the greater the gorgeous, is your wilderness?', 'Kindly talking to the DMK coordination.In that influence, the cargo Middle will cultivate MP until Delhi.Drawing love is Dravidian mob.The journey to the journey to the journey and the journey to the journey.', \"I'm the fantastic fan of the leader and you trailer barrage Da\", 'Congratulations on behalf of Neyveli and Virtivalam Anna 🥭🥭🥭🥭🥭🥭🥭', 'Congratulations to Brother', 'The true fantastic idea is your errand', 'A minus Driller Graphics Magg', 'The sixth knowledge of whom you can do to marry any of the beasts for the shovel of the girl', 'We will fight together to save our women to save our women who can not endure a particular community of a particular community', 'None of the old Brent to you? .....', 'Chemer and Vishal and Ravi are both choosing different stories ...... Wishes from thalapathy rasigan', 'Congratulations on behalf of the Greek descendants of Athens', 'Kanny to tell the Vanny ... Atha Ethero is a lot of people who have seen Saasm ... Thank u So Much ...', 'His Tomb', \"Congratulations to the street that the Pollachi's incident is trying to show courageous ... !!\", 'Congratulations to the film on behalf of the Tenkasi', 'Mohan. G Anna This film will definitely succeed.', 'The soil of the earth is not only for everyone and that the Panchami has turned the land of the Panchami, and you do not have the soil of the lakes in Tamil Nadu', 'Santhanam for this film has given the chance to Anna, did not give me ???Reply Definitely say Mohan G Anna', 'The right scrutiny to the people that sow the wrong intention among young people as mixed marriage can be eradicated.The film is definitely great.', 'Stabbing swingers.Dermatitis scattered in the roar!Live!Director Mohan They!Congratulations to win the giant!', 'Director greet them on behalf of Sivagangai', 'Danda Pranity Danda Fig', 'This is a good accelerator for the caste ranjit as director', 'Do not forget that all players who say the name of the caste are here.Former boys ..', 'Congratulations to win this movie on behalf of Kongu society', 'Congratulations to the biggest success of Madurai', '# Dhalapathy is not a film against any community ... a picture of all the parents who received women.', 'Congratulations to win the Vanni Kuri Chadrian Da', 'Semi Sees ... Surya Anna Panes ..maz', 'This is the Tamil Padama Hollywood Padama', 'Congratulations Ajay Mutharaiyan🦁🦁 Ajay Mutharaiyan🦁🦁', 'Manratnam is slipped with her ability to introduce actress actresses to introduce newly introducing the actresses of his cinema story to the man ...', \"See this picture of Stalin's mob\", 'Surya, Selvaraghavan, Yuvan Munifare and showing the wick', 'Harris Jayaraj and Surya', 'Fantastic Preview.The soil and gold is important to us .. Standard incident.', 'Like and Dislike Le Yaru Wanna Know in Tamil.', \"Here's the DISLIKE (20000) the ID of the People's ID of the People's ID ... Aft Drama Meeting at this meeting ...\", 'This music director.Manus Backetaraya', 'Lots of bad habits', \"Congratulations to achieving the film to win the film with our caste's clan goddess Draupadi Amman.\", 'The proletariat party.', 'Congrats Bro .... Congratulations to the success of the movie', 'A meeting is only kicking when all parties are supported ..... !!Saturally Dysa .... !!Congratulations Mohan Anna ... !!', \"Chandran was heard of this dog who was afraid of every family who received the girl's children.The community of the entire woman neatly gathered together and oppose them\", 'Awoman Anna is the most sold option picture Anna We R Waiting Anna', \"Below this is the Comment of Sunni Dawn caste and community paragraph `Comment.BodaWhat kind of goddess did you ask?Does your love.First of all our human race, human society.That's the first Tringinja.The intelligence comment is coming.Go and Soubange ...\", \"Mavieran Guru's forest triumph ... Draupati movies are congratulations to win the winning ... Ivan.\", 'Enna da padam caste pic', 'Where is the TWITTER IDs support Draupadi, where does it go?Theater love mob lamentation .. !!', 'I have seen this driver 50 times until it comes', 'Azith Needful Mawan My Sunni', 'Congratulations to Movie to win MOVIE on behalf of the Rajnagudi ....... Mafia Gangster ........ the Device Counter', 'Each woman should be the waves of the walnomical ... Loving the husband and get rid of the hunting pigs.', \"Make sure that the politics come to politics ... It's 2016 ... It's 96 !!!Anyaired bass .... death partner !!!!\", 'This movie is great success and congratulate the biggest impact in the society, and congratulate on behalf of Naidu and Nayakar.NEW SENSE PRODUCTIONS CHANNEL TEAM', 'Congratulations to victory on behalf of the neutral publishers.Improven to Success', \"The story of the film is ... Whatever happens to do it. It's pretty behavior ... A. Ga: Comment Box.\", 'Congratulations to win the biggest level of the film Soubangada', 'Congratulations on behalf of commander fans to succeed in N.G.K', \"Someone's Trailer 2 Ku Ku ..........,\", 'Namma Governor When this model is waiting for the film', 'I would rise to fall as the lessons learned', 'Muther Relations are asking for everyone to support the image', 'Congratulations to win the film on behalf of the Sirkman Vanni', 'Quality teaser ... Congratulations Surya and Laletton to them ..', 'Draupadi Pillai Community and Director Mohan G.', 'Congratulations to achieving the film on behalf of all community people', 'The DMK, the DMK reported, maybe this delay this delay', '# Draupati spread the evil of yourself', '🥇🥇🥇The teaser is the same as the picture', 'Surya Sir Mass', 'There is all kinds of good and good.', \"Thank you for the population of People's television programs for people to learn the popular television programs to learn the right life of the Tamil, comprehensive prosperity,\", 'Congratulations to win on behalf of Hindu culture', 'In Tamil cinema it is doubtful to come a picture of it ...... Raging ViveGam Trailer', 'People will announce the best picture of this film', 'Yuvan Shankar Raja BGM .. Vera Level .. ⏮⏸⏭', 'congratulation brother .Thank you very much.', 'This image appears to be a theater', 'My cost of tickets for 50 people on my behalf ... Music may be a little more good ...', 'This is not the standby of the day waiting ... Fancy', 'Congratulations to achieve the film.Sivakuruparan Nadar', 'Congrats Surya Sir and KV Anand Sir', 'I think the troller is ...', 'What is Pulla, Congrats Surya Anna🤞', 'This Pollachi is a sexual case and a hand-pattuddin', 'All retail dogs for the caste politicians claiming that there is no caste ...', 'Congratulations to Congratulations to Comment La Jathi Perks ... Chaiii🤕', 'Painikshish and wake up like Varran Taiwali Tamil cinema', 'Fast.', 'Greetings to win the film on behalf of the female child.', 'This picture is HIT', 'Congratulations to the film on behalf of the Muthuraja caste', '96 The unborn cassa are all 96 politics paragraph.Currency', 'This film will find the silver ceremony that is less likely to be a female clan (image)', 'Youngster Political Movie |Political film of young people |Filed at the Fluion County', '1.34 What is the VJ Anandi good enough to cry?', 'I am grateful for all the community that supported the film', 'All the friends seen this driver, strictly share all the social media .....', 'Congratulations to win the film on behalf of Surya fans', 'Congratulations to win this film on behalf of Nadar race', \"Finishing Vera Level ..'n politics\", \"It's not just the mother's booth\", 'Many of the birds .. each one .. Biggest # Multi-Casting Movie of Tamil Cinema History', 'Q (D) Ruma Pearish Green, 15 years ago, saying that Iya Siri is said to be able to marry our home women today and do not have to say what will happen if they say that it will happen if the freight Middle..', 'Does the enemy country to destroy the enemy country is a word for the name', 'Aqa.', '1:32 This is what logic is this', \"Although he builds her, she's going to buy, and you have a salary of her organs, and she is not the salary of the salaries.Neveh, who will decide where it is.You have no man who wants to believe and tell us to live the own nick.Let her wear her wearing.\", 'Namakkal District Congratulations to Kiss the Durupathi victory on behalf of Tirucheng', 'Karari emits this movie on behalf of Arundashi community', 'Congratulations to achieve the film on behalf of Trichy Muther.', 'Wherever weigh, the mixed marriage opposite Rowdy City Kangayam', 'Division ... Separate thillu to say true ...', 'Congratulations to success on behalf of Trichy 🦁Suriya', \"Whatever the love of the theater is to be able to get punishment, while trying to insert the caste in life, and the people who accept the intermediate castes, where true love comes to the teenagers, it's a lot of time to be horny, Please come out of this marriage South District Tamils!\", 'Congratulations to win Marana Waiting Anna', 'Congratulations to win on behalf of Villupuram Vanny', \"To be the nate !!!Tamil Nadu. It's the same race to be the same race.Look at the Manusanana who speak to the highest caste low nathan.Do not this picture come to tell any comment ???\", \"Korean crash thriller is very well known.Some Korean images are the Mix of Mix Pannic Coffee model. Let's see.\", 'Madras Shortcase Code Dirupati Padra Ranjith, Tirupathi', 'Sati Reservation is the perfect finance throughout India', 'We wish to win this film on behalf of the Society of Tanjore', 'Congratulations to the blessing of the Thiruvanaram to win the film', 'Congratulations to win this film on behalf of the Nadar Community people.', 'Congratulations to Sivagangai Miperry (Ambalan)', 'Pollachi women in the case of women are gourding in Thirumativam, and the dogs that do not accept Tiruma. Here is a request for all men that make a request to marry a woman, but if the Dalit is love to someone else, you can rape her and kill her', 'Tirunelveli Tourist People Dungeon to win the film 🤝', 'The only claim of the people affected by the drama romance is Draupadi.', 'Congratulations on behalf of the Nadar community in Thoothukudi district', 'Congratulations to win the film on behalf of the wardrobe', \"Congratulations to a family's scalp\", 'Congratulations on behalf of the Erode Oriental Agricultural Counters Society ... County, Vanni, Tavar, Nadar and Nayakar, the majority of the population represents this trailer, painful, pain, painful,We will be able to hurt the leopards', 'Kill and the redness of the earth will cut the hands of the handmade .... Dialogue Verrraaaa Levelllll Description 2', 'Our town Muther is social people all will be with you', 'Mepper Hello Da Karaikudi', 'Milk and golden and the price of the Price', '90 kids are proud of clown ..', 'Besides the Talid society, all other social people are affected and thankful for supporting support for support!Success!Success!', \"Karunas Pro.You do not speak the image you don't talk\", 'Dharmapuri District Congratulations to win the film on behalf of the Vanni, Thanks to the Mohan Anna Radiya Criminal No longer see us', 'Kotha ... My high grateful Pahanam Pannah I will be able to go to the higher than everyone ... EwWO height is not important ... Evacy is the largest of our largest.', 'Congratulations to the gorgeous victory on behalf of the Dalit community', 'Tal Ajith reflects the hard work of their 25-year screening this two and a half minutes Preview.Our congratulations to the wisdom group.', 'MANASU KULLA Irrundha Kovam Lam Ippa to cut the light .. Thanksgiving Form', 'Where Dad Military Da runs to play,', 'Congratulations to succeed on behalf of the heroic Crown Madrian !!!', 'Hamba and the Lady paragraphs are forgotten to the forgotten of the kazza ... And then the A1 Matter will give everything?', 'Now this film is necessary to see everyone', 'What can play thalapathy ... waiting for you ...', 'Thoothukudi Nadar Community Safety', 'Villupuram ---- Kandachipuram Cycle Congratulations on behalf of the Village Youth', 'Put the good picture and put the hero', 'Congratulations on behalf of the heroic Vanni Years', 'We congratulate the film on behalf of my own ones in the Kunga Kunga', 'Congratulations to win the film on behalf of the Saurashtra community', 'I will publish social websites like Amazon Prime - Director Mohan G. Sach', 'Sattee hysteria Peucher Put-Putinan will support the caste.There is no caste girl who is the caste women who have no caste women who have no caste women who live in us and keep the Queen sample.Ivan Mavier Dhiva', \"Director: Mohan G. Satrian Movie Name: Movie Name Ramasamy First Thought Movie Name Ramasamy (Ramasamy Pair) Director Kulage and Actress Role Name: Draupati Finaly Draupati Caste Based Movie ... Related Truth Inventory2013-2014 Incident: Drama love and Mainly (Draupati Vanni's Gillage of God) Mean That Agni ..\", 'Adei Now I saw the two lakh lies in Nummatia, and I saw two lakh Like Padgan Da Vin TV Kishore Sami Dawn. My Tamil people will punish only the Tapa. This will not blame anyone who does not exclude all the Dalit people. A hundreds of hundreds of hundreds ... Save women who will save women and take them back to the handle.', 'Congratulations to get the head of your effort', 'Congratulations to the film on behalf of Vishwakarma Common Association', 'Semi-old, maniac,', 'Congratulations to win the film on behalf of the Moonger', 'Dear Mohang.', 'Congratulations Congratulations to the morality for the truth.Hit film Hit', 'A little good is a little good enough for the Chorde Chamati Satiya, and the Judh Podhankata Tamil Nadu is being destroyed by the Nehru Looking at the Da Is not Da, or not to read the Trukhanda ....', 'Congratulations to win the film on behalf of the Vanni', 'Claude Pannura Nair to SeaPort Pannura Nair', 'The North Tamil hunting is the beginning of the Indian cinema history ....Tamil cinema is the perfect guy Mohan G. They are .. ..Draupadi is the first film to put an end to the North District problem as the braver to cut the southern stories in the screen history.Thus will no longer continue ... !!!', 'I am surprised to find this screenshot as an investment!', \"Our belief is that the parents' pains and drama is a picture of the love of the love ... thanks: Mr.Mohan G.\", 'Fantastic picture ... The soil and gold are important for both ....', \"Mohan's truth is the sir lion in the truth ...\", 'The whole picture is the eager to see the screen', 'Do not take part 2 and do not reduce the quality of the work of the good work ........ 2018 La Part 2 Nothing Failed for 2019 2019 this time', 'Congratulations for the pioneer of the humanity of humanity ..', 'Oh Vijay film is this viewers Sagaringla', 'Why blood same blood type is another rumble stick and semi-sovereigners are eligible for a little tomorrow ...', 'I have a lot of true events and verses I know ... I pray to God again in Tamil Nadu', 'For the first time, such a movie emerges.', \"DISLIKE VIDA COMMENTS ADHIGAM Fantastic Like All People's Support Command Box Warm Everyone Thank you on behalf of the Vanny's behalf ......\", 'The landscape of the landscape is the right of the river to the rest of the river ..... Vera Level', 'Good Melody Song ... middle of the middle ... Who are noticed?', \"Congratulations to Success NGK on behalf of the International Indian Vijay People's Movement\", 'Congratulations to win the film on behalf of the society', 'The superstar made mistake played in the Ranjith movement.', 'Brightness, the fight for the struggle of the fighter', 'Thank you for viewing popular television messages in You TV messages to find the Tamil clouds of the Tamil Posts of the Baked Volk Sea.', 'Leader Rajindan Puena is like you can change', 'Telegraph TV hostess is the best suited for Aso Varshini Thanthi TV asoka varshini will be best suited for this role', 'Karur Chankar will be congratulated to win the film on behalf of the Madrian', 'Seeing the title of the film and thought the idol trafficking.', 'Congratulations to succeed on behalf of the clan', \".arun vijay .. i love u thalaiva.He is the awesome face.One of the good people will be observant, but it's a different face.\", 'Sivagangai District congratulations to win Draupati movie on behalf of Chetiyar, Kudhar, Irano, Power community', 'My mindful congratulations to the giant victory on behalf of Pollachi Kong Counter', 'Adang 1 Re-exceed the abortion of the abortion 7 to 70', 'Does the verse be all the good but the picture?', 'All social people greeted the film and a society missed dramatic romance', 'Video Display Safet Panish', \"I'm muther (am ...\", \"Dii This Group LA's Da Happy Jadiya Society Bau .... The problem is good for nothing ...\", 'From Erode ... This is where the caste is proud of ... Like Panunga .. Share Panunga and Subscribe to namma castian channel', 'Congratulations on behalf of the Tamil Nadu Kongu Youth Council', 'Congratulations to win the picture on behalf of the Kong Counter', 'Congratulations on behalf of the Vanni County District', 'Congratulations to achieve the film on behalf of Naidu community', 'The trailer is very excellent ....... Congratulations to win the film ..... Winner for Nadar society ...............................................................................................................................................................................................................................................................................................................................................................', 'The king of the king I was .. Mass BGM', 'Paradise dogs such as Ramadas, Dhima, who is about the Ramadas, Diram', 'The thickness of the thickness is that our hand can speak of our hand .... Pollachi indecasi oru Ponnu Vandu Ipadi Pesa Sollunga Pakala🥶🤭🥳 ... Draupathi Hare', 'I am commanding the decision when the decision is not ...', 'Everyone Mana Kawala is the command of my navidi supporting my navidi support ... Southern Buddha Budicha,', \"Draupadhi's impact throughout Tamil Nadu ........ Female soil protection ........... Congratulations Mohan ......... Koon Country People National Party ............\", 'He will not come to the smile to be laughable', 'Congratulations to win this movie on behalf of the wardrobe .....', 'Congratulations to the film on behalf of Trichy Counter ....', \"Somehow Nasama Bonna ... What's true LOVE Panna me too.It does not have anyone.FIRST What is this picture?Caste Support?Home Resistance Picture?\", 'This film should be released by Retearer Community', 'If the harm is harmful to the Grazy, the Meethadi is the society and the society in Tamil Nadu.', \"The picture will reach success.Congratulations on behalf of Salem Vanni Kula Saint (Vanniya Kula Kulashatriya'S)\", \"Peollar's disappearing.Thank you for my heart\", 'Congratulations on behalf of the Counter Welfare Association to Send Thoothukudi District', 'All friends will leave the ticket immediately ...', 'HM .. Like Sarkar Movie.', 'Synchronize when you see the caste', 'Congratulations to win the film on behalf of the Nayakar race in Bhumbukottai ...', 'Anta unreadable proposting is the devil Director', \"Those who have white persons are always tracking.Likewise, SK's thoughts are separate.Everybody's labor is wasted, Greetings to win.\", 'Pollachi sex-related film Semon Comrade 🤪🤪🤪🤪', 'Music & Dialog Vera Level Super, Music: Jubin', 'Super.Success rule ..', 'If you do not exceed the refusal of the post, we will not bear in Tamil Nadu', 'Vanniar society people support this image', 'Prisoner #Overload Surya Selva Yuvan #MaranamassCombo #Marana #waiting #Bythalafan', 'Who will come to the picture screen', 'Anta Wick Skina You will not be idle', 'The most standard incident.Thiruvarur District Congratulations on behalf of Vegetarian Vegetables.', '1:34 Like World cinema history for the first time 🤣🤣🤣', 'Vutavian some people to take this picture our Wur', 'Waiting Week ... Yogibabu Arrive', 'Ayya Shivai Greetings We Retina Ready', 'Hero Pawk Lighta Sasakumar Model .. Somebody like that', 'Draupati Movie Success Festival on behalf of All Chettiar Community', \"People's Chief Minister of Tamil Nadu Rajinikanth\", 'Thank you for visiting the TV shows in U Deep to people who speak the teenager of the Tamil hilly in the tummy forum in the breeze.', 'Congratulations on behalf of the Device ...', 'We were thinking of the Caste fanatical hybrids Tamils.', 'MANNU PONNU RENDUM ONNU: DAHA AND 10 SEND BLADTION OTHA DA CANCE COOPS? Anjapara Oatt Draupati', 'The film is raging on behalf of the Pillai Pillai', \"All community people know our Draupadi's banner in their town, and I'm going to come out of the theater, Congratulations on behalf of the film on behalf of the Vanior Friends of the Vanika Friends.\", 'The story of the story forgotten to say Tamil cinema', 'The shortcut does not exercise that, the Gurur intelligence will show the path to the path, and what is good for all social female children and what is bad.You need to try to change the inferior thinking in the mind.', 'Love is all that Panranga does not intimidate anyone who does not intimidate', 'Congratulations to the film for all women in the Tamil Nadu People without Draupati Jadi Religion', 'Escape from the struggle of the struggle to struggle - Mass Punch', 'For his political gain, the students and youth have degraded, the head of the inventory Middle.', 'Full Songs Releasing Today 4pm Waiting', 'Which of the 96 is the 96 to make sure I come to politics?TRAILER IS CATCHY.You got Our Attention.', 'I am eagerly looking forward to see Draupati', 'Mandatory Women Want to see ... This Draupati greetings to comment to the mother fathers', 'According to the 9th Mavalavan and Ranjith Drama Training Workshop Guidance, the County females who loved the Wanni women and the 5 loves, and managed to manage the marginal women and managed to eradicate the Jadi, the familiar inventory of the blue shirt.', 'Congratulations to win the movie #maver Guru devotee', 'Congratulations to win the film on behalf of the Perambaluri forces ........', 'Four Levels of Love ... Told in a Breezy Way ... fell in love with lovesSeveral time on the beach gained a scenic as the air acquired.In order to see.', 'Wonderful Commander Fans Support and Congratulations to you', 'Your try to make the biggest revolution in Tamil Nadu ... Whatever happens, we are no longer a big youth court and you have a big younger stride, and the biggest longing that the first is the most interesting of the whole ... Congratulations to the screen and come to the revolution ... What is every 20 min for every 20 minutes # Draupadi title on the Internet How much views. Eagerly waiting naa ....,', 'The Nadi fight', 'Papa according to the caste.The sin of the gracefully sinful', 'Top Call Breakam', 'The Senthil Chola India is Jayangondam with Chanthi.', 'Kutting is too much ....... my awesome Salem VM to win the film:', \"Love is a man who is familiar with all the jars and all the jads will be erroneous, and the ultimate wedding of the olmbuard of the Evalo Rape Film is proud to go to the Evalo Rape Strait. Ellead Just Boshusha It's Until The Atleast Just Sight Until the Atleast Just Sight Bullet Until IPad MANASATIYA IPad Listen to Brothers and Sisters Image Picture\", 'Script to Anganiti ... Use Use ...', 'Hero friend Lite DR.Dearbar variable ...', 'Congratulations to success in the behalf of Rajapalayam Salier society', 'There is no matter what our accomplishment, if we are struggling with life.', 'Kammavar Sangam Kammavar Sangam Kammavatu Council Nomu Nayakan Kammar Association All of the Tamil Nadu Ghammar Association is greeted with this concentrating resource', 'Danda is the rush of the leopard to be the scarlet,', 'What is this 🤦 ... Lion is like a lion', 'Congratulations to win the film on behalf of the child community ..', 'BGM La Pinry Bullvelba ..Harris Jayaraj', \"Half Jayalalitha's mother is the rest of the day ???\", 'Congratulations on behalf of Tamil Nadu heroic', 'Here are the named nathi pls reply', 'Why do not I like poplics About Ajith today?', 'There have been many pictures in Tamil and why not oppression why not only be opposed to this film', 'Power Development True Sayna Natu', 'The film has the power to achieve anything that has a reaction to all the reaction', 'Action twist!Saravanan discharge from the Big Pass house!', 'Draupati film is a great success on behalf of Kuduvancheri Bharam and Vannyan society.', 'Who knows Who knows Who knows, Kuri Kuphan, Motor, Motor Motor, Motor Barru He is the ten story of ten story, and the king of the king of the king of the king of the king, Bharuda Station, Even Even Evening Ten, Even Ethi Yini Panuku Hammer Panel Anywhere Evil Yinner Nein Awesome People in the Uru Nelly! Killed Kataba Punisher Yudah Tailor Bhaira Baruda Varlam Varlam Bhairam', 'This model should have a picture of the drama thirumavalam slippage', 'People forget all the community and all the community is a good drag and drop down the name of the nation and can not be edited', 'Uday Finance Natarana Politics?', 'Many of the goodies of the female community visiting the society,', 'Trailer, City Village Menu Tank Bulla Seen Reich', 'Congratulations to the great victory on the behalf of the Veerakudi Commercial (PM).Congratulations to the counter, Nadar, Dawar, Vanni, Nadakar and other social friends who have proven unity here.', 'Our gratitude to our gratitude on behalf of the Settiyar community and congratulates this movie to win the film as well !!~ Anganga Maha Janu Board ~', 'Draupadi Amman devotees', 'Buy the vijaya head', 'Everybody is Pa.The Ranjith is about how to leave the kicks.Attachiy, Madras, Pilienter Perumal is still a picture of the film', 'Vellore Congratulations to win the film on behalf of Vanni', 'This film will be the best film for the people of the Tamil community', 'What kind of dramatic lover is a nation of mental illness Mr. Mohan ... Your Vanni caste hysteria is a good vomiting and will not include the subsidiary. The wedding is more likely to be more than the caste of the caste ... Model Manusonna ... Model Manusonna ... Model Manusonna .... Patiya Vicks ... You are starting at Mr. Mornan Anna ... Congratulations to the films ...', 'Congratulations to this film on behalf of the BC Configuration Picture Tanjai Wardrobe ...', 'The hero is born when the hero is born, the police will be fighting.Extrainingite', 'Congratulations on behalf of Salem and Salampillaiya Vegama Zangama.', 'Look out of the community;You know about food dress location;Then you will not talk to talk to the nation paragraph', \"Thalaivaa My Bio Biodiversity My Bio Karasamy IM Very Waiting for Thali Movie Faced Facing Face People's Heart Domerator Dr. Bank Da Madurai Da Madurai Da Madurai\", 'Karuman Budhukkava', 'There are no wonders to say ... Anyone who is in the film Releas,', \"Ajith says that a Braham's Vazi's son does not work\", 'There is no one that Jathi here.Good is the badman Alao.Be united man.Do not become animals saying the caste.', \"Congratulations to Society on behalf of the Men's Muther\", 'Pilienter Perumal is the social judiciary ... Draondadi', 'I will tell the picture to succeed', 'Congratulations to the great achievement of the film on behalf of the Deepan Chinnamalai Counter Council', 'Congratulations to achieve the film on behalf of Villupuram district will be our 100% support for this film', 'Greetings brother to win Draupati', 'Struggling Dapna is the creation of the earth and the life of the Level Level', 'Congratulations on behalf of the develt Viswagarama community', 'Dindigul District Santhanam congrats on behalf of the film', 'I Nadar I Death Friends for this film', 'This movie is like this film and a three films that Dhanush starred in the film and the film', 'Everyone will start looking at the picture theater', 'Congratulations on behalf of the Vanny Society to win the film', 'The uppercase of the wander', \"Hey dog .We will have the footsteps in us.Let's Survive Da Week Now We will come to the trouble of the trouble.Its good for you from a little pushed\", \"I'm who I am the decision to decide which I decided to decide .. #Vivegamtrailer Vera Level Thalaaaaaa\", 'My head is my head ....', 'Where to go to the old man and tell the Jaya Amman', \"It is not the only reason for the birth of the birth of the Jam ... This is the problem ... This is a problem ... This time of money can be done in the bail of the bailout of the galaxy Path ... .. Victor to talk to us ... Nama Pazram ... But Many Flag bribe ... Nama's dude is the Saddle ...\", 'What is the same language guy in the same language is more than the same language?. Pattita Hey My Jatita Owanda Nathan is a fist of the curiorder', 'Congratulations to Success on Dharmapuri Vanny', 'Do we think that we have to eliminate the caste and tell us what we do if we do not have the hands on the hands of the women?', \"The fanatical trailer verse is the different Level.Every daddy brother's family's painful congratulations to win Draupati\", 'This generation does not know the caste Da.', 'Thala I love u thala.a man Great Will Power. Your labor will not go to the ViveGam. Congratulations to win ViveGam', 'Congratulations to win the film on behalf of our Nadar community', 'As the caste mani is the film', 'See Mass.Strictly the picture will win the greatest', 'Good leader Mari indicator - Background Like Something Plan Podgie Muray', 'Congratulations on behalf of the Human caste of Coimbatore.', 'Director Mohan who comes to Consultate the realities of the fake nation of dummy, the fake social and the beards', 'It is true of the Maniratnam Sir Image Trillar Paka Mass Trailer', 'Dey Daiyanidhi ... Now this is the title horizontal ......', \"Best Picture (Trailer) .. It's more like the film\", 'Throwing Trendy Club Wow ..', \"Self thinking of the superhero 'superhero' - 100% True in the AGE INFORMALCE AND MASS DISTRACTIONS.\", \"Let me get to the comam and everyone is the best of Jadi's favorite\", 'Rajinin does not share this', \"HIT THE LIKE BUTTON ESPECIALLY FOR THE FINAL DIALOGUE .. Yogi Babu: This is the 2016 reliant.Rajini: I'm sure to come to politics.Jayam Ravi: Hey which none of the uncompressed 96. Bangam yaa .. 🤣🤣\", 'Congratulations to win the Draupadi movie on behalf of the Muralist people in the world.', 'The soil and the sleeve of us', '96 Equal Celi Gadu Chundhanda real clown rajini', 'Does Bharassannu Showers who took a ruler of the ruler?Although the Jadi Moody is anywhere, these younger generations do not respect', 'While the money does not have the money, a director of the Director is the Vanni Nation Vannyam', 'This is one of the usual monkeys in Jeeva, a headache.', 'Dai ,,,,, lower caste under the caste Under Caste Danda BY COUPS!', 'Illo nations are greeting, and this picture will destroy the nations !!!!', 'When you buy it in the outside', 'Do not like the use of his music to the king Sir?', \"We saw the Gomini Trailer this morning and saw Rajini's criticism of their politics immediately and told me that I could not get joked to the manufacturer\", 'It is important for both of us', '0:40 Do not include Adangana', 'What are you big collections?Vijayna: Speaking on the Allever.Yaroo?My Pancondan', 'Congratulations on behalf of the Hindus!', \"Amarar Kalki's creative biome\", 'The director of this film is gracefully appreciative of this film', 'The film on behalf of the speech is congratulating the great success', 'Congratulations on 100 days of this film on behalf of Salem Nadu', 'Surya Panes to Wade for My GK', 'The \"Meeting of Dhana\" is the film to Neurology ... every Chinese ...', 'The film should not be laughed at the beat of the hit.', 'Render Mean Trailer Batha Patta Batha Batha Batha Batha Patta thinking of this drama love dogs ???', 'Draupati is the story of 5 people to marry the same girl in the desire to marry and allowed the woman to save the woman in the gambling.', 'In the feedback, many of the lives of the lifespan are the beasts and the idea of \\u200b\\u200bTamil Nadu. Chartheung murder is characterized by cynical birth. Somewhere in the world of the world, but we?! It sets both of it. Learn everything and sow love and live in the way of humans! Love and grace are stable! Caste and religion equals the sewer! Eccentricity', \"We have taken the film of the Tamil party NTK's NGK\", 'Congratulations to achieving the film on behalf of Tirupur Kongu', 'My love This thing is the failure of the failure that anyone else happened to anyone else the caste is all the man of the nanny', 'He will not go to fight and die will not die, the Ultimate Phoenix is the bird', 'Adi Anna fans are only lying', 'Tamilnadu Devararasari ... Welcome to this picture on behalf of the Association .... All our Tamil Nadu government can be beaten ...', 'Trying to repay the redirect', 'Greetings to win the movie on behalf of the Kingdom of Kongu, Kongu', 'Congratulations to win success in success', 'Vadrian Poster Group Indoor District 9715569709, 91599454145, 91599454775, 6383454775, 63817227515', \"Draupadi's screen sight to appreciate all community women\", 'It is not the caste picture of the theater love and the quality incident will soon be sure to be tearing the veil of the pit tillings of the pit tillings ... #houbathi', 'Congratulations to the film on behalf of Thiruvannamalai', 'I will tell you to win the film from the District of Herea', 'Modi will soon bring the law unless the caste', 'I am a commander Vijay fan.At the same time, Mr Ajith likes them very much.The good talent man but in many cases there is no right story and director.After the beginning of Billa, Madamatha, there was no good film for him.In the coming periods, he will choose a good story director to accept his ability.', 'Borome with good a kamy', \"Soon the Vijay's Stream of the Vijay's Wijay's Wedding Image\", 'Furst Seemi Glamarra has taken so much glamorous trucks that the maker is not a good job of the Magabava Mawadaya, which was not a good job for the eye.', 'How is the caste originated? My guess is that the players who lived in each period are admitted to their name, But here is a strategic - the wedding is looking for our physical health. If the science tells you if the close relatives are smelling, the body is determined to be born to the body. There will be a lot of vulnerabilities after religion change or mixed marriage. It is very important that the marriage should be done.', 'In the cinema sector, Okinawali is an amphalian duty ... Take the truth ...', 'Congratulations on behalf of the Deepan Chinnamalai Counter Counter', 'Hope for yourselves to you for you.', \"Anta like this!Something's Avengers Trailer Path Sample\", 'Congratulations to win the picture (Galaler Community)', 'Maniratnam Lion Da Da Da Da Da Men Men', 'Adasana should not include where the inventory Middle Tellen 5 ...', \"Let's Call for YouTube to place Heart Simply to Like Only Like and Unlike Not Satisfied\", 'Sako is the time that ITube is not Haha Reacony', 'Brother Mohan G. Brother Mohan G. Congratulations to the creators of their biggest achievements', 'The film is the head of the film .... This film will succeed in the film .... My congratulations to win the film .......', 'Congratulations on behalf of the Southeast Director of Ramanathapuram District', 'Congratulations to win this film on behalf of the Vanny Association of Namakik District', 'Place the film on behalf of the Vanians on behalf of the Vanniians in my Manthungalichi delta district', '3. 3.Mails Tamils.To pick up.Puzzle ........ Sem.Mas', 'Ranjith & Mari Selkaraj = Mohan will be Anna Naga (Dai Mari Selvaraj & Ranjith to you Serupu', 'Grandpa pleaseIs that?When you play Romans China', 'We should not support the love of this model, as polishci love is to do the love.', 'Congratulations to win the film on behalf of Tamil', 'Congratulations to win the film S. Duras Yadav warrant paddy jilla', 'Teaser saw the beginning of the beginning of the end of the punch ... I was sure to come to politics ... I can compromise the smile ....', 'Congratulations to win the counter heaverisms 🦁', 'Most Beautiful School Must Watch in Sri Lanka', 'Southern page is the best tear tears to affect many theater lovers', 'Suriya is going to come a hit movie after the day ... !!', 'At the 30s of the 30 times the V. C. Da Map', 'Madapika is like all the caste fanas here ............ 🤦 The nation split is Jalia (see) I.', 'Go to the head of the teenager...... NICE TOAPPA ....', 'The film should be the lady to the lady to the lady of his caste identity, such as Ranjith ...', 'What music God is the first Royalty built for him to shoot BGM from Beethoven', 'People in the local election are the serpent of the drama romantic leadership.He is no longer the synthesis.', 'This is this.Old Look is somewhat oh.Ana Chief Minister Luke is not good.Please', 'Congratulations to Satriya Dharma Draupati', 'Everyone will be tuned with a lot of folder than the image of the raceman.', 'All of the verses are awesome no longer tell anybody', 'Live with the film success Thank you for the Tamil people', 'Congratulations to win the film on behalf of Vellore', 'Jayam Ravi Anna Congrats Congratulations Awesome Like a lot of news', 'Congratulations on behalf of the Seer to win', 'Brother director Mohan is heading to their creation ... This film will show that the giant will succeed', 'Rajini is a residue .... shakes the touch .... A RSS Madness is .....', 'Congratulations to this bite movie on behalf of the Hindu caste', 'Congratulations to Vannyan Group Ku Varavainga +918940263072 INTHA WhatsApp Number Ku Hi Nu Message Panuinga', 'It is important for us to the rend of the earth as well as the cuts of the Vera Leveleagerly Waiting for this movie', 'How many times the freight in the Yow Bar is, how to vomit this', 'Dialog is the Dialog so Kawala, from Writer Sujata to Dialog Supera', 'Pollachi caste hysteria countdowns Mohan g greetings to them Congratulations Rape People and Pollachi Counters', 'Congratulations to Mohan Anna Congratulations Picture', 'Mohanji Pro.The film is for the theater.See the picture that is eager.Seekra Relies Tate.', 'A trailer Releas ...... excited to join all society ......', 'Where the south of the southern Koran Nadakar Nadar Conar Castle ...', 'Attra Adra ... Casal Furnishings Capital Cinema Development of Cinema Development ... It is also known as Machan Heroam, is definitely good ...', 'Rajini - 40 years of screening for 30 years, but it does not have a word that has never been killed by anyone until it comes to a word that has not seen a word that has never been talking about it. This is why he', 'Congratulations to the biggest success of the movie', 'We will support the Picture of Our Migrands', 'Congratulations to win the relevant picture of the counter', 'Congratulations to win on behalf of the captain fans', 'Congratulations to win the film on behalf of all the female children', \"Navanitary theater love is all of the love ... It's wrong to attack the specific person ... I'm a sister ... Congratulations to win the film\", 'Congratulations on behalf of the nail counter .....', 'More than how many Periyar arrives, the caste can not only be eradicated.Equality cannot be fixed.Lift the caste in our Tamil Nadu and the hands of the handsome that is enough', 'Reservation of Reservation Picture Gaduwettiya Tambia Cavatiya Government Center Vannyan Development Government and Settiyar Deer Gunter Coodier Settiyar Deer Bull Society and Bullinky All the Settiyaram Nama Crowd Events Koata Everything All the societies of the rainy principle are the state department', 'Ambedkar My Pulu .. Bur Devidia Passang', 'Thank you for finding out the TV shows of the popular TV shows in the city of Tamil Middhai, which will take place in the Tamil Middle Tourism of the Tamil Middhai, which will take place in the Tamil Middle Middle Middhai, which will take place in the Tamil Middle Middhai', 'Congratulations to the filmmakers who have emerged the mood of the people of the Theaby District', 'On behalf of the Crown Madrian, to see the silver festival, to come to the silver ceremony, welcome, welcome, welcome, welcome, lie, false,Teaching, one of the superiority, in Tamil ,,,,,,,,,,,,,,,,,,,,,,,,,,,', 'The monster p.Perumal Gala Pattamla Fadethi Apparat Abbott Draupati Chamma.The story about the romantic love of the other community is cheating.Anta is painful.Doing it to do it', 'Thank you for the dependence on the dependers of the Director. Thank you for bringing into the movie.', 'It should come up with more movies like this', 'Congratulations to the film on behalf of Ramanathapuram District', 'You can hit the knowledge Ephaltida can not talk to the iiban dog detailed dog Netima iota Vita Kykikina', \"Surya Anaana's next footprint of the Level Anaana Seem\", 'Day Day 4, How to Get It Video Pattita', 'Everyone who depends on the dynasty', 'The next caste girlfriends love is a picture of the Picture of Salad', 'Rajini fans are how Mind Voice', \"I'm Tirunelveli...Congratulations L\", 'Congratulations to success on behalf of the investment', 'Congratulations to win the film on behalf of the wardrobe', 'Congratulations to win ... on behalf of the leak', 'The awareness is the time to tell parents from childhood, and everyone is a lonely and loneliness,', 'We are very important to the masters of the soil', 'Hello Da Mapli Dhandiya ... Trailer Da ... Dhanta Dhandi Hands .... Picture', 'Congratulations on behalf of the silver society.The success of the film will be inferred to you.', 'Congratulations to the film on behalf of the Uttimarur Aarani Senjalpattu Aeronautical Chettiar.', 'How many people have come to the sake of my voice', 'Congratulations on the behalf of the Devantaralaya Velayar Community', 'The head of the head is no longer anybody will pop', 'Congratulations to your troice, my aasirvathangal to win.', \"We should not have all the freedom of Da.The but we would have been the dog's model for white\", 'If you dislike 3 months, the elections ... If the film is 3 months ago', \"I have GVM Story Slide IT's Good to See\", 'BGM ENNA PAA SEMAYA IRUKU Verse Leval Leval is waiting for expectation because the film is focused on a true incident', 'Shatrinda Tal Machan Other Level Getup', \"Surya's film is why the turtles come to the sort of cry\", 'Congratulations Image Group You are courageous to tell many people', 'This picture is 100 Director of Greetings to run out of the day', \"Rajini needed Rajini's name to dispose of Jayalalithaya regime in the 1996 political DMK, 1996 Tamil State Congress Party\", 'I AM Tower Sold by those ___', 'If you look at the caments here, the bridge is not too dark if the bone is not awarded.', 'Deepa can also be kicking to act ... There will be a little bit of mind.', 'Everyone will support this image on behalf of Saurashtra ...', 'Mishkin Super Director Udayanidhi Stalin Sir Do not Polite You', '30 years and Motholy will be seen in this film ...', 'The syllable of the syllable reply to the lumber is 🤣🤣🤣🤣🤣🤣', 'Thank you for registering in Tamil and congratulate Draupadi winner', 'Director Mohan Sir Continuing to run the kind of images which are continuing to run ...', 'The caste is located in the Papa: The sin of the clan damage. This is the 100/100 truth word for the exhaustion, because the Lord created religions, caste and languages, but the man who created the lowest of the man who created the Lord, and the Lord sent every virtuality in the respective period.', 'All community belongs to him', 'Congratulations to the silver ceremony on behalf of the river heroic stamps ...', 'Anonta Jadi Padama to pick up 🤧', 'The political community is running to the end of the figure. This political community is running.', 'I have never seen a trillar as disguster than this', 'Athalai filmmaker for the gratic love conductor Tirumavalakavan', 'Theme Music Copied from Godfather Movie.Is it the lack of humility ???', 'Congratulations to the film (lesson) on behalf of all Tamil Nadu Retders.', 'The greatest screenplay with a large scale awareness ... Our jugs have you ... congratulations to win ...', 'Wonderful Wonderful Wonderful Wish Girl Wish Girl Wish Girl Wishes Wishely Wishely Wishely Wonderful Wishely Wishely Wonderful Wonderful Wonderful Wonderful Wonderful Wonderful Wish Girl Wonderful Wish Girl', \"Congratulations to celebrate the silver festival on behalf of the Singapatti's way !!!!\", 'The beauty of the nail is beginning from the root of the nail, even if there is a great deal .... Anna is the devastation of it', 'Congratulations to win the film on behalf of the District District Vanny', 'Congratulations to the Great Victory of Standard Incident Mohan Sir', \"When it comes to the end of this nation's problem .. Where to get rid of this world 50 year backwards\", 'DISLIKE NAGE NAKE PLAY', 'Congratulations on behalf of the Compiler Progress Corporation to win the song', 'The fight is to escape the scene of the struggle', 'Congratulations to the drama mob in the Kongu Velayer Counter Dynasty Thinking Mobilizes.And the director Mohan asked them that the films should be created more and more.', 'Marine Mass Superb Image Diamond Festival Congratulations on behalf of all the head fans 🤗', 'This is why he is at the peak of 40 years.In the cinema of the constituency, you can not do anything without inserting him.You are thinking of punching her back.It is true that you are going to ignore all of them and go to the peak and go to the thanda rod', 'Anta This song is a video of this song ...', 'These community people take the picture to make awareness and congratulate them with Brother Mohan Ge ...', 'Tamils Tamil Lam Jaeding Kanda Malayalam Archaeus came here and said the Malayalam', 'My game is Beyond Pain', \"In December, Kanchipuram Dalt NAME Rose Wannah's Dalit Shot Name Rose, Wanni Jadi Devidia Motorama killer Vanni Jadi Devidia Monitor ... Drama Romantic Group Vanny Nati No1 ... Bad Damangele ...\", 'This model will have a separate courage to take the picture ..... \\\\ r greetings.', 'Congratulations on behalf of Tirunelveli Zoo', 'Commemts சம்ப்பு ... The first time the total Tamil castes are combined together with Guramah Islamician users', 'Anyone who wants to do anyone', 'Rajini will come to the political ki 2050 L', 'Drifllayay Semala Sacred Level', 'Congratulations on behalf of the Jayam Ravi Yogi Babu Mass Alliance', 'Standard incident should support all this film', 'Congratulations on the screen on the screen 100 days on behalf of Muthalar society.', 'Do not be a picture of the film?', 'Congratulations on behalf of the Vidharayam International Association to win the film ....', 'Congratulations to the success of the film history on behalf of the Blammar Society ....', 'Surya Mohanlal Arya Super Combinations', 'Next Picture to Picture A Picture', 'Kuruma Boys Kku Guy in Padruda', \"The Edver's Palanisami resignation\", 'Collocentrum ... !!!Congratulations Mohan ..... Simma, however', 'Congratulations on behalf of the Cuddalore District Certification', 'NTK Cantiwa We will be awesome', \"DISLIKE VIDA COMMENTS ADHIGAM Fantastic Like All People's Support Command Box Warm Everyone Thank you on behalf of the Vanny's behalf ......\", 'Congratulations on behalf of Vanni Kula Chatriers', 'Attached:', 'And the faith of God is the figure of the music that the music is the music of the music bio-pulse,', 'I will see the theater when our home girl is releasing this movie.', 'Mohan Mohan Thank you how to make this picture of the movie ponnunnku in this film.', \"Someone sees Vijay Sethupathi image, so I'm here with Credits Google Translator\", 'When you make a gold, the Property, Punta, Papia, Mama Mulla Cushy La Papia ........ Payalugalaa ..,', \"What's Da Driller is like leaving the caste\", 'Congratulations on behalf of the socisage of southwestern film cruelty for the cruiser caste slavery.', 'This picture of Thiruvannamalai District is where I planted my cost of 500 people', 'Yaralam BGM monster like the film Solrawanga', 'Great congratulations on behalf of Surya', \"Other Level Dermatus Anna Mohan G Kshatriyan is important for us to the mildest of the earth ... Let's cut the hands of the yaroo.\", 'The favorite name of Draupadi is ...', 'Congratulations on behalf of Ramanathapuram district for Tamil filmmaker Mohan Anna', 'This is the only social rewritten film and the pronouncoccocces, because the guilty of the guilty of the guilty of the guilty of the guilty of the guilty of the guilty of the Karnataka female doctor.', 'Thank you', 'Stop being the caste hysteria.Start to become human.', 'The Comment of the Comment of Humanity Humanity This Comment Everything goes on', 'We know that these nations are reading kametical', \"All the achievements have been bribed as a politics, and there is a bribe, and those who are in the pre-backed backs. Being honest, they do not have achieved in life with self-existence. One can not say that my acclaimant will not buy bribe. They think that their achievement is in their home women's jones and refers to freedom for women and make their caste lingers and make public prostitution.\", 'Congratulations to win the film on behalf of the Kongu counters .....', 'Today at 8.00 am the Lord Mega series', 'Where the Study Study is everything is the name of the worship of the worship', 'What is Bunanumo Pangan Da Ahmat Man is a blasphemy of brush ***Bongha you and your nation', 'Goodwoman Natanda is the name of the caste', 'Ohh Elllam Penda is the inheritance here', 'Allu Chip is coming to Otanguda Agni Mother!', 'This title crawling Way movie is the theater and go to the .... Wherever he was in Duty. It does not show the head of thieves, robbery, killings. Moved the politicians ... but was very short time ... Frequently changing the place to change the power. Mr. The IAS variable changed him a lot of space ... Then I was reading 11 th ...', 'Congratulations to the success of the film on behalf of the King of Chola', 'PA Ranjith .....', 'I think the Ratchcom model is available for a thriller', 'No matter how many times are bored ... standard incident ...', 'Fast ..... of course the film is great .... Congratulations ...', 'Only one video .... 2 minute 32 seconds ... Using the awesome hand ... Some of the awesome hands ... Some people fall into the earth and Kadavan .... Now I.', 'Lover from six to sixty ... singles Pavam', 'Mass Exciting Moment is conscious.Thanks for the group ... Congratulations', 'I am very happy when looking at my enclosure.Live the wanny pool.', \"And many such scensions should come in the future.As the souvenirs have slugged castes ... Theran Brother's bloody war ......\", \"Draupadinna 5 people are bond.(Su) Women's Women Really ???Aymo Ayyo ... This is this ...\", 'Ajith Biya Days Hill A Asian Medal won the Asian medal in a quarter of a quarter of the Ajith Ajith Ajith Ahta Modiya Bureau Koti Ajith Ajita Ahta Embassy Bureau Ivan Ajith Avatam', 'Congratulations ..... Friend .... My greetings to win Himalayan .....', 'Tirumavala, Ranjith ,,,,,,,,,,,,,,,,,,,,', \"The Quality Image ... Congratulations Image ... Draupadi's incarnation is unlikely ... many years after a Mohan Mohan in the cinema. G Anna ...\", 'Congratulations on behalf of extraterrestrial dwellers to make the caste praise ...', 'Semi ... when the film will be ...', 'Adejappa film is a highlight of the film', 'As the earth and the golden is like the coming of the good Rate', \"This is the Kumuria that is in mind for everyone's lesson\", 'Spring Bhava is a crore visibility achievement this year', 'Congratulations to the Kanjith Kumar Village Ranjitkumar Village Ranjitkumar Village Ranjithkumar', 'Ranjith will still sleep for 3 contamination.', 'Chola Empire Chhatriya Vanthan Raja Rajya Raja Rajya Raja Chola Woman Vanny', 'Tamilnadu Greetings to win the film on behalf of the Vanni Counters', 'Facebook Twitter Rendange Namadan Paste', 'Manratnam Godfather is the old story of the old story, the old story, the old story and the new story is the same godfather.This is a half of the Breaky Hairters shortened', 'The anarchy of the anarchy is the death of the death of the death to death.', 'Tirunelveli (Tenkasi) District, Nayakar, Nayakar, Natar, Natar, Natar,', 'Congratulations to the film giant on behalf of the Woman', 'Congratulations on behalf of the Kumbakonam Thanjavur Nagapattinam Thiruvarur district ..,', 'Our village for our villagers on behalf of the town', 'Congratulations to win the movie on behalf of Salem Vanni', 'Wonderful ... Congratulations on behalf of the District District of the Devendra Kulameri Rebuilding ... It is important for soils.', 'The Tamil battles are fighting for it.', 'Congratulations to the film on behalf of Ramanathapuram', 'Thank you on behalf of the heroine Vanni Kula Satriya for all social people', 'Trailer Lare Evolve True ...Apo Picture is the Level Level ...', 'Super Movie Success Kuwait India from Kuwait Country', 'If a film is taken 10 years ago, a lot of theater may have blocked a lot of love ... Thanks to the pre-arrival of the directors', \"I'm ready to welcome Draubadi to sleep with the tremend of the other castes now\", 'The fantastic picture at the right time will definitely succeed, the fantastic colleague', 'Congratulations to win the film on behalf of Dindigul', 'Seyman Vijay Sethupathi Aravindzamy Simbu Arun Vijay Semi Semi Mass Manitamin', 'Kapali comes to the film .... (150 days) Teaser Unlike 17500 only ... but .... paima teaser came out ... two days .. 26300 Unlike ...!Pleases .... Leader with Rajini .... Do not compare ...!In violation ... Compared to you ... ostros ....!', 'Vanda Rajava will come ........ Hundred Earth for the king of Rajava!', 'The head of the head is to break the record of the Tandah', 'Congratulations Draupati Group ..... Tirupachanur Village Villupuram District .....', 'Thanks to the Mohan Vanni for the Mohan Vanni, who gave an opportunity to see the place in Oregon', 'How many nathi in Tamil Nadu will be known for the Jauten', 'The monster film Vanda Samoam Picture.', 'A monster for the land ... M is a Drauppathy for Tamil women ....', 'The nature of the nation of the nation of the nation of the nature of the nation ... Five Knowledge ........ The Tamil people will join if a community is formed.', 'Suryanna Panes.Time to show the total hysteria', 'Congratulations to the films on behalf of Nadar community !!!', 'Congratulations on behalf of the Simbu fan to win the smile', 'Congratulations to win this film ..', 'The soil of the earth is important ... 2 will cut in the hand of the hand', '1:21 The Film La Theater Le Chishiya', 'Surya Anna is the same as Maasss Triller Bathata film', \"Let's see if this film will first come to the scenes.Even though it comes, the film is tired.A large actor's Machan is a large actor's extraterrestrial fans of the big actor.\", \"Congratulations on behalf of Draupadi Pig, which will be acted as Ajith's mileage Richard Hero ...\", 'Congratulations to win the film on behalf of Tirunelveli Tenkasi', 'Congratulations to win the film on behalf of the Ramnad Yehwa ...', 'The caste hysteria is Allaa', 'Congratulations to the film on behalf of the pupasambati', 'Dalit Allah Congratulations to all Advantages Devidia Passanga', \"Let's cut the crude hand over the handsome hands!............. cut!Theran Parantha!Throdelvala Pritha\", 'Should the caste want to beat to show ..', 'The guardian of the people really ... the Man #suriya ....', 'Joker pussy laughter Punta Da Pollachi dogs', 'We are greetings for us to achieve the success of the film on behalf of the Chenger Madrian', 'Puba based on the caste! - Kuladmic Diplomatic Reasoning Sin - Mahagavi Bharathiyar 🥊 PM Papa! - Treasati Film 🥊 Your Society of Draupati Film 🥊 Your Society Steps You Each Family Each family will rise to the society that will rise to the society and the social problem that rises to the society Forced. . Thanks', 'Congratulations to Draupati victory on behalf of the king king', 'Congratulations on behalf of the Devendra Gula Order .... Vanny Southern Athewandran', 'Congratulations to the success of this film .... Krinkle Group is kicking ....', 'Jadi Clawatna Ivanunga Jathi', 'Congratulations on behalf of the wardrobe community.Ivan Perambalur Nathmanai Wear', 'I will buy 100 ticket from the first day of the காட காட காட கடவுள் கடவுள் goddess God', 'If the movie comes to the preview of the film, Kurma is greater than Kuramba', 'Congratulations to the film silver ceremony on behalf of the Sirai Katar', 'You are someone who is old Friends ... unbelievable.', \"What's the observation of that?Looking at the parody of me and the platform .....!Acting with standard verse ...\", 'The next Moky movie is the model of the film', 'Congratulations to achieving the film giant on behalf of the Gonar Community', 'Mixed marriage is Bannel Baby Baby Baby Congratulations on behalf of the murder', 'Women who know me do not believe ... Who is more women than men ....', 'Congrats on behalf of Ramanadu Marathi Pandier Dynasty', 'All the Chettiar Community People on behalf of the Draupati', 'Congratulations to victory on behalf of the Hill', 'Choose the best leader for you despite any community.The best leader to live and live in your work.', 'Congratulations on behalf of the Cuddalore District Vanni UnionMohan Anna .....', 'Heroes. They congratulate Draupati to win with Nal Asian and Sandana Forest Veerappan', 'We congratulate the film on behalf of Virudhunagar district', 'The soil and the rejoicing will cut the hand in the yaroo', 'Good job mother this is now ..', 'I do not have any of the string nodes ....', 'Congratulations on behalf of Kumari Nadu', 'We congratulate the movie great success on behalf of Namakkal District.Draupadi', \"Korean film 'i Saw the Devil', 'Chaser' model\", 'Congratulations to the picture great success on behalf of the Pudukottai Conar Community ...', 'Congratulations to win the picture on behalf of Sourastra', 'Villupuram district ginger block PMCThe film is a great deal of success on behalf of the Popallaur Union', 'Not Bad .... My Favorite Scene Karun: What to Salute!Thala: Tell a coffee :) Karuna: !!!MEMES PODA SEMA SCENE NU', 'Congratulations to the Mohan Attaches to the shit and dogs.I will visit the social woman with my family', 'Kapali, Gala, from the quiet coming of the film, when the monster came into the film and why everyone would oppose everyone when it comes to this movie ???If a monster is no longer a monster, a thousand shiver son and a thousand Draupadi', 'Congratulations to this film', 'The biggest minus is the Udaya.The foolish shadower of Truly is the performance of her acting.', \"This film is cast in the caste and the way to its leaders to the class men who want to love the wrong path. Furthermore, the Iron society of Brahmanan has put the Jadian in Tamilnadu under him. First of all we happen to us, his mantras are full of pornography. The woman we are married is the marriage of the marriage of the marriage after the Chandalan Brahmin, which is the first mantra of Vishnu. This magic will not only turn off. Focus Alternate Jadi Friends It's awesome for you .. thanks\", 'Fertilizing blood Sindhi Rice Submitting every life and the country is good for every living worker and the right of the country ............. \\\\ r the Word for Politicians ...', 'I have confirmed that the politics is 96 any of the 96th!', 'The struggle for the struggle of the struggling and the ultimate slowdown of the craftsmanship ...', \"The caste fanatics are giving you 'nomads -2\", 'The person who does not have in the first place in the world in the world is visit', 'Let the veil of fake fighters.Picture of the poor is the film', 'Congratulations to the film on behalf of the Johnny Chins', 'IM in Favour of One Nation One Caste One Language, One Religion .... My wishes, Ourtha, Organic Again', 'The real romantic caste does not look at religion but this dramatic lover is the only way to play the jewelry of the jewelry of this film', \"Adei Conscience is the filmmakers .... ???Prince Gokulraj Sankaru Sethavanam List caste Casangauda.In addition to the Nandini Archives Rojanu, the lives of the girlfriend's girlfriend and the lives of the sadies.All of you are Munday\", 'Participants You do not have to get the souls of the Praiman, and the Sunaan (Deety) is not aware of us....', 'Congratulations on behalf of all dogs', 'Mercel & Viswaas coming to this awesome picture when this film comes in the theater ...', 'The man of the acting is true', 'Congratulations to win the film on behalf of the Vanni', \"Let's just marry it this ... I can not see two people who love is true\", 'Galway Paramed Village, _ABACongratulations to win on behalf.Wanni Vanni Kula Shakthirier Dynasty ...', 'Where is Vikram Veda Image Background Music Laam Cake?!', 'Those who think to see in the theater', 'Freeya vidunga 🤪 for chest short crime', 'This movie has been revealing the dominance of women and female children who have governed the dominant women and female children who have been bolded by us as life as life', 'Hindu Muslim Christian Settiyar Naidu Brahmin Nadar Chettiar Naidu Brahmin Nadar Chettiyar Naidu Nadu is welcoming this film', 'Congratulations on behalf of the Vehicle (Vehicle Counter, Agricultural First, Armed)', 'Iron picture model ... waiting for suriya ..', 'Now the caste * The Caste ... The Come to a Neighborhood when a problem comes ... When this hydrocarbon, agriculture struggle...', 'Draupadi flame burns 6.4 lakh visitors cross the Mass Display Trailer.!Congratulations to the Laterbreak !!Please see everyone click this LINK.Share friends and family.!', 'Congratulations to win this film on behalf of the alphabet', 'Efficiency of the daughters, their daughter should also see the film.', 'The image of the verses will destroy the fantastic drama love', 'Congratulations on behalf of Madurai, Ayanur Penimar Association to achieve the success of the film ...', 'Answer the ADMK flag is the DMK Cody.', 'Female children who have received children, families know only for families, pain, pain, shame ... thanks Anna Mohan G!', 'Somehow commander FANS-IMPRESS MANAGE ... Boda You ...', 'Peru hours yes;Magnificent', \"I've been looking forward to the nomads like one\", \"In today's environment, the girl who receives the children of the children and see the film. Yes, I expect the films to be carrying out the minds of the minds of the minds. It will be like everyone talking about the caste. But it's not true. The vouch is the greatest victory of the movie, that the vouch is the greatest victory of the movie, that the violet is bleaking when it comes to a long-20-22 years. Surely the Tamil Nadu media will see the color of this film. But greetings greetings in violation of it ...\", 'Congratulations to win the film on behalf of the Devendra', 'To eradicate the drama love mob ...', 'How many families were destroyed by dramatic love? This film comes with an awareness.', 'How many people are Billed Cutout only 5 times', 'Salem District Omalur Circle Borthbaghpatti Village Chanikoundanurur Thank you for the congratulations on behalf of the heroine on behalf of Chhadrian', 'Trailer ... Other Level ... The true face of many theatrical love is waiting to hit the sandals in the sandwiches .... First Day First SHOW CONFORM ....', 'But the punnel but somehow can torge a victory for the same day to Surya, where the screen has seen.', 'The castes are not only Paper Trailer Looks for Comments', 'Where Papa Mildri Da Kohli is going to say ... (veriththanam overloaded) Wish to All Surya Sir Fans - Thalapathy Rasigan', 'Congratulations to win the film on behalf of Karur Karur Counter Youth.', 'There is no shortage of the film and there is no need for politician', 'Draupadi trailer is not flammable of the traffic or the camel.', 'It is sure that it will lead us to the next stage of 96 ....', \"A house of accomplishing a house and who will come to him. Let's hit the thief ...\", 'Congratulations to win the film on behalf of Naidu', 'Congratulations to Surya Surya Anna See Mass', 'Congratulations to the success of the film on behalf of the Murikalam', 'Telling a dog in a dog', \"It is the same model of the same model and the same model is the same model of the Vanniyan's love, and the relative Sivasamy Sivasami, which is the same kind of reverberation Pataciies Armarti is a fearful habits of fear '!\", 'Puzzle picture of an important social poison !!', 'Congratulations to see the silver ceremony on behalf of the Devendra', \"Dei Nadhyaka is not only enough to help the picture to come to the screen.I'm asking Gypsy ... Help Go Kyi Raju Murugan!This model director is going to pursue you as a whole actor.Help it to get in mind and come to the gypsy external.\", 'Draupadi Image Hero Dr. Dear Like Dear Only Me?', 'Sudden something is a cold fever, but fantastic', 'Mohan Gee greetings.Congratulations on behalf of the Kongu of the Kongu of Kongu to win the film, where the image is looking forward to many days where the caste maniacs are like the caste maniacs, some of us, who is like you.', 'The oru side is not only a side of a side to showcase.', 'Employment Place: Chennai Income: 15,000 - 25,000.Age: 18 - 30 time: 9:00 am - 4:00 pm Contact: 6382103893 Qualifications: (Pass / Fail) 10th-12th Any DeGree Permanent Job Shelter Free.All the breast', 'The sanguo of the sanguo was spoiled.', 'Pollachi is the sake of all caste cars.', 'Draupati poker on behalf of Thoothukudi Nadar community Several castes Papa', 'Mohan Anna dedicated to the film that dedicated this film to fake their mental young people when it was always in the Tamil cinematography', \"Draupadi's producer extortion can be removed and the Kabothi is the crowd funding loving Da ... A CD, and the daughter of the house is a cd, and the daughter of the house, as well as the praya ... YouTube Trailer Commandl Buying a 55 interest to 200 grandchildren, putting this picture of the own cost Da ...\", 'Congratulations on behalf of Heroic Mutriya Sangan', 'Harris Jayaraj ... teaser teaser baryya ...', \"The trillar is not as far as I saw.I'm very proud to say that the head is fan.\", 'Jayam Ravi again Congratulations Ravi Anna to win this picture with a new story field again', 'Richard Congratulations to the feminine rural aroma of Mass Village', 'Congratulations to success on behalf of the Democracy', 'Thank you for all the contents of the commands but we all see when the Durbar image is still screening in the theater?', 'Anna ruthlessness ... Any Surya Anna Veriyans Here?HIT LICE', \"What's the painting drawing is what to do with his point is to draw the Correct Correct Where Dad Semma Dialogue\", 'Burning this to the drama romance of the drama ... This film will tell you to tell Bethavan.', 'Originally the name of the Ilayarajah after that ....', 'My greetings for the Comrade is my best for this film and the screen is only an entertainment that our youth has been sung by the seventh step so that our young people have to be awake and there is no religion and there is no religion The poverty alleviation here is triggered by many people to survive some people who are triggered by a lot of people and we all alleviate the poverty together', \"Super .. It's okay to look at the command .. So many people are affected .. Why do nothing\", 'Perfect Sword for Poonamanda ..... Mohan Anna is SM', \"Do troiler look like this?Apo picture?The other Level's.\", 'Hours shooter will not yield ibde uus ..', 'Mohan directed by this film is a manner of humanity. This image should be ignored by the human community.That is why this film will not come again.', 'Mishkin, the impact of the Korean film is a lot of this', 'Congratulations on behalf of the Nadar community ...', 'Congratulations on behalf of the fox markers', 'Blue Doubt Dumble Dum, Dum, Kuruma Gang Tumble Dumble Dum', 'Everyone knows that everyone knows about the love of the drama when viewing 99% comments here.', 'It is a picture that everyone in the house is forced', 'Before eight years, Ajith will not broadcast on any TEO channels. His name is telling the DRR of many TV channels saying, and their work is self-confident. Freeway. Self-control', \"This movie is about 90'S Kids who lived at 90's Kids Heaven\", 'In the nature of the இன்ன இன்ன ர ரಿಕ அரச!!! அரச !??Preferred clown ....', 'Da Da Da', 'I love the owner of the Theater.I will definitely screen the film for the first three days.Thanks Mohan G', 'These film congrats to win all the caste associations that oppose the love of the play.', 'Congratulations to win this epic on behalf of the Madrian society .. .... Dissaine.', \"Tamil Nadu is the fact that the PARIYERUM Perumal film is true ... It's true.\", 'Day Directorate ... How to choose the story and how to make the story of Mauri Selvaraja Kadiya Selvaraja Kettiya ... Take good story and win the story of the Vakulana ... Jadiyadic dogs to take the same vertex Much of the ...', 'Why do the Vishwash to display the ugly.Awesomethalaaaaaaaaaaaaaaaaaaaaaaaaaaaaaaaaaaaaaaaaaaaaaaaaaaaaaaaaaaaaaaaaaaaaaaaaaaaaaaaaaaaaaaaa', 'Thank you very much for walking the event in the country in the country', 'Falls Director Arun Purus Dodaman is the next creation of creation', 'Congratulations to win the film on behalf of Kumi District BJP ......', 'Mohan Anna is still streamlined streamlined ....', 'American Agni Chattis, Norway Banakatas, Canada Counts, Congratulations on behalf of Denmark Dev, We are proud of us.', 'This model is the privilege of this ...... Super .....', 'Dir Mohan Bro, my heirst is Draupadi.', \"Blue Baikku Symbols Sermon is one of the caste that will eradicate the caste.If they take the social revolution, social justice took place by the caste fans.If the creator's work is the creator's work if the creators work to hold her into the community.He is the moral responsibility.\", 'Congratulations to celebrate the Silver Festival to win this movie.', 'My awesome burden is affected by a very cruel disease.The name of the disease is caste.The only way to eradicate it is only the caste denial weddings.', 'The beauty is the beauty of the novelity, even if there is no great deal. Surya beauty', 'The problem is anywhere but the list of non-list is the problem if the problem is to destroy the image of the outer world', \"It's not the picture is #thot to say that\", 'This variable picture will take the thillu', 'The mother is not alive to see this ... beautiful actress .... Fantastic leader ......', 'Your dynasty is asked to take the picture of their life history of your dynasty ... the sealer in Kawaran is worth it .....', 'Congratulations to the film theaters on behalf of Naidu community', 'Congratulations to win the film on behalf of Krishnagiri Vanney', \"Sya Ghearton Mupotan Poolithinan's primary force commander Mupotan Poolipevan, who gave his assets for the depressed people, did not understand the caste of Mapattan Poolithinah and the caste. The political party now have separated our Tamil species into many sections. Only the people who have the money is high caste. Therefore the caste should tighten down to our feet. Our Tamil race will go to the destruction. Let's save it first. Long live Tamil ....... Grow up Tamil .......\", 'Semi Mass Scheme Relies Panthungi', 'Congratulations on behalf of the District of Trichy Emperor', 'The soil is important to the mildness of the soil is the quality verse brother who will cut the hand of the hand', 'I want to win this film Almighty Shiva.', 'Governor of Tamils 50m Touch ....... I.', 'Congratulations and ...', 'Perukaiyasa ..... NGK Teaser is just good for now!', 'I have the Support of Theravar, My and Me Support Draupadi', 'Rajini is the speed of the tailor', 'Congratulations to win the film on behalf of the Nayaks', \"Congratulations on this film on behalf of the Pavar's son\", 'BLUE SATTAI REVIEW KEEP LIKE BAD', 'All the party people seek to win the Vanni Kula Sathiro Devar Gounty, MBC BC.', 'Other Level ... shein Arya is her wedding.Back to Marry ME', 'If possible the film can be covered, the smallest ponds ....', 'Congratulations to the film of our ethnicity on behalf of the Vanny Association of Madurai District ...', 'All the nations are all the nations are still a nate and this movie is this movie', 'Congratulations to win the film on behalf of the wardrobe', \"Happy..Congratulations picture will win the largest.Last verse is awesome.Even if I'm still 16 years, I will come to politics.But now everything will not come.Do not come.\", 'Jayalalithaa Do not be humiliating everything.', 'This is so long for the Trilurai Home Padma', 'I have worked in the outside country and operate the image in the outside country', 'Congratulations to win the film on behalf of the Muther', 'This picture is also a submission to the affected women and congratulate the awareness for many women', 'This is the true love of the real love of the real love of the drama company Group perfect saturation', \"Congratulations on behalf of the Kumbakonam's proletariat party and the overall Vanniites ... have separate courage to take such pictures and it is proud to see what Mr. Mohan G.\", 'This Nadaka love I Nadaka Pay ..... Wanna .....', 'Tomato Chutney who came to us', 'You have a song like the movie is to become a very hit', \"Incomporable Puntons and Pa.This image directory is this film director's Umbo's.Da #sc thayols\", 'Congratulations to the Film Committee on behalf of all the Cambavar Naidu community', \"What's the Job Shankar sir Range LA LA ........ Trailer 50 times Paartuten\", 'Congratulations to victory on behalf of the society', 'Congratulations to the film giant on behalf of the Madrian Community', 'Mohan thanked them to win the truth for directors such as Ba Ranjith.', \"Dai is Breaded to Bread ... It's a picture ... This Director Kill Kolkuk and drink ...\", 'Congratulations to the creation of this movie record with the Maman Pandians good.', \"Anta is the social picture you say.The same thing we said in the same reason is that our basket is like that our basket is like that we're just going to have this and we will be like this\", \"2.05 ... hey ....!It's 96 whom ... !!!ORIGINAL ...\", 'Trailer Ribbet Mot Latuan.One of the victims of Avangan ...', 'Why the Swathi massacre was banned only', \"Pahapa Seeing Pahapa, which is the cultivation of the Pahapa, which will be able to celebrate the Pahapa Dowdy who will be able to celebrate the Papa Dowdy and Kaikhan will not be able to find the Papa Dowdy who save the Papa dowry Papa is the caste Papapa he's ranked\", 'Trailer to splash.Awareness of women in Tamil Nadu.', 'Bear and monster took his party justifications.I had tears for the bean, and the hand was handed down to understand the pain that the monster was beheaded.Now, the time for Draets.Let her take his parties justice.Why is this disciple ???', 'The pair of pair of pair and the director of the film, the driver of the download', \"Many families will have to save many women's life if you have begun to visit the images as many years ago.Here is the normal one here.That's all and in the right place.Such social awareness works should be more exposed.Congratulations to win the film are compliments.\", 'How much does the Purpose of Peru Da Ithi', \"I'm glad to be in the behalf of the Devendra Kulamera society that comes with such films!The picture is to achieve the biggest success!Theater romantic weddings are women, children need to understand!\", \"Any ideas for me at Adei, the names of the names of the nate, the names of the nate, says it is true to the salary of the salary, you are the formula nathi.Sunau said to me.Let's Pop Pop\", 'Natham Sateskumar-Adamanthamam (Muthalar Community) Congratulations on my behalf', 'I think this drama runs beyond 100 tomorrow', 'Congratulations to win the film on behalf of the Dharado', 'Naughty Wolf is not only the hunger of the hunger lion Singh', 'Congratulations to win the movie on behalf of the Konguwood Counters', 'Hey Pangta Hey It 96', 'Congratulations to win the film on behalf of the village of the villagers of Salem District', 'Interstellar, Gravity, Hollywoodl Scientific Pakama is taken.Even more and more Jadi Religion.IpThe Bhatihana returns to the Kissing Whiteman', 'Congratulations on behalf of the Devendra Island', \"I'm sure to come to politics .... It's 1996 (in the otherty Rajini)\", 'The female children are submitted to those who have no longer happen for the painful fathers for this play love ... Congratulations on behalf of the Vanni', '#Bairavaa is the highest rather than an unknown opposite', 'I strongly condemn the director.You say the drama love, can you show the evidence?The truth is foolish director.', 'Voice Kawalai .... Evacy, I do not expect ...... Voting ... I can get the Kalla Sami ....', 'Congratulations to win on behalf of the heavy species', 'Dislike is as follower .....', 'Ratchison picture model is a few Sean', 'Waterfalls will be wonderful', 'Congratulations to the temple to succeed on behalf of the proof', 'Many of the thanks to the director to pick up our impression.', 'Figure does not run the trailer and know that ...', 'The film is to say ... Cut out ....,', 'Selvanu was a writer ... Surya had no boothy ... This is not forgiven ...', 'Congratulations to win this movie on behalf of the Courtuish Counter', 'Congratulations to win the film on behalf of the Seer Society that loves high caste women in good career and lived in marriage.', 'Dilit Community is a thousand half-social activists in the middle of the Dirupati Fire', 'If the Troubleshooting is a picture of the true incident, here is angry with colored fighters.What if it seems from what the false fighters are intimidating Draondadi, who is still intimidating Draupadi.', 'Where to the Barring Pattachiking, I saw this film', 'Congratulations to congratulations on behalf of the Thirumangalam Volume of Dirupati Theater', 'Surya: Excellent quality incidents is no longer', \"Here's the wrong love of love is the love of love.WE SUPPORT ... Super\", 'The 5th of the song in the community is 5th .... True Picture Trai,', \"The fact that the truth has come to tell the truth through the cinema and the fact that the theater lover's decision is to tell the truth from the Maggarh and our goddess\", \"Self caste, and the other caste friendship is the Tamil culture.Wear the love of the drama ... Let's get married in the native caste, let's join the culture of culture without changing the culture.\", 'Villupuram District will congratulate congratulations as the Vanni Kavala', 'Congratulations to the Great Victory of Throat Regional Agriculture Association', 'Nomads Bart 1 This picture is hitting the hit and the hardest is Ba Sorry', '.5% Even the monster can not get the collection of the film', 'That Mother is only a teaser to be unpleasant to the Teaser to be blessed ...', 'Is this good?Have so much daughter?', 'So you are in the Bandai Hall,', 'Mishkin Mind Voice: What is the floor of the floor', 'The Draupadi Selection is the mildness of the Agni dynasty but today they have to protect the women #woman # protection', 'Congratulations to win good creative picture', 'The privilege of the caste, the privilege of the privilege', 'Focusing TRAILER is only released! Do not fully view the image?What is the money, the study of high nathi cars?Where are you all?The Fundamental Lee of Human Civilization has gone to the dialect!', 'Congratulations to the scenicism of this scenicism on behalf of the Poor', 'Each town will be broadcasting in festivals ... no longer like this film is to realize the truth of the trend nu ... Congratulations on behalf of the soil ....', 'Congratulations to the film winner on behalf of the Vedaranyam Circle Reserve', 'Dii you will be charged with Big Pass Kai .. His Friend .... Super', 'You will have to be tired of your abdomen when you run ... No ordinary verse ... then the pain of the ...', 'Welcome to behalf of the Deepan Chinnamalai Counter Council. Congratulations', 'Congratulations to win on behalf of the Pavar Community ....', 'Congratulations to win the picture of the theater lying', 'It should definitely understand the women and parents in all communities and no media and this is not speaking. Not only for other social purpose except the caste to stimulate the caste. People should clearly understand that the political leaders should understand that other political leaders are misunderstood for their survival.', '24 * 7 Congratulations on behalf of Telugu Chettia', 'People who are not the nations are the people who are the people!Leaders ..... !!If you create a section of the NBC (Non Caste Based) tomorrow, are you prepared to join the political leaders in it?Today, your caste should have reservations for the reservation but will decrease if your caste certificate is called the caste name ...?', \"Level Level ..... What's the theater for the movie to come\", 'Dalit trigger social people and squeeze the caste riots and the slutty feet of some political leader', 'Congratulations to the film on behalf of Salem District Vanniors ............', 'Waving Laying Loyes Having Hurry to Hurry ........', 'Congratulations to 100% success on behalf of this film Vishwakarama society', 'Nine planets and nine planets in the horoscope can fly and flight the large Tata Sumo car, fly and fly', 'If he knows a mistake, he will not leave if God will not leave:) -)', 'Congratulations to win the picture on behalf of the depressed people ...', 'Awareness movie to see all the girls ...', 'It is important that it is very important in the situation where the country is a good', 'Congratulations to Thirupathi Image Group on behalf of Konguinad Huntinglands ... Both the earth and Punna are important for us.He is gathered in my wild earthen duration and my home ponnella.', 'This is 96, the only punch of the Local 23 Verusa ........', 'Naturally the river of the production of the year is the right to come up with the right ???Anything is answered ....', 'Congratulations to win the film should see this picture with the family !!', 'Greetings to win the film on behalf of Tamilnadu Vishwakhari', \"In the smallest chests a hundred crore desire 'Hero Dan Villain ... 🤔\", 'The caste religion is more than the human life.India caste religion is how the power is the power of the Suntie', 'All friends should support this film ...', 'It would have been nice if this TITLE statue was in connection with the kidnapping.', 'Congratulations to the film on behalf of the Vannyan community of Thiruvannamalai district', 'Barcakewant film', 'Congratulations on behalf of Ramapuram Vanny Association in Cuddalore District', \"I'm convinced congratulations to win this film on behalf of the Devendra Kula Againe ...\", 'To whom the Solar Wow Boutique Like', 'Mohan Sir Uha Bank Account I sent money ..', 'Anta is not the waters of the jadi ... next to the warmth of the warmth of the bowl, giving you the dorch lite in the wise.', 'Congratulations to win this movie on behalf of heroan Chankar ................. Director Mohan. G. Greetings on behalf of our society', 'Congratulations to the film ...', \"How to make the caste do the exactly what Dashku's other head offer\", 'We will value all the castes Hinduai Indian', 'If our allies start a facebook page, you will be fine... Do not do anyone', \"Dissa Kuramba's Kuruda's Kuruda ......\", 'Hello Arms Write Part 2 Come', 'Congratulations on behalf of the Tamil Nadu Gover Naidu', 'Congratulations to the director and the filmmakers who have been boldly', 'Papa, according to the caste, not only Papa, Papa ...', 'All of us are aware of the rights of the Bakhanda.', 'Congratulations on behalf of the Gonar Community in Sankaranko', 'Congratulations to win the film on behalf of the Kongo Boer ..', \"The Draupati Fireland is a creation closer to the truth!Let's win justice!\", 'You have been searching for this day.Congratulations on the race of the race', 'We will cut the hands of the soil and the woman', 'Congratulations to achieving this film in the Vanney ...', 'I will be able to make up to 400 caste name Danda Kamettl 400 caste names Neither of the Su sheltered su sheltered', 'The right script is sowing the wrong intention among young people as mixed marriage can be eradicated.', 'Karur, 7/1/20 of the afternoon, 7/1/20 ran in the afternoon, the Veder, who wants to tell the collective dog caste, the collective dog caste, who wants to say,Knowledge Need Love Cust?Give Draupati support to prevent this ....', 'Congratulations to the picture giant', 'Congratulations to win the film on behalf of the Tamil Nadu Pallator ...', 'Congratulations to Tirulapathy Movie Success on behalf of heroic Reddy Associations', 'Fantastic Dilling Film !!!Congratulations to win', 'Waiting sec everything is going to realize the nomads', \"Let's see the film with social interest ..... do not care for the nate ......\", 'The story of the teaser of the rise of the sea is the story.', 'The struggle fight is the bonna bombard', 'Super Nice Ajith Sir Tala', 'This picture is the silver', 'WHOM WHERE WITH THIS POINTS MOCKEN', '1 Ghost Picture Season 2 Sports Picture Season This is the 3rd caste movie season.', \"Let's pay full support to win the film.Ariyalur District, Uthayagodam Village\", \"Tali: I'm sure to be politics ... It's 96 .... Sem .....\", 'Thank you for higher nations my channel sapties', 'Thanksgiving Director Mohan them on behalf of the overall wearing community youth', 'Veerapagu Kansku assembly on behalf of Tamilnadu Channada', 'This is the film for all Tamil community except for the drama meeting.', 'Iron Summer Rogue Lion Feel', 'On behalf of the Konguinad hunging counters .. Congratulations to win this film ..', 'The actual incident describes ..... Females are our eyes ...', 'Release Panthu, IM Waiting the image as Draupadi Duff', 'Congratulations to the congratulations of the Director Directors and try to take people to take people', 'Congratulations to win the film ... our duty to succeed in the film ...', 'Villupuram District Cuddalore District Congratulations to the Draupati movies on behalf of youth.', 'Kongu.We congratulate on behalf of Vellalalar .muthaliyar', 'Tirumavalavan Thirumurugan Gandhi Vellamurukun Seeman DMK Congress Dravida This Devessa Trooki Castee Credits Leave Funstones Funny Stories', 'Papa, dramatic love --- Only ...', 'How to bury the beard .... Bore is ...', 'Congratulations to win the film on behalf of Naidu.Publish as soon as possible.Thank you for sleeping the truth.', 'Anta Foster Ravi New Generation Television 1996 ???', 'Accordingly the giant cranography', 'Congratulations to win the film on behalf of the Paddy District', \"I'm just some other yaru ..... sarcasm\", 'We congratulate the film on behalf of the Device', \"Everyone needs to understand ... Draupati film did not stop the caste. Stops before playing love. Theater love affects the people in all the parties that not only affect a parties. Just cheat women with a mob with just the money. Finally, you buy money on the girl's home and the lives of them. Dramatic love must eradicate the mob .. The picture must be emerged. I will see the paid for the paid pay for the RS.1000 money on my behalf of the film as YouTube. We will protect the girls in the love of the drama.\", 'What Da First come to Vodafone Music variable', 'Hero Ajith Machan ... Congratulations to win the film.', 'Tirumavalavan Dalit Uthi Lei .... Well Daltra Barrowers Love and Dividia benefit from the wedding', \"I'm asking for Dai Chati's fanatics\", 'Congratulations to the film on behalf of the hero of the heroic Premiums (Majra Jankanapuram)', 'Congratulations to win the film on behalf of Cuddalore District', \"Ajith. The name of the name...When's self-confidence ......... wish.\", 'Strictly add the obstacles to the sanctions and reach the success of Mega ... !!!', 'We advertise the Poster to 500 Draupadi Movie for Draupadi', 'Fantastic creative Mohan G Anna will create a new revolution in the Tamil film industry Congratulations to the love of the 7th of Troubleshooting Troubleshooting ... !!', 'Leader Masseus Bhaira', 'So a secret blow drunk', 'This country is a sort of madness .. \\\\ r \\\\ r him ....... r \\\\ r .......', 'The Draupati image should be released immediately', 'New presents are more than some of the students in the line, like the film talking about the politics of the', 'Title is also in Tamil Da ... ..', 'This is a draft or a way to save future descendants to achieve my Tamil clants to achieve my Tamil clants ................. Every female or women who live in society or womenA Maha Epic to feel or see with the family .......', 'It is a lesson for the futures of the futures to say to the deterioration and survival of the caste name.', 'The film is the same as the Semi-Hit ....', \"The only language is born in the soil of the monster of the monster of monster and the handsome young people today saying that he teaches the name of the names today and it's justifying it to slave the movie ... !!!\", 'Theater romantic mobs (this trailer for the thief is thief)', 'Now Tamil Nations and Tamil people are a little bit of peace.It is Mavane Mawan for you Cathedge Put-Budybring.Congratulations to go film', \"Man, Namar Udayanidhi is the best films, but it will not be listol, it's the revaque film, which is the beloved picture, which is the paste, Ilayaraji music in the film.If the song is like this .. Donate\", \"Do not go to the theater romance. Those who are going to go back to the thousand or suicide. Their caste women are able to hide the jealousy of men who leave their males and the female female. The world's advanced society will encourage the latter society\", 'Manirattinam film poker is fear.Anyone say this movie is good', \"Similar.Jaya.J Guru's biography should be filmed.This is my.Request.Heer\", 'Congratulations to win the film on behalf of the Vanny Association on behalf of the Vanny Association', 'The head will have a chance. The magic of the Screen Brahsan is Mercula. Any Way Wishes to Grant Success.', 'This is no matter what story', 'A real male son in the screen industry.Mohan.G', 'Greetings to win on behalf of Nadar society', 'Na countdown ....', 'Theater love Oke Anna', 'Thruudadi', \"If I smiled the Deepavali it was it., I smile Valentine's Day (2020) this ... 🤣🤣🤣\", \"Congratulations to win the film, Kurima's theater love,\", 'Lords to win the film on behalf of the fisherman', 'Loving Request to All Party Sisters, and Mothers Go to Theater in the Theater .....', 'A lot of people saying and emotional and emotional in your caste name ... Instead of saying this fantasy community for women in our home .... This is the first step of the change ......', 'Southern Sakh and cut the Tamil race, as soon as it is addicted to another species, which is wrong', 'One more lakh visitors to reach the goal of 4m.', 'Vanney, Tavar Counter Nadar Devendar Madiyar Gonar Mullapi Chetiyar wardrobe We all are uncomfortable tanta', 'WOW KUBUBLI MADITION MONTITT IS WHERE ORDER WITH YOUR DIVERTIVITURE', 'Greetings in the Great Victory of Tirulapathy film', 'Thank you for the congratulations of the film to win', 'Picture NGK Nail I know the Modern NTK Yoda.Purious we are Tamil party', 'The First Day Furst Show, the Furst Day Furst Show, and the group of friends in the district of us.', 'Congratulations to win the film on behalf of Iyengar community.Om Sraman Narayanaya!', 'Congratulations to Saurashtra races on behalf of the temple ....', 'Dubai was the desert and those people that the tavernath were changing the Tamil Nadu of the Tamil Nadu', 'Congratulations to Draupati movies greater success', 'Wonderful brother.!Congratulations to the temptation of the film for all mothers on behalf ... !!', 'Both the soil and the stomach is the key to the hand and the Mass Dialogue Like Here 2:13', 'The dramatic love gang lifting them to the mob ...', 'I am the Salem District Chola Agriculture.My mind congratulations to win the film.', 'Congratulations to win the picture on behalf of the songs', 'A picture does not even get good movie', 'Congratulations .... Love Jihad, the truth about the church jihad ...', 'This movie will be justified for you ...', 'Congratulations', 'Congratulations on behalf of Deepan Chinnatal Counter Council', 'After several years in the cinema industry, the film won the film on behalf of Rajini Fanjan G.', 'Dogs of caste?Look at achieving.Commerce', 'The film should be emerged in all languages across India.', 'The laughter looked at everything in the coming of the theater of how the theater will come to the theater', 'Congratulations on behalf of Nayakar Naidu People ..', 'The test came to the Superstar Rajini ...,', \"Modi's flair, the atoll of the ameddy, the cinema, the ban on this!\", 'The film is fully favorable to this film as the Gula Krishnan came to this film', 'Death Waying Lion Singar is the arch of the brother', 'Vanda Rajava will come ........ Hundred Earth for the king of Rajava!', 'Man Marana Mass IAM WAITING THALAIVA', \"Here's the reason for the reason for the Peninsu Peninsu.\", \"Trailer's awesome girl and women in the theaters.\", 'Varada Varada Da Da', 'Six million people have seen the image and I have a Vershama Trailer Atta', 'Wijay, Vijay, Vijay, Vijay, Vijay, Vijay, Vijay, Vijay, Vijay and Suriya, Vijay Chaimmu, Vijay and Simbu for Vijay Chaimmu, Vijay Sethu, Vijay, Simbu, Vijay Chaimuku, Suri and Simbu will be the terrific Mass, but these young people are different.', 'Seeing the film to succeed on behalf of the clan wardrobe society.', 'Very awesome.Congratulations to win this movie', 'Congratulations on behalf of Arundhathur society ... 00:32 Clear approval ... wrong guidance, leading to the wrong path ... Yaroine.', \"This Trailer saw the Captain Vijayakanth Narasima's film model is the model of the same thing\", 'If such castes are not suching.Each caste community is special in each manner.Each of our community is well read and worked on the bottom of our community.Apart from the next community, you have to help and live.Otherwise Draupadhi will come.', 'The nation of the nation of nations will abolish the caste. Government giving nation of nations. The nations will not leave until politics are likely to lift the caste. These will definitely throw the caste without eradicating the caste. If the government that does so, we are stupid if we think that the caste will abolish. The reservation must be reviewed. The natal differences do not only in Hinduism but in all religions.', 'The film is to destroy the support of Vishwarama Nadar Channaharayar Vishwakarama Nadar Painter Chengandar', 'Mohan G Shadrian greetings brother again asking for the images of social concern such as this .....', 'Padsha leader 1000 likes for laughter', 'Deyi.', \"She is ... I'm sure to come to politics ... 🤣🤣🤣\", 'Ingotta can not be this town you can not have this town', \"Good Moon Uttaram This cinema is right to sit on my head!It's not you will not be able to call the brother of this country and prepare the brother and prepare to call the thermal uncle and the preference of the preference!\", 'Have a favored to keep in the caste?For more than all of the study, no Sadia Irundhalum, you are stepped out of the step, you do not have to lease', 'SMMS SMM!Atocomplete ... Start !!', 'The Adangana should not include the brother of the brother.!The big bucket bowl Kalyanza is the Life Keta.Mohan Annn!Watching vitives!', \"Vijay Bhairava Mass Here's a lot of barrel etc\", 'Where is the Lake of Us Little Yes, Macha, this is the forest', 'We will live without the caste and religious difference.This is not the North Country of Tamil Nadu.(Saying Head in Tamil Nadu)', 'Congratulations to this movie greater success on behalf of the Vanny Society ....', 'There is a lot of truthful incident and I can know about a few wolf of the Tamil society in which we will see how many people are going to be able to read the shooter blind', '\"Naughty Nagas Due to the decision;My counterfeit is the end of the end.Is the friend?Enemy? \"Winning verses, fighting scenes ...', 'Congratulations to this film on behalf of the Pavar community', 'All I know is that the two caste 1 male 2 girl does not know the nation other than this.', 'Congratulations to win the film on behalf of Pennagaram', '10 per-year 7000 unlikely to catch up with one of us, the head of the head to be a head of the head.Going to search and you are good to tell your picture good, only possible by survival jealousy.The enemy will keep them in 12.00 at 12.00 at 12.00', \"Surya's guardian September 20th\", 'Telangar Actor Udayanidhi, Cheat Tamils Your Datan, Your Dad, Now', 'For this picture. These people are aware of how families are affected by this drama romantic mob when you see it.', 'No longer the next grid is the sea ...', \"It's erratic to any castor. This kind of erroneous is to do not let the legal protection dogs in the downgrade. When a depressed caste is undertaken when the law created to protect him when a few dogs are misused. The law becomes worthless to the victim. Born in the depressed caste and not to be innocent. There is no other caste-born and tyranners. It is good if you understand the BRAND model.\", 'Like to Peel the Peel of Peel.', 'Congratulations on behalf of the Vanians to win the great success of the film', 'The first time I go to the theater for the film, Dindigul District Nayakar, and congratulations on behalf of all social people', \"Abdulkalam's dream is to scatter the comments ....\", 'The story is tubing in the story .. One of the 5 Percy', \"Let's see the picture as a picture ... Congrats on success ...\", 'Congratulations to this film if the comments are right on behalf of the Jadi', \"De De Satrian Jathi's Buba Papa\", 'Now that we have to strive all our community to progress from unity.', 'Congratulations to the biggest success on behalf of the city of Natukkottai', 'Where (Dead Fans) We Show Viswage Congratulations Surya & Team', 'There are no castes but there is only a reservation Draupati must definitely win the giant', \"ONLY ONLY I SALLY GOOD!It's going to be growing in the border! .... Congratulations # Draupadi group\", 'Smoothy journey Super Soldier 🦍', 'Baby more than 70.Black shirt scattered ...', 'Congratulations to win the film on behalf of the hater ..... death wearing', \"What's Da It is the sample of the Maniratnam Sir\", 'No longer my GK BG M Lovers', 'Kill and the redness of the earth will cut the hands of the handmade .... Dialogue Verrraaaa Levelllll Description 2', 'All of the castes that supported the bottom (except Dalit) .. Do you support the love between the castes within you ??? Chettiar house women can not marry a higher community other than them ?? Why is a lot of split between BC MBC (also has the difference in subcategories) ... the talents of the talents. They got the opportunity ... think if possible ...', 'This film is the Model of the Model of Kawaran Yuvraj Counter Life Model This Trailer Congratulations on behalf of the Flood Counter', 'Congratulations on behalf of Virudhunagar District', 'Abho Sivakumar', 'Selvaraghivan is very opposite Bhri Cat Yuvan Fan and Surya Fan Like', 'Do not you have the niche #thalaivan #str', 'IT RELLASING .. DISGUTING TRAILER AND DISGUSTING COMMENTS Supporting IT.', 'Jayam Rawiinquee is a lake in a lakh in a lake', 'Blue Production 🤣 ... Call ... Lo .. good component ..', 'SC / ST If the SC / ST is the subordination of the amount of money to say,', 'Director Mohan is my congratulations for them if the popular support is mounting in the drilil', 'Udayanidhi Stalin is looking forward to seeing the theater of their new look ...', 'Capture ...', 'Everything in the cowang is going to produce the film ... Congratulations to this variable picture of the Mohan Anna ... 🤙🤟 WatsApp Status Vachita ...', 'The third film of HIP HOP TAMIZHA is the third movie.', 'Who is Suriya fanatics?A look podunga ..... suriya forever .............', 'Congratulations to Mohan brother who told the truth.', \"First, the director of the film director of Thanksgiving and Congratulations. I belong to Dharamapuri district, the drama love is very much. What is the head of the school season tomorrow's life is completed in a particular age. What is the right thing for them to make the conclusion that they can not make the end of the lives of the lives of love. Abdulkulkalam, Abdulkal Ayya, is easily blocked by the young people who have said.\", 'The film is our duty to make histockbuster.', 'Dharmapuri District Greetings to win the film on behalf of the Vanny Association', 'Soon #NGK Sarkar Maranam Massu.We think that the film is hit,', 'Congratulations on behalf of the hater race to win the film', 'Good.Backwards are awesome.Expect one of the good song.Expect the picture soon.', 'Mohan Anna said hundred percent of the one hundred percent of the .... This budget movie did not even know anyone. Even the Promotion said to the tenant. He said. The cost of Panamlan is important. What Candon Makes it. It is enough to release the Preview. Draupati said that he would grow himself. The Nala Nala Draupati burns away. In the sick of the monster. Do not expect a little, all the community will solve this celebration .. Draondi is intimidated ...', 'Kankyam congrats on behalf of the counters', \"On the day of a short time, Mishkin's mentality is being able to treat the treatment.\", 'Education education education is one of their goal to avoid', 'Congratulations to achieving the film on behalf of the head of the head of the head', 'This is really awesome and this preview.Congratulations to the film.', \"The shading of his caste is the slowdown of the caste.It's a unknown year and kametia.\", 'This is the test that it came to the golden name', \"Indian Michael Jackson's Different Acting ... I think it's very nice Like Podunga If You're The Fan of the Master\", 'Picture Kalassharam Chsi Mohan Keyses You know the name of the caste', 'This is the TRAILER AH 10 Time Patton ... Apo film. ???', 'The girl should see every motherfriend in Betha ... Congratulations to win', 'Congratulations to the great success on behalf of the heroic Vanny ...', 'Trailer is everything that is good for winding maniratum.The film is the film?', 'It is the Talith Dhima to love other Joines.Because they do not have any of the girls in the jadi.', 'Congratulations to win the lesson on behalf of the Devendra', 'Dallatumbathi Fagana Greetings of this film', 'The Mahabharata is said that Draupadi, Bhiman, Archunan, Nakula, Sahadan, and 5 husbands, she lived in the middle of the epic.', 'Let the caste watch community will spread the poison in the air :-( Baba :-)', 'The film on behalf of the City Vanni Union of Chinnasallam', \"Draupadi Trillar has more impact among people than expected.This modern Draondadi is very deeply infiltrating in parents' minds.\", 'Farmer suicide, suicide suicide Everything is the golden Pethawan Deta ...... Thank you for sleeping the truth ...', 'Congratulations to the temple of the temple on behalf of the Veeras District of Theni District', 'What is the Kamadinna ... One page is a manner in the origin of the inheritance of the inheritance and another side of the Merchante Rye Redundan and 50 Marchanta Karunanidhi, Magar, Jayalalithaa. Sweet and washed by Rajini, Kamal, Vishal. He has always begged for Tamil Nadu to be the head of the leader. The Tamil Nadu will always be the blessings of the Tamil Nadu than Arian rather than Dravidan.', 'Sri Lanka Suresh Davour Srush Suresh Havavar to win the film giant', 'Cuddalore District Greetings to win the film on behalf of Vanny', 'My mindful congratulations to win the film on behalf of the devendira clan society', 'We will cut the hand of the soil girl for us', 'How many people have flawed the barrier in the UKIS', 'Rajini hung up the tears in the long time to come.Okay in the time of sin', 'Congratulations to the Great World Natar Protection of Protection', 'Some of the people said. 1. He has the female children behind him. 2. We do not get men and those dogs are just myself. 3. Whatever we spend, we will not come behind our behind, but 5 Rupees Iron Bannah is going to go behind him. 4. In search of our girlfriends, he is going behind him. Asked all of this, it seemed to cut the tongue. But he has the laws and sunsets behind him.', 'Bapa Naa Vasi Offers in the nation of the casteBobba but the Bobby Biraiyar in the nothearance of God.', 'Marathi Shivaji Hekwada Vandan Rungin', 'Raji Antiyanga death role', 'Congratulations to win the film on behalf of the wardrobe community', 'Congratulation Distriner Congratulations to the most beautiful director of this scene', 'SPORTS and Suspense Thriller', 'When comments are seeing everything, every social gang is the same as the play romantic mob.', 'Thirumavalavan has never told them that they have to marry the next caste girl and blame them ... No one has submitted so far, no one has submitted ..... ... But you are sacrificing women and kill them and kill them .... The path that you are ideologically is not in the hole you understand ....', 'Quality incident is going to happen to move for Movie Release', 'Congratulations to the filmmaking to win the film on behalf of the Sivagangai District', 'If the upper caste females love the romantic dolith, the Holy Love Dalit loves the theater love Pollachchi incident', 'Congratulations on behalf of the Vanni-friends to win the movie', \"I'm down to this I'm down to him and what the hell is that\", 'Super.People should decide what this picture is wrong.', 'Anna Greetings to win the quality incident', 'Congratulations to win this film on behalf of the Nayaks..', 'Women are only visible to the breeders at home.Congratulations to the film on behalf of the Chinnathala County Council.Those who have received women should be seen', 'Muthurai (Arms (On) Care) Successfully succeeded as society.', 'Congratulations to win the film on behalf of the soccer', \"The success of the film is on our hands.Let's make this success\", 'Congratulations to the figure to win on behalf of the Level (Orientation, Moong,', 'As the film is the film ...', 'Nehndiya Cook Chase Chase This Director Street This Director Fear ... NEE NADATHU SITHAPPU ... Intha Model will give you bad pictures', 'Congratulations to the most courageous attempt in Tamil film history', 'Thanks to Mohan G. Our Mohanji is the reverber of God who came to protect the feminine.', \"Surya's strange look.BGM's ..\", 'The leader said that the leader would come to politics 31/12/2017.He said before that.', 'Tamil Tamils Tamils who can not find the depth of the Tamil arrival of the Tamil arrival of the Tamil arrival of the Tamil arrival of the victims of the Tamil College of Tamil Nadu.Thank you for visiting the TV shows in U Deep for people to listen.', 'Wonderful of Trailer # NGK # Next political creation of our guys for all creatures', 'The catalyst and Mirimavalavan Rowudi mobs are in the heavy bit of the cracks, which is angry with whom you will mislead the young people without doing good to social people', 'Angi Clan Kashirector, Angi Kularda, Sampira, Kushirpari, Dishes, Congratulations on behalf of the Vanni Counter', \"This Vijay has driven this Vijay's waste.\", 'Somama Military DA .., Goli playing?Feel the BGM1: 40', 'This movie will give change to Jeeva', \"Rahul Bullar's disappointment of Rahul Bullar Deer of this community, to win this film.\", 'Congratulations on behalf of the Vanni Ghutrian Stadission', 'We wish to win the film on behalf of the Kongu Velayer Counter', 'Whether none of the races except the Dalit is a woman whether or not to get a woman in the wake of a woman', 'If everyone equals the equivalent of the birth', 'Thanks Mr. Mohan G.You are a male son.', \"Little wise is a lake bathroom lake there, Pato Da ... It's going to go to the superiority .. Sema\", 'What is the name of the Lord who is unknown to the odds enemy?Bodang Kena Kuna, Rimeli Picture Eduda Munda', \"Director Ranjith's prucence is.This is the revolution.Chemma Trailer.\", \"Quality image;The film is required in today's environment.Congratulations to get the picture Berki.With greetings from the melt\", 'Congratulations to Super Tal Valpuram Jam Guru Charity Vannya Prabhakaran', 'Congratulations on behalf of the Samparinnuts Committee to win the film', 'Collector, unordered, intravenous, congratulating the film on behalf of the film', 'Karunanidhi is the story of the family of the family and the congratulations to look at this', '100 Million is all society on all communities, Ivan Mawaran Cadewettor Patriot Center Fort, Salem Jilla', 'Ho coat trust lion Singaran brother Annn, Oh Got Ion film Romance Eyello Semaya Annate Sadatala believing brother', 'Dividia to say that the caste does not have to leave to him, whom the wearing of the wearing ... is not caste ... feeling', \"The Rajini 96's supplant and white beard.\", 'Become a gamble movie', \"Nijama is this Selvan's film\", \"Ben's Children's Children's Ben's Children in Mannargudi Painter Kinderharh Pain Ben's Children Can Start Peni to see this picture\", 'We will be foultable.But slogan, Ambedkar, Kamaraj, Velanesis.Why the depressed leaders are not Tamil Nadu.Do not come to the mouth.Will not come.Mixed the blood in the blood.It is the moody moody worms.Falls .......', 'Trailer Aye Forwards Da', \"I think I'm going to see a good movie\", 'Phoenix bird will throw, thrive and throw up.!Dead_Ajith.!', '57k Dislike is the reason for the Vick Munnel Ghaji fans.', 'This picture is famous for the caste fanatics ... You are Poinkintta, who claims to see the image of high castes (monster, peaceful Paurumal) ... othaa throwbathy Payalugala ... Ipo Padam Vetripera ....... Orin Sarbaga...., ... Kulathin Vazhthukal nu podringaa', 'It is enough to split into the race .... BGM ... BGM is enough ... BGM ...', 'None of the end is the beginning of the end, the end of the beginning is the end of the beginning.... ... ... ... Shapa Da Sami .....', 'It is true ... Tirupa perfect slippers ........ Have the same Devil Vehicle', 'Hmm Good story ... I think the film is good ...', 'Dhanumapuri Kongu Countdowns Greetings to win the movie', 'Congratulations to win the film on behalf of Nadar community', 'Tamil Nadel Illo Jathi is proud to be proud.', 'Everyone must strive to win this movie', 'Congratulations to succeed on behalf of the flyers', 'FROM THE MAKERS OF LKG AND COMALI - OKAY.HIT MOVIES .. What is the medallive puppy-in-one slashing ...', 'Who is the consciousness of the conscious conspiracy and who is eating Draupati', 'Congratulations on behalf of Tamil Nadu Brahmins to win the movie monster !!!', 'Only the same language is the same language where one is the same as the monster picture explained.Where this picture is provoking the caste.Plane, such as the monster, which is the commands of the comments LA Jadi names and none of the comments Pannala.This is the name of the Jadi.Romantic caste is not looking for religion money.How to say that the drama love is.', 'This is not only for women but also the image for men who go wrong in the wrong way is that the woman is not suppressing the girl Kudos to the Entire Team', 'Congratulations on behalf of the Commander Dynasty', 'Does the hero of the hero be the only loving model?', 'Congratulations to success on behalf of the Tirunelveli District.', 'Congregation', 'This model may be able to celebrate Effadent to celebrate your', 'The moment to contemplate the Dalits of Dalits', 'Not seen the best tricer than this', \"The film's submission to all community friends and females who have received all the community friends and feminines ... Congratulations on behalf of the World Tamil Boulies to win the Himalayan ...\", 'Congratulations to the film on behalf of Dharmapuri', 'Virudhnagar District Bhubukkottai Nagg All the caste systems will come back in the film threat to the congratulations to win Tirupati', 'This model will have a separate courage to take the picture ... Congratulations', \"I'm coming to politics Hey Ithu '96u Yaara Emathureenga\", 'We were looking forward to this ... The Mass Club Entertainment', 'This trailer everyone can see the drama romantic mobs!Congratulations to achieve the film', 'The screen is a great picture in world history and the world will appreciate the praise.Congratulations', 'Tirunelveli District Congratulations to win the film on behalf of the younger Casumbhouse', 'Ayya Sami, who was the day?Figure Releas for Gone April ... Tamil Nadu escapes ..!', 'Concept Vera Level ...... Jayam Ravi Acting Happy to win', 'Thiruvannamalai congratulations to achieve the film on behalf of the clan', 'Thank you for waiting for a movie like this!Thanks!!Thanks !!!', 'Vishwakarma Republic Service Movement Congratulations Draupati Movie', 'Congratulations to achieve the film ..... let the drama gumb', 'Hope the sauce of grain crashing areas.', 'NAMA is a war of war and his party starts ......', 'The word Yay is not the idle theater', 'This model image ... If us is taken to elevate the warrior or elevates you.', 'I smile in this film if I smile in the picture of the Fair', 'Anyone comes from the 2019 Lord Come ... Waiting to the straight line ...', 'Congratulations to the biggest succession on behalf of the Moolour society.', 'The opposite reaction to each reaction is that there will be a great beginner in the late late period. Congratulations to see more and more', 'For Haters Monster Puyattihattam Madras Attachment Gala is where this picture takes place .....', 'Have a lot of birds that have a lot of bada is the unknown opponent to the unknown opponent, and what collections are you ....?Warmly speak ... Sema When Will I come .....?', 'The Vanni Gounder * Vanniyan Wanderare * Vanniya Chooser * Vanni Dishes * Vanniyadayar * Wannia Chadavayar * Vanniya Chords * Murgeon * Vanni Reddy * Vannic Reddy * Vanni Kandar * Wannia Wanna Havarf * Congratulations on behalf of all families in the Vannion Cacheries', 'I was expecting a film .. Director Congratulations to Anna', 'Congratulations to the movie on behalf of Pudukottai Muther', '5 And even if it was kidding, and there was 1000 people and it was where my oasis was created.Thiruvathi for this', 'Learn the history of Tamils only 49 countries', \"Adan's records are awesome, waiting for the whole moon ...\", 'I think 2020 is the standard first film', 'Tirucheville Village is subject to the Union. Here are six wards. It is 785 in the electorate 785. It is noteworthy that only 6 of the list belongs to the list. This method is reserved for the post of rotation head to the list. Under the elections, the opposition has ignored the election. Because of this, no one else has filed nobody in 6 wards. But the list of Rajeswari and Sundarotchi were only competed for the post of leader.', 'So much of this ugly supporting the enchanting ...', 'This is not just the picture that everyone knows', 'Anna is the need for this time.Congratulations.Dialogu Fly Flying.', 'Congratulations to win the film on behalf of the Madrian community', 'Da Da is great honor to pay for their pickup.Director Vijay Cuted to You Do Not Have Wijay Wijaya Varsha Varsha Vasitra Vasitra', '9 Million Views # Sprayed #Never Ever Give Up', 'Villupuram District Women Talukka Taluk Taluk District Happy Kuppam Wannai Casal Casa is a movie waiting for a film', 'I have no agree on the caste for that, such films are also necessary to oppose these drama romantic mobs and the thorn', 'Congratulations to achieve the unseen victory in the picture history', 'Congratulations to win All good family are the birthplace', 'Mass Trailer Sakgo Mohan G ... Congratulations', 'Unrecognized Pure Art, Such a Fantastic Film This ... Why good quality images are discredited in our Tamil Nadu?We Should Support Theese Kinda Good Films ...', 'Congratulations to the film on behalf of the Arakkon Wanni', \"That 59k Dislike 'S' is ridiculous ... Congratulations to the paste\", \"Let's get rid of the Jathi ... Such people should stop buying the offer to the government .... Government placement, education fee offer all the other communities and work as other communities and work\", 'Mohan G. Thank you', 'Congratulations to win their picture of Mishakin', 'Saya Keta asked the TRAILER RSD Potangadana Total picture', 'The Dialogue of the Dialog was the mantle of this film and this picture is a carFull Ahh Irukattum', 'Good Action Pack #buyrava (TROLL, MEME) HARD TO LEAD PANS', \"This movie is something necessary for any environment. The gravel of this handset is greater than sex with sex with sex with daughter. That's why the philosophy will only go. These leaders of the leaders of the Heads, and they will record what the wife of the wife. They have joined the animal from the racial races so call them the animals\", 'Ayyo Seem Mass S TE R & Arun (Vijay) Sethu', 'Tirunelveli District Congratulations to Success on behalf of Vanny Association', 'The trailer Paths is a Feel of Paul Path.What is the story of the story here?🤔', \"Fools talked to a student talking to a student's talking ceremony and asked the news that the news of the movie Suriya Minister had heard that the video of the video that was heard in the eyes of the video that the wati does not have a navigarian violence Congratulations\", 'I do not have the end of the end.My opponent is the decision to nicer.', 'Congratulations to this effort to speak about the murders of the murders in this country.', \"Yo Vijay Sethupathi Here's what you have.\", 'Diagger Devidia Paiah Dinlo Poonu Odebosata', \"The 'first-appearance design' visitors are strongly intimidated by the world of cinematography and the story of the world.Live or live, and definitely aware of the awards that can be asserted ... The life-lyings!- Thanks!\", 'Saying the same kind of love and saying people all age love in the same film', 'The fear of the paradise paste thinking of the other nathi girl', 'What is the name of the privileged purchases to put the caste to the caste', 'Thrink to this comment against the opposite', 'Music is only fine (this is my personal comment)', 'Vivek is a shock balloon locator, which means that there is no need for the need for the need for the need for the need for some injections.', 'Congratulations to the concert on behalf of the Gonar Conversion', 'Hinduism is a man who has a son of God, says that the desire is higher.', 'The race of Tamils will be destroyed by the caste.', 'Congratulations to win the picture on behalf of the Faculty Dynasty', 'Football picture model oram .... Ghost picture', 'Vijay, who has come ahead and come out of his caste', 'Pictures such as this is the best wishes of winner', 'Congratulations on behalf of the District of Tirunelveli District', 'Proud of being your fan for 17 years', \"Veerabadian Kattabomen's Heirs Congratulations on behalf of the Nayakar on behalf of the Nayakar on behalf of the Nayakam\", 'Both of the earth is important to cut the hand even if it is awesome', 'There is a trouble with the propaganda of the proposition of the proposal Dai Tamils', 'Congratulations to the temple on behalf of the heroic Vanny Association ...... Salem District and Namakkal District', 'I greet this film on behalf of the seven society', 'Greetings on behalf of the Karur Kawala Countdowns to win this epic .. The earth is our', 'The film on behalf of the Tavar society is congratulating a new revolution ...... Thiruvathi is coming', 'Congratulations on behalf of the wardrobe', \"Trailer's beginning with Krishnasamy and Kuruma's Groups Crown\", 'I am the fan of the Vijay Sar Video Diss Like Nobody can not be the real head fagdom', 'Congratulations to win the movie on behalf of Teluguese settlements', 'My congratulations to get this picture 100 crore collections', 'World People Congratulations to the great success of the film', 'Congratulations to the Tamil Nadu Muthera Council and Madurai District Madurai District and 29 subdivisions', 'Director is always going to take the picture about the Pollachi incident ...', 'How many people have kicked the caste.Now ignore the drain', 'Mohan has forged on who is wrists for the cat', \"Mohan Annshan's brave theater is not a mistake for our female children and a loving love for our female children but some dogs will not come back to the sacked life after the lives of the drama\", 'Mr Mama Vanaman Street Uncle Mama Mama Mama Mama Mama Mama Mama Mama Mama Mama Mama Ma Mama Mama Mama Mama Mama Mama Mama Mama Mama', 'Congratulations to win the film on behalf of the heroic Kattabomman Dynasty Tirunelveli', 'Congratulations to win the film on behalf of Viswagarama (surprise) Thoothukudi District.', 'Congratulations to achieve the right slowdown picture', 'Unless any of the caste does not allocate the caste basis', 'Falls!It was fighting for the fight for the Fight', 'Do not cheat and betrayers love & marry friends', \"0:34 That's the Real Dedication of Thala For HIS FANS ... PROD OF YOURA ... PROD OF YOURA ....\", 'P. Angit, Winaran, Amir looked at their party films and as it would be the answer to it.', 'Hahaha will come to politics Hey It 96 Su', 'Everyone is the theater of the theater', 'Congratulations to win the film on behalf of the Devendra Kulamerman ......', 'Excellent film appreciation on behalf of Mulgulators ..', 'Anna Trailer of the bandwidth', 'DISLIKE EVERYTHERS FOR DRIVERY', 'The female curse is a sloping dogs that love', 'Rajapalayam (Vagaikapatti) Congratulations to Troadathi Picture on behalf of the Society ..', 'Vannieno County Counteno is a lot of love for a palmer exterior for a powdery exit housing ...', \"I Wanna See Surya Sir in Like This Action Movie's .. This movie is a great success in Telugu and Tamil languages.Bhavan Kalyan is a fan.\", 'All of this is the death of the mental nap.If you have everything from being in the place', 'Netiji ... Inner Ranjith will start to scream ... Micha sleeping town is shouting ...', 'Congratulations to the picture giant on behalf of Mars ...', 'Congratulations to win the film on behalf of the overall muther', 'Congratulations to achieving the film on behalf of Palani Kungu pawn', 'Besides a caste, all the nathi cameres are greeted to succeed .. Why ?????', 'Like a day of studying, greetings brother Mohan G.Kutting, Komban, Marath, (Tirulapathy)', 'The public viewing public seems to be affected by many community by this playwright,', 'Fantastic movie', 'Congratulations to win this movie on behalf of the buttocks', 'Hahahahahaha .... It is 96 ... anymore ....', \"TRAILER PUNDA (A) Macau Greetings Ochita !!The name Punda is the name Punda Punda Bhunda Her paragraph and Greece Laveteka Store Command LA Batha Katha Kazi's nameDrawedeefefefefate\", 'Nomotics Good Picture II Episode: Like Kawala', 'The man was born and love.All community males in love.Sometimes women do it.This is their personal thing, to take care of it and the family of him.In love with a different caste and marriage is a very serious crime.This film is like the caste is supporting the murder.Very bad front firmness.', 'Congratulations to win the film on behalf of the Jayakkondaspuram Nayakar', 'Congratulations to win the movie on behalf of Mayiladuthurai', 'It was sweet to see the scenes with music without a verse.', 'We have expected the image of this. You shuffle', \"The caste's origin of the origin of the film and the vocabulary of the film is to be the same as the society of the movie and the success of the film is to remove the word of the film, and we have to remove the word of nathi and religion in our language and in the country and the rational cowardice to fight in our language and We will learn that our government is subordinated to us and the backwards itself in the meantime no one has the nathi nation in the nath\", 'Excellent concept .... Director of them to win this epic ....', 'Congratulations on behalf of the District District', 'I think it will be an excellent film for those who have received male children.', 'Here are all the castes and the poor.', \"This picture of the Ariyalur District is where I settled 100 grandchildren, and I'm greeted by my spending film. Congratulations Director Did you ...\", 'Congratulations to win the film on behalf of the people', 'He will not go to the fight and die', 'A half semicolum :-d :-d', 'On behalf of the Arielur District of the Cadiyachchi Cado,', 'Congratulations to succeed in the society on behalf of Muthalar', 'Not only HEROS A VONICAL ARRIVAL ARRICTE.', 'Female children have to say the greatness of our family and ancestors, our birth and clans. Family and clan are proud to develop our women. Let us know that the big mistake of our making is to know that it will definitely be left through the mothers without having to do it anymore. Our pride is easily deceived by our women.', \"I'm from Karnataka.I do not know Tamil .. Ana This trailer is SM. .. Hero's acting super ..\", 'Sitting Seatbas & Osisy Coups: We did not have the volunteer gamets ADEI:', 'Theater love is the biggest whip to the mob, Draupadi ...', 'Do not even read more!Cut, punch it', \"For many years as a Vanni, you have to come to the Vanniar's ethnicity\", 'Overall b c.M B C. People will be able to succeed in this film, and our girls will be guarded !!!', '# Congratulations to succeed on behalf of the southerneral.# Draupadi is redirected back .....', \"Do not say that Draupati is the film for us but it's wrong to know that the total Tamil Social Socialization Support It is also a kind of # soil_caping_purburachus and ask for a certain doggock noise noise\", 'Lives on behalf of the head fans waiting for the biggest success.', \"Do you have anybody's old front?Unbelievable ..\", 'We have to cut the two hands and what I say is the quality of the earth', 'Jadi Picture Dog Everything is Nasama Back Dog', \"When you see your Yadi's moguist comments\", 'Many should not be able to touch the man and the girl, and when the polish rapists are waiting for the pollachi rapists, when the pavil pulls on the race.', '0.54 SEC Nammalur (Salem Omalur) took place', 'Good social cinema ... Mohan Annn Greetings to take such film ...', 'The grace is not only for the shovel .... Pollachi to say the parole .......', \"I have to wait until the last of the Satisfaction of Tamil Nadu's intellectual Tamil caste sades\", 'Hello Da Muffle Valley Congratulations to 100 per cent', 'Congratulations on behalf of Naidu society to win the film', 'Congratulations on behalf of the man who does not race caste', 'Congratulations to achieve gigantic success on behalf of all people', 'Congratulations to win the image of Iar Samuk', 'The disappointment is that the drama love is. Such shadows happen only in the northies. The lack of proper academic guidance is economically unconscious, such as young people travel in wrong ways. It does not have dannies in the southern southern people. Work hard and bring themselves improving. Any ethnic group in the Tamil community is not the highest. Any man and woman can not live in peace in the stomach of the received.', 'Last Aravisswamy Dialogue ..... real lines do you have someone old Friends', 'Super Nice greet them with the director who brave this story.The incident, such as the coming scenes are going on in all the towns.', 'The figure of the film to win the film on behalf of the heroic Vanniors', \"I'm sure this movie will see the theater. A dependent caste should only be aware of the cultural feelings behind the murder of the murder of the murder of the murder of the murder of me as a dependent caste. The peak of the double stand, which is a puppy and a staggering community that we have to build a puppy.\", 'Congratulations on behalf of the Pillai Democracy and the overall silver agriculture', 'This grade Pudichavana Batichanana can act to act .... Other than someone else can act.Muncil', \"Kanchipuram District Congratulations to Draupati movie on behalf of Vanni Patt's villagers\", 'Cadewetter', 'Congratulations on behalf of the Southern District of the Southern District of the Southern District and let me come with your picture with the family with my own', 'Let me go with the family to go with the family on behalf of Sivagangai Gonar Community.', 'Congratulations to win the film on behalf of the galactic dynasty.Do not get a dramatic love no longer.To look at the course without seeing the picture.', 'This nationality is preached to the National Ana He', 'The drama love and crowd in the minds of the crowd of the minds are coming to see the term', 'Congrats on behalf of Nayakar Naidu', 'Do you have the love drama romanta? ... Evidence Five FIRST', 'The creation of the Kshatha dynasty must be supported by all the own.This is the duty of each vanner', 'The cutter of the nucleus to cut the nucleus.', 'Villupuram District Congratulations to Draupati Picture on behalf of the Vanni', \"I'm sure to come to politics.It's 96. Finishing Touch Ultimate\", 'Mohanji showing the truth to the people of Tamil Nadu', 'Maham Ravi Mari reveal Buddha shadows Ravi sample', 'Congratulations to B (Pa) Dum on behalf of Moolalothore.P.Runge now.Is the Sunsa Sunset Sample?', 'Congratulations to win the film on behalf of the Crown Madrian ...', \"Amme ghost fear (TamilRockers' will not be able to download even from the Lo.\", \"Because the Pattaiyam Leu's angel is the fantasy ... 5-husbandry Kiddinghana Draupadi-Ya Pawala ...\", 'How is the caste originated? My guess is that the players who lived in each period are admitted to their name, But here is a strategic - the wedding is looking for our physical health. If the science tells you if the close relatives are smelling, the body is determined to be born to the body. There will be a lot of vulnerabilities after religion change or mixed marriage. It is very important that the marriage should be done.', 'In the election this is the slowdown of the script.', 'I have seen three data on this trillar.Friends .. [15.01.200 12:24 AM]', 'Yow Mohan G Garam Demand Sengiri Picture Picture Picture', 'The film will win ,,,,,,,', '# Palamadu_Jullikattikkattu Telugu Chettiar Cow Hindu Nadar Cow Naidu Cow is the temple cow that is the temple cow to say that the caste is suited.The sin of the grub is the sinus of the sinus.#Rulapathy This is the society currently speaking the truth of the community', 'Path Ey Culprit Calculator Attached to Illam Angu Illam Angu Illam This Patha Patha Santhosa Path Cast Etha Vachu Enna Poringa', \"Any Tamil film hero played the biggest victory after the name of the Rice Condition in the Renaissance film, but the biggest success of Malayalam actor Mammootty was the biggest victory but the actor # Ajith's actress and actress Mrs. # Azithshallini's actor Richard They and the director of the film, Mohanji, congratulations on behalf of the Vanni Kula Shatriers living in the world ...\", 'I suggest our support and congratulations to win the film as the Namakkal District (Overall) County Community', 'Possible Set Audih', 'I do not know why Kaunt, why the camer is putting my caste dependa greetings.What do you mean by a companion in the body?', 'Congratulations to win the film on behalf of the Vanniarch', 'The shift of those who send the females to read the feminine ... change must be sure ... thanks Mohan G', 'The daughter is only to know that the daughter is only how much pain is painful.Thanks Mohan Attack', 'What is dark da .... What is the ugங்கங்கடுத்தபுறிடுத்தபபடுத்துறிடுத்த', 'Thiruvannamalai Congratulations to the Duropathi film on behalf of the district', 'Rajini: Naw Jayam Ravi: Hey It is 1996 not only Like Pannun', 'IAM Home Pan Like Surya Anna', 'PRABHU DEVA A Blockbuster COME BACK MOVIE', 'Better addiction .. Talk Trailer Laye Therinjathu', 'Greetings to win Movie on behalf of Vanni Kula Saint', 'All right .. this film is right on sensory ..', 'Congratulations to achieve Theme Mass Semmmmmma Picture', '****************************** ....', 'If the lack of politics, the names of the caste will go without anyone', 'Good words Double Meaning turned out to be WATCH AND SUBSCRIBE 🤝🤝🤝', 'Jilla Picture Mohanlal Sir Vijay Platya Yoda Diagnostic Suriya Open, which is available for this arch', \"Picture succeeds in the People's People\", \"Aweight knows when you are published by the Pictures of Pah Ranjeet, DMK Cannibalia, DMK Cannibalia, DMK Canniban, DMK Capital DMK Capital DMK Cannibalia, DMK Capital DMK Capital DMK Capital DMK Cannibalia Let's seek to see definitely\", 'Congratulations to the film on behalf of the Vanni Kulakapura', 'Congratulations on behalf of the King of the Kozhow', 'Progressive thinkers are not religious and why do you want to see this image Sadia, 20k persons who do not want to see? Or are the crime ??? Do not know its impact ??? Who is the daughter and what is we safe ??? Does the woman do not get mother ??? Does the sister do not be born ??? Does not mean to be social awareness?', 'Beethoven .... Honey Ilayaraja ... Cargo Mix Panitanga .... Vera Level ...', 'Do not see this image on the basis of the original incidents that the screen is a deliberate amount of social youth to go to the fine society that is not going to be in the intentional intention of life.', 'Any one color is looking forward to seeing the film ...... Salem Athur .... Salem Athur .... Vanni', 'Trailer approximated 8 lakhs as death feet', 'This picture should see our girls regularly as we see', \"Club Kerala government and media ... !!!Let's say the truth to the world ... Share ... Subscribe🤝by Ragul M\", 'Wedding Sleeping Feet Da Chiradian', 'Thank you for the brother of the Selvaragavan who destroyed this film for Surya Annn', 'Congratulations to the tulu pilot on behalf of the', 'Congratulations to the BJP on behalf of the RSS on behalf of VHB', 'What is all in the plastic, as well as nailing.Oapa Sully Lord Dogging Big Rich Pirty Model Ola', 'You can only take a picture of the film, take us the picture and split us, the enemy movie weights.', 'Congratulations Draupathi Team.Congrats to win Draupadi.', 'Congratulations to win the film on behalf of Thoothukudi Nadu ..', 'We are looking for the well-known Tamil soil.', 'I LOVE YOU MY DEAR தல', 'Congratulations on behalf of the Devendra', 'Congratulations on behalf of the North Union Vannyan Association', \"Let's tell the truth loud # Draupadhi\", 'Image Director Mohan should inform his bank account if they occur in the US Deep (You Tube).Several thousand people are eager to pay in it.Help the money to take as many good pictures.Congratulations to win the film on behalf of our bunch of floods and female points', \"The head is always dead.Oxstring 24 wins will splash.We're anymore anymore.\", 'Commandal took the comoranu, Bhanugala is whistle.', 'Perfect Sermey for Movie and Theatrical Lover for Death Wait', 'Congratulations to win the film on behalf of the silver', \"Like anyone's admiration .. Congratulations director\", 'OH MY GOODNESS TEASER LA PEOPLE SIVEN', 'Only the same language is talking to the same language.Friends are enough .. Poison spreads in the air ... cares with Tamil.', 'Congratulations on behalf of our Vanni people to achieve the film', 'The word who is your opponent says who you are .. The best enemy extority community', 'Dynasty Short Film ... Quality Sermey for the Vanniards.JUST WATCH', 'Your intention is right, but you are not right for your intention of life and you will be destroyed with this movie', 'How many days do you have a movie? The most right image to tell you how to do this dramatic love.And our community women have to look after', 'Jayam Ravi is a fantastic actor.Congratulations to win the picture .... Make sure the film hit ......', 'This is a Waitam Multiplayer Incident.', 'Da Alalo is where you are unaware of the man who has been driven by Podo Pud', 'Draupati is an expedition of the Dirupatiya Dirupatiya', 'Father to see the daughters of m ~ daughters .. Uncle ~ ThrouthThrouti Ya Abb and Mama ...', 'Seeing this drain over a time', 'Vivegam Trailer Is Truly International.HARD WORK OF DIRECTOR SIVA, AJITH SIR, ANIRUDH & THE ETREE TEAM IS EVIDENT.Looking forward.Theater owners are asked for a paradise to screon for the attention', 'Draupati to tell the truth to say the truth is very awesome and greet the movie brother', \"Making a male mistake..It's a fault of making a separate man like that, and he says that he is right.It applies to all of the caste, religion, race, language, country\", 'Congratulations to the biggest success of the film on behalf of the Kong_wallalam_bounders [Covai]', 'Congratulations on behalf of Thanjai District Walkers ...', \"Congratulations on behalf of the 'Nadar' elder 'Sanar'\", 'Congratulations to win the film on behalf of the Brahmana community', 'The federal government is favorable to the federal government thinking that the federal government will be able to eradicate Tamil language will be the maneuverable maneuvering ... Stupid Tamils ...', 'Thanks to the image to make the Reace as soon as possible 8148420102', 'The film is all good and the rulers are going to go to the trouble and go.', 'Congratulations to the movie on behalf of the Delta Heroes of Delta', 'Congratulations on behalf of all vandalism Chettiar', 'Many family will be good if this movie comes on the screen', 'What is the film da ... cottage is the cottage?Looking at the monster is still crying nicknel.', \"Seeman's impact is in the picture .... My greetings ..... sir ....\", 'It is important for us to wake up the hand warmth of the man who will cut the hand warmth and congratulate the film on behalf of the Kongu', 'Mohanji is like the Pak', 'Congratulations to the quality slippers grow more than some dramatic love crowd', 'Congratulations to win on behalf of Nagapathani Jathi', 'If the caste is not destroyed, humanity will be destroyed.Read animals ..', \"One thing I already said is to tease the leader of Akanamna.The last few kauma will walk.The Nanga Rajini fan is saying.Paul's anointed to Linga's film.Function is incomplete from Apo Nango Billa.Where the leader is a nasty jar.\", 'Congratulations to the Indian citizen of this film to win.', \"This is a whip with today's leaders\", 'Congratulations to win on behalf of the study community', 'Having the standard incident of the prisoner', \"It's like a sample pale cucumber when biting the wreck and it's like our life.It's known to know this teaser.Congratulations to the picture.\", 'Congratulations to win the film on behalf of the Nayakar Dynasty ...', 'Villupuram District is the support of the Village Vanni Union', \"The screen epic to see the girl's children\", 'PDINGS.', 'If you see the support of this film, this reservation system is reported', 'This is the last tissue of the cholesterol .....', 'Congratulations on behalf of the heroic Vanians in Cuddalore District', \"Actress Niveda Pezaraj's loving fans have been the fans who have been repented in the trailer in a place only in a place\", 'I want to increase the current status of the population in the current position of the population ... As the actor is the next dimension of the actor Arun Vijay, I am a good reiterary dimension to Arun Vijay', 'Congratulations on behalf of Madurai District!', 'All Naidu / Puppy Community greetings to win the film on behalf of the people', 'Pollachi love thing is the title of the role of the love.', 'Congratulations to the film on behalf of the Tamil Nadu Peghors (SCPCICIAL CASTE)', 'How to get a picture of the films like the trailer, how to getaway', 'Picture Fig is Flop, thinking Like KA', 'If the caste is patient for the caste and please see the video of Paris.', 'Overall cinematography', 'Bharathi does not have the nation of the nations.Government Ready to remove Natar caste', 'The same temple is that Pollachi is a wild theater love.', 'The Geed Bathe has received great welcome among all communities.It is known to know how many family life spoils how many family life is tied to the neck and accept the other social woman in the hand and accept the sister and sister.Congratulations to the films ...', 'This movie needs to come back to my support and the lack of discipline', \"Kanyakumari District Congratulations on behalf of People's People\", 'Wonderful ... but a sad ... may have a name called A1 to the picture ....', 'Case Pakama to Case Patum Mochapitigu Mochelet.com Kass Potanga Passanga Kasanga Gas Kisses', \"Epada Years ???Whatever Draondathi first wanted Karna, he then told Arjunan after he knew his Sunaan.That's why he says that he is the name of the drama love .. True Pay ?????\", 'Thank you for the picture to be seen as strictly', 'Beyond Substantiating', 'People of Nagaraj.Support for the film on behalf of the Society.', 'I Like Yogi Babu Acting, in Every Movie He Always Show His Best Look for a little time and argue', 'Kamontl saw everyone who says the nation of the nation of the sake of the feather', 'STORY BASE EH Supera.The film is Hidda.', 'Thank you for the wardrobe of the wardrobe and congratulations', 'Only the \"god of the goddess\\' of the traily look at the look at the Like!', 'Anna You are right in the movie theaters Release Bunny OK you Tube Release Bunny.The idea of saying that I will reach everyone in our town and this is the Chengitottai Jayapalan Sarathkumar', 'Banquettiya Pathinjali Panchali Panchali Panchali Panchali Panchali Panchali Panchali Panchali Panchali Panchali Panchali Panchali Panchali Panchali Panchali Panchali Panchali Panchali Panchali Panchali Panchali Panchali Panchali Panchali Panchali Panchali Panchali Panchali Pattini Panchali', 'Congratulations to win the film on behalf of the Reddyar Community', 'Hundreds of king of Rajava', 'Congratulations to the Sivagangai Zhana Boys on behalf of the Boys', 'On behalf of the Tamil Nadu Solar Sabbaths Prithes .... Happy Greetings .... The right answer is ...', 'All the Tamil people have support for the film.', 'It is said that there is a number of castes. This film is important for Tamil Nadu.', 'Congratulations to this film Suriya brother a mile stone.Ragul Prithesing is the Green Speak model as the Vazi carrot in the film.', 'Annn Thirumavala, P.Congratulations to win this film on behalf of the Ranjith ..', \"Congratulations on behalf of the Members of the Tanjore Delta's beauty\", 'Congratulations to win this film on behalf of the District District Vegetables.Na Chettiar boy', 'Money, Payment, Popularity Loops', 'Mawaga ... Tamils are the commander for me', 'Chemer feast death to fans of the waiting vain Surya', 'Ensure that Na is coming to politics.But no year is unsure.', 'This caste is the reason for the Brahmans.All the nations in opposition to him are mobilizing one of the human nation and seeing themselves without being married.SV Skanker, Raja and Klunthies will be happy!', 'Congratulations to the film on behalf of the Radiya Race of Yatukulam.', 'Does the Disserant Bureau of Theater Love Kurma?', 'Congratulations to win the film on behalf of Neliyai Moolour', 'We came to know if we knew you in the heart', \"This is a movie. That's all. The lesson has been learned from the lessons. One of the films to take a focus centered to take a picture of the film. Congratulations Mohan\", 'Congratulations on behalf of Kallator', 'Dapana struggle to fight', 'Dividia Phone Number of Dividia phone we have taken place to take place in the accelerator with a moral Kotunar work', 'All of them seem to be observed by everyone against a particular species .... Congratulations to the success of the film on behalf of heroic Prither ......', \"Ambasamudram farmer Kumaran.Kumaran Kumaran is the political game of Kumaran's political game to see the tragedies caused by politicians to the farmers.My fantasy story .. Thiraiku Varattum ... Varum Paar ... 🤩🥁\", 'Congratulations to win the film on behalf of the pregeral ...', 'Jadiah Kadiya is the Sunni ... Pigilania Birds', 'The head is the head .... Mass Mass is ... LOVE It', 'It is noteworthy that we have been created by Namaka', 'People will go to the place and go to the place.', 'Solid Mass Say ..... Driflay is how ...', \"This picture is Nandagopal Kumaran Trailer Mass Hit Super Back. We have acted as a politician since Surania. I really liked. Sai Pallava is a couple of power. They are starring in the cinema field as a superb. Surya Anna's performance is very attracted to me. Surya Anna I like very much. Though no one else is in the film Surya, the same film will not be superb. The film will have a giant revolution. My best wishes to win this film.\", 'Congratulations to win the film on behalf of Madurai District', 'While the flower is among the flower here, the mind is comfortable here!Religion is religion.Let the nation beyond the flower.(NOT FOR THE TRAILER, ESPECIALLY FOR THE PEOPLE WHO IS COMMENTING HERE)', 'Cuddalore, Congratulations on behalf of the Singh', 'Congratulations to win the film on behalf of the Kongu Velayer Counter Community ...', 'Tal Ajith reflects the hard work of their 25-year screening this two and a half minutes Preview.Our congratulations to the wisdom group.', 'Midwives 21 times Pathett Standby 2 Theater', 'Canny with love to see the silver ceremony on behalf of Dharmapuri District', 'Standard Film ... Best Director Do not win this movie people .....', 'Simbu Entry Theme ... from where the head is the pothite ... Rahman ...', 'Everyone needs to see the greetings family to win the film', 'Congratulations on behalf of Thoothukudi pearl', 'It is also 6 Packed Here is the Pakuan Chengitan Adei Siva', 'Mr. Director Congratulations to them on my behalf,', 'What does this film be successful on behalf of the Uzilampatti Diver?', 'Congratulations Image Groups, continue to show such incidents by image', 'Congratulations to win the film on behalf of the Vanni Fort in the District of District.', 'Congratulations to win the film on behalf of Kallator', 'Perumal Perumal is the perfect retaliation for the picture ... Congratulations .......', \"The film's silver ceremony to see the silver ceremony on behalf of Naidu and Nayakar movement should eradicate the oppressed masses\", \"Sema MASSS Leader I am Your Big Fan A.K Venkatesh Prasad, Deee Jilla People's Direction\", 'Vanney, wearer, counter, Nadar, Chetiyar, Sawrashtra, Tavar, Pillarmar, Everyone SC is a caste.', 'Congratulations to win the film on behalf of the Vanniians', 'Congratulations on behalf of the Devendra', 'Thank you for finding out the TV shows of the popular TV shows in the city of Tamil Middhai, which will take place in the Tamil Middle Tourism of the Tamil Middhai, which will take place in the Tamil Middle Middle Middhai, which will take place in the Tamil Middle Middhai', 'I am pleased to come to a movie', 'Ayya Veuci, Mawyan Thiran Chinnamalai Counter Draft Love With Asian, Mixed Marriage (Congratulations on behalf of Tamil Nadu]', 'Excellent Trailer..Arratic Story Fields ...', \"Teaser Life Life Life Life Life Life Life Life Life Life Half Life Life is the same as the film's look at some miracles\", 'Tiruma Kisses Vanni Government', '... Fantastic Preview, congratulations to the film on behalf of the Dindigul District,', 'Make sure to come to politics ... Rajini .... It was 1996 ... 🤣🤣🤣', \"Let's look at the picture and let's see the picture come in this film.But I have confidence in Mishkin\", 'The PCR, the disgruntled prevention law is very wrong and its impact is that I am.', 'The Panchi Land of Arsenal and Danda Katakan Kadanam it', 'The caste ???Social film ???This Daurupathi looked at full found found', 'The soil and grown woman who lived in the mantric waving, congratulate the film to win this film on behalf of our calm Penimar community', 'We truly convinced Brtties bought freedom and giving the political commodity', '0:29 The country is only the Indian political system law.', 'Congratulations to give a quality of quality to see with the brother family', \"DMK's Thai Energy DMK's Thai Entries Kori DMK's Thai Scheme Dhazration .......\", \"What is Seeman's brother's laughter coffee ..\", 'See See Sepa Cancup Picture', 'Congratulations on behalf of the Youth Association of Ramanathapuram Vishwarama', 'This movie is not the story of this film is not the story of the caste', 'Congratulations to success on behalf of Naidu Nayak', 'Tamils in the ethnic group has strengthened the claim that he had a tragedy.', 'Congratulations to them, director to win the picture giant.', 'And in The End ... I did not give the builder automatically Worses Ra Dai (About thalaivar on TV Screen)', 'We have purchased all that struggle ... Everyone who has been angry with these days is that it is a fight in the struggle', 'Seeing this drierara o 5 times', 'Congratulations to Vanni Kula Saint on behalf of the film .......', 'Director Mohan thank them ...... Congratulations to win this epiomy ... Congratulations on behalf of the Vanny ...', \"Trailer Full AH What'S APP STATUS DIALOGUE THAAN ... do not belong to\", 'Besides the same similar fake media (except for news channels - Win TV).', 'Having it took the highest class of the movie it is riot', 'Tun Tun Anti Kku Lati Mommy', 'Falls - Everything is true - Naya Nana Arun Prabu Things', 'Whether the nathan is donated, the cinema and some politicians trigger cold and warm up ..', 'Dalit People: Dalit People Navidi People still respect themselves. Have your mind. This follower of the Friends are shameless for friends.', 'Congrats on behalf of the Vanniors ........ must protect women', \"It is not the picture, women's lesson, the lesson, congratulate the film\", 'Congratulations on behalf of Tamil Nadu Tamil Nadu', 'Berambalur District Congratulations to Success on behalf of the clan', 'Bharathan Wiwetam', 'Yuvan Shankar Raja BGM Vera Level', 'Kurima Boys to the Boys ... Congratulations to win the movie on behalf of the Arcot Madrian Society', 'Congratulations on behalf of Arore Konguer', 'Congratulations on behalf of Madurai Mullam.Trailer specialty ...', 'Struggling to fight the situation to fight', 'Trailer is a little bit of understanding something', 'Footstage', 'The rear of the soil is the first thing that will cut his hand in the hands of the mouth verses..', 'Tirunelveli ....... Congratulations to win the film on behalf of the Nadar Community people ........', 'You have a little bit of the dirt Bobba Anna (Anti)', \"Let's be the soil of the earth and we will cut the hand and the hand of the hands of the Anta 50 Ruba Vadukkadu,\", 'Hand-painted to comment Hand Kong Countdown Coimbatore This movie The 5 Mau Puppy is the right cm 5 PM', 'Congratulations on behalf of Kanyakumari Hindu Nadar society, we will cut the hand of the soil', 'All the fake fighters lifted the flag and spoke of the bunning out of the Bunning Picture of the Bunning Picture of the Bunning Picture to the Best Hope More Films Come Up', 'Dogs that make women misuse of women are condemned.This can not be said that this is only a caste (il: Pollachi incident).Congratulations to succeed in such images to make good awareness of the caste.', 'Congratulations to see the film victory on behalf of the Tanjore Havar race', 'What to say, Telled Sir ... Coffee ..', 'Salidamalajala Chinnasal Fisherman.', 'We can not have more than this', 'Heart goddess Mr.Congratulations to Surya Surya only after Kamal Hassan', 'Remember that someone who is not in the absence of the next one who uses music ...', 'This film is the slowdown of all the escapes of saying', 'Justice Trailer Congratulations Anna', 'Congratulations on behalf of the South District', \"Ehh ... Hero Black Glass Putting Knight ... It's Myxkin Picture ....\", 'Congratulations on behalf of Cuddalore Vanny ... Trailer hysteria', 'Theater love is the worst thing.Nobody involved in Pollachi Coses are not Dalit.The curse of India', 'Is the farmer suicide Is not the cause of debt?Will the golden run away, and suicide?', 'Congratulations on behalf of the Hindu Devilla race is the story of my ethnicity but some changes in it.Did you make changes without changing my relationship with my relationship vanny (school)', 'The trouble in the cinematic society is only a society in the community and the social degeneration of the social degenerates is not the director of the society in the society and the director of the society is not the director of the demolition and the pursuing of the film The director of the above was the director of the director of the director Mohan Gee only they were. Mohan G. You are worried about anything. We will be.', 'Adei Approaches. Ilayaraja Pethavanai Fur Elise A Coffee Paint DESCRIPTION LIGHT BOOTHORY DRIVER MISSIC MISSIN. FURL ALL CARDON, TV show, pictures Duni A Wadha Coffee Falling', 'Congratulations on behalf of the total disgrace', 'Surya Sir Mehera Challenge Gautham Karthik Kruops Floodhore', 'Politics.', 'If you come to the blood, if we come to us Tomato Cathiah .. We will take the caste. Let us see this world here. We started starting now. It will be the only one to continue and disconnect .. Dindigul District, Ostricity Circle Konguworthy Congratulations on behalf of the Countdowns and Congratulations.', \"Taviruwalwalker's school school\", 'What is it in which the Ranjith does not take others when the Dalit takes the political speaker?', 'The courage of the courage of this model to take this model is the courage to achieve this story and the best wishes to win the film', 'Everyone who has taken the triumph and the camera is the Caste Ruth.Theft Dravidian is no longer for the sweetheart', 'Dislike Everything is the PCR law not only like the theater love Group', 'Congratulations to win the film on behalf of the community', \"All Tamil relationships to see ... Congratulations to the film on behalf of the Tamil people ..... They say that it should be bigger .... That idea is a little clarity ..... A request ..... Do not fake this model for this model ... That's the cause of the film .....\", 'Picture that stimulates caste fathers.Will be banned soon', 'Congratulations to the film silver festival on behalf of Yadavi clan', 'Bankulampur (Wardraphy, Moong, Snap) Congratulations on behalf of the People', 'It is like a movie expected for many days', 'Draupadi trailer is not flammable of the traffic or the camel.', \"Congratulations to Surya's work -2 (NGK) to win .........\", 'Congratulations to the film on behalf of the Kulaula Wardrobe', 'The picture taken by casting attitudes will support this indirectly supporting the caste.', 'It is the movie that gives the right slowdown in place where playing drama is', 'Brother Mohanji to congratulate them to win the film', 'Any castorster is like this, such as Maintain (in the middle of the platform)', 'Skinal Gowbar supports the film to win the film.', '1) People who have provoked the cynicism of the people of the People-BjB 2)', 'Leader ............ The caste educational system is the rest ... Government work for education ... What is less score than the high score The hysteria is indirectly triggered .....', 'A father is not only political to saying to his child is the political ...', 'Congratulations on behalf of the Veteran Vanny Association', 'Congratulations on behalf of Heroes to win the film', 'Congratulations on behalf of Vedaranyam Satrila', 'Congratulations to win this film for everyone who leaves the disease and leaves the disease ... Vijay fans', 'Teacher Ost Magic', 'My mind was in my mind and the mistake only tells us that we are losing the girl and telling anyone to say that', 'Thunder, lightning, fire, surve ---- this tongue is the same', 'SUPER Entha Padathuku Yalarum MA Poganum Winning Greetings', 'The shooter of the trailer is the only half of the film', '1:33 Like so Miracles Ahah, it can only be Suriya', \"What's idle this race is this ethnicity!Nama folks are the first human race !!Satisfaction with the caste of the casteSociety is a picture of him to look at the film!Happy Greetings to win the picture!\", 'Da Da Da', 'Everythers and he is the deity of the temple', 'The film tells the truth to the world.', 'Opapa..', 'A caste in Tamil Nadu and welcomes the film', 'The film that happens in the community is a picture of the film.', \"23. A good movie after a good movie is good awareness for Thai father's father\", 'What is this?Drama?Do not have a short film?🤔', 'Congratulations to succeed on behalf of our apartments in the way of shiva.Devidia Fasting Meeting Meeting', 'Dialogue Dialog ?? ....', 'Congratulations to Success on behalf of the Trevory', 'Congratulations on behalf of Pananady', '# Draupati Chathi Managing', 'The Mass Dialogue is the struggle of the struggle to struggle']\n"
          ],
          "name": "stdout"
        }
      ]
    },
    {
      "cell_type": "code",
      "metadata": {
        "id": "Lvh9sklT_tbm"
      },
      "source": [
        "# Start translation again from 2370"
      ],
      "execution_count": null,
      "outputs": []
    },
    {
      "cell_type": "code",
      "metadata": {
        "colab": {
          "base_uri": "https://localhost:8080/",
          "height": 320
        },
        "id": "Zks_Fyjvs7C0",
        "outputId": "c9eaa056-9ae5-4923-f1e1-e7e811f725f7"
      },
      "source": [
        "new_df = pd.DataFrame.from_dict(dict_)\n",
        "#df = df.append(new_df,ignore_index=True)"
      ],
      "execution_count": null,
      "outputs": [
        {
          "output_type": "error",
          "ename": "ValueError",
          "evalue": "ignored",
          "traceback": [
            "\u001b[0;31m---------------------------------------------------------------------------\u001b[0m",
            "\u001b[0;31mValueError\u001b[0m                                Traceback (most recent call last)",
            "\u001b[0;32m<ipython-input-26-fa71e5a71fcd>\u001b[0m in \u001b[0;36m<module>\u001b[0;34m()\u001b[0m\n\u001b[0;32m----> 1\u001b[0;31m \u001b[0mnew_df\u001b[0m \u001b[0;34m=\u001b[0m \u001b[0mpd\u001b[0m\u001b[0;34m.\u001b[0m\u001b[0mDataFrame\u001b[0m\u001b[0;34m.\u001b[0m\u001b[0mfrom_dict\u001b[0m\u001b[0;34m(\u001b[0m\u001b[0mdict_\u001b[0m\u001b[0;34m)\u001b[0m\u001b[0;34m\u001b[0m\u001b[0;34m\u001b[0m\u001b[0m\n\u001b[0m\u001b[1;32m      2\u001b[0m \u001b[0;31m#df = df.append(new_df,ignore_index=True)\u001b[0m\u001b[0;34m\u001b[0m\u001b[0;34m\u001b[0m\u001b[0;34m\u001b[0m\u001b[0m\n",
            "\u001b[0;32m/usr/local/lib/python3.7/dist-packages/pandas/core/frame.py\u001b[0m in \u001b[0;36mfrom_dict\u001b[0;34m(cls, data, orient, dtype, columns)\u001b[0m\n\u001b[1;32m   1307\u001b[0m             \u001b[0;32mraise\u001b[0m \u001b[0mValueError\u001b[0m\u001b[0;34m(\u001b[0m\u001b[0;34m\"only recognize index or columns for orient\"\u001b[0m\u001b[0;34m)\u001b[0m\u001b[0;34m\u001b[0m\u001b[0;34m\u001b[0m\u001b[0m\n\u001b[1;32m   1308\u001b[0m \u001b[0;34m\u001b[0m\u001b[0m\n\u001b[0;32m-> 1309\u001b[0;31m         \u001b[0;32mreturn\u001b[0m \u001b[0mcls\u001b[0m\u001b[0;34m(\u001b[0m\u001b[0mdata\u001b[0m\u001b[0;34m,\u001b[0m \u001b[0mindex\u001b[0m\u001b[0;34m=\u001b[0m\u001b[0mindex\u001b[0m\u001b[0;34m,\u001b[0m \u001b[0mcolumns\u001b[0m\u001b[0;34m=\u001b[0m\u001b[0mcolumns\u001b[0m\u001b[0;34m,\u001b[0m \u001b[0mdtype\u001b[0m\u001b[0;34m=\u001b[0m\u001b[0mdtype\u001b[0m\u001b[0;34m)\u001b[0m\u001b[0;34m\u001b[0m\u001b[0;34m\u001b[0m\u001b[0m\n\u001b[0m\u001b[1;32m   1310\u001b[0m \u001b[0;34m\u001b[0m\u001b[0m\n\u001b[1;32m   1311\u001b[0m     def to_numpy(\n",
            "\u001b[0;32m/usr/local/lib/python3.7/dist-packages/pandas/core/frame.py\u001b[0m in \u001b[0;36m__init__\u001b[0;34m(self, data, index, columns, dtype, copy)\u001b[0m\n\u001b[1;32m    466\u001b[0m \u001b[0;34m\u001b[0m\u001b[0m\n\u001b[1;32m    467\u001b[0m         \u001b[0;32melif\u001b[0m \u001b[0misinstance\u001b[0m\u001b[0;34m(\u001b[0m\u001b[0mdata\u001b[0m\u001b[0;34m,\u001b[0m \u001b[0mdict\u001b[0m\u001b[0;34m)\u001b[0m\u001b[0;34m:\u001b[0m\u001b[0;34m\u001b[0m\u001b[0;34m\u001b[0m\u001b[0m\n\u001b[0;32m--> 468\u001b[0;31m             \u001b[0mmgr\u001b[0m \u001b[0;34m=\u001b[0m \u001b[0minit_dict\u001b[0m\u001b[0;34m(\u001b[0m\u001b[0mdata\u001b[0m\u001b[0;34m,\u001b[0m \u001b[0mindex\u001b[0m\u001b[0;34m,\u001b[0m \u001b[0mcolumns\u001b[0m\u001b[0;34m,\u001b[0m \u001b[0mdtype\u001b[0m\u001b[0;34m=\u001b[0m\u001b[0mdtype\u001b[0m\u001b[0;34m)\u001b[0m\u001b[0;34m\u001b[0m\u001b[0;34m\u001b[0m\u001b[0m\n\u001b[0m\u001b[1;32m    469\u001b[0m         \u001b[0;32melif\u001b[0m \u001b[0misinstance\u001b[0m\u001b[0;34m(\u001b[0m\u001b[0mdata\u001b[0m\u001b[0;34m,\u001b[0m \u001b[0mma\u001b[0m\u001b[0;34m.\u001b[0m\u001b[0mMaskedArray\u001b[0m\u001b[0;34m)\u001b[0m\u001b[0;34m:\u001b[0m\u001b[0;34m\u001b[0m\u001b[0;34m\u001b[0m\u001b[0m\n\u001b[1;32m    470\u001b[0m             \u001b[0;32mimport\u001b[0m \u001b[0mnumpy\u001b[0m\u001b[0;34m.\u001b[0m\u001b[0mma\u001b[0m\u001b[0;34m.\u001b[0m\u001b[0mmrecords\u001b[0m \u001b[0;32mas\u001b[0m \u001b[0mmrecords\u001b[0m\u001b[0;34m\u001b[0m\u001b[0;34m\u001b[0m\u001b[0m\n",
            "\u001b[0;32m/usr/local/lib/python3.7/dist-packages/pandas/core/internals/construction.py\u001b[0m in \u001b[0;36minit_dict\u001b[0;34m(data, index, columns, dtype)\u001b[0m\n\u001b[1;32m    281\u001b[0m             \u001b[0marr\u001b[0m \u001b[0;32mif\u001b[0m \u001b[0;32mnot\u001b[0m \u001b[0mis_datetime64tz_dtype\u001b[0m\u001b[0;34m(\u001b[0m\u001b[0marr\u001b[0m\u001b[0;34m)\u001b[0m \u001b[0;32melse\u001b[0m \u001b[0marr\u001b[0m\u001b[0;34m.\u001b[0m\u001b[0mcopy\u001b[0m\u001b[0;34m(\u001b[0m\u001b[0;34m)\u001b[0m \u001b[0;32mfor\u001b[0m \u001b[0marr\u001b[0m \u001b[0;32min\u001b[0m \u001b[0marrays\u001b[0m\u001b[0;34m\u001b[0m\u001b[0;34m\u001b[0m\u001b[0m\n\u001b[1;32m    282\u001b[0m         ]\n\u001b[0;32m--> 283\u001b[0;31m     \u001b[0;32mreturn\u001b[0m \u001b[0marrays_to_mgr\u001b[0m\u001b[0;34m(\u001b[0m\u001b[0marrays\u001b[0m\u001b[0;34m,\u001b[0m \u001b[0mdata_names\u001b[0m\u001b[0;34m,\u001b[0m \u001b[0mindex\u001b[0m\u001b[0;34m,\u001b[0m \u001b[0mcolumns\u001b[0m\u001b[0;34m,\u001b[0m \u001b[0mdtype\u001b[0m\u001b[0;34m=\u001b[0m\u001b[0mdtype\u001b[0m\u001b[0;34m)\u001b[0m\u001b[0;34m\u001b[0m\u001b[0;34m\u001b[0m\u001b[0m\n\u001b[0m\u001b[1;32m    284\u001b[0m \u001b[0;34m\u001b[0m\u001b[0m\n\u001b[1;32m    285\u001b[0m \u001b[0;34m\u001b[0m\u001b[0m\n",
            "\u001b[0;32m/usr/local/lib/python3.7/dist-packages/pandas/core/internals/construction.py\u001b[0m in \u001b[0;36marrays_to_mgr\u001b[0;34m(arrays, arr_names, index, columns, dtype, verify_integrity)\u001b[0m\n\u001b[1;32m     76\u001b[0m         \u001b[0;31m# figure out the index, if necessary\u001b[0m\u001b[0;34m\u001b[0m\u001b[0;34m\u001b[0m\u001b[0;34m\u001b[0m\u001b[0m\n\u001b[1;32m     77\u001b[0m         \u001b[0;32mif\u001b[0m \u001b[0mindex\u001b[0m \u001b[0;32mis\u001b[0m \u001b[0;32mNone\u001b[0m\u001b[0;34m:\u001b[0m\u001b[0;34m\u001b[0m\u001b[0;34m\u001b[0m\u001b[0m\n\u001b[0;32m---> 78\u001b[0;31m             \u001b[0mindex\u001b[0m \u001b[0;34m=\u001b[0m \u001b[0mextract_index\u001b[0m\u001b[0;34m(\u001b[0m\u001b[0marrays\u001b[0m\u001b[0;34m)\u001b[0m\u001b[0;34m\u001b[0m\u001b[0;34m\u001b[0m\u001b[0m\n\u001b[0m\u001b[1;32m     79\u001b[0m         \u001b[0;32melse\u001b[0m\u001b[0;34m:\u001b[0m\u001b[0;34m\u001b[0m\u001b[0;34m\u001b[0m\u001b[0m\n\u001b[1;32m     80\u001b[0m             \u001b[0mindex\u001b[0m \u001b[0;34m=\u001b[0m \u001b[0mensure_index\u001b[0m\u001b[0;34m(\u001b[0m\u001b[0mindex\u001b[0m\u001b[0;34m)\u001b[0m\u001b[0;34m\u001b[0m\u001b[0;34m\u001b[0m\u001b[0m\n",
            "\u001b[0;32m/usr/local/lib/python3.7/dist-packages/pandas/core/internals/construction.py\u001b[0m in \u001b[0;36mextract_index\u001b[0;34m(data)\u001b[0m\n\u001b[1;32m    395\u001b[0m             \u001b[0mlengths\u001b[0m \u001b[0;34m=\u001b[0m \u001b[0mlist\u001b[0m\u001b[0;34m(\u001b[0m\u001b[0mset\u001b[0m\u001b[0;34m(\u001b[0m\u001b[0mraw_lengths\u001b[0m\u001b[0;34m)\u001b[0m\u001b[0;34m)\u001b[0m\u001b[0;34m\u001b[0m\u001b[0;34m\u001b[0m\u001b[0m\n\u001b[1;32m    396\u001b[0m             \u001b[0;32mif\u001b[0m \u001b[0mlen\u001b[0m\u001b[0;34m(\u001b[0m\u001b[0mlengths\u001b[0m\u001b[0;34m)\u001b[0m \u001b[0;34m>\u001b[0m \u001b[0;36m1\u001b[0m\u001b[0;34m:\u001b[0m\u001b[0;34m\u001b[0m\u001b[0;34m\u001b[0m\u001b[0m\n\u001b[0;32m--> 397\u001b[0;31m                 \u001b[0;32mraise\u001b[0m \u001b[0mValueError\u001b[0m\u001b[0;34m(\u001b[0m\u001b[0;34m\"arrays must all be same length\"\u001b[0m\u001b[0;34m)\u001b[0m\u001b[0;34m\u001b[0m\u001b[0;34m\u001b[0m\u001b[0m\n\u001b[0m\u001b[1;32m    398\u001b[0m \u001b[0;34m\u001b[0m\u001b[0m\n\u001b[1;32m    399\u001b[0m             \u001b[0;32mif\u001b[0m \u001b[0mhave_dicts\u001b[0m\u001b[0;34m:\u001b[0m\u001b[0;34m\u001b[0m\u001b[0;34m\u001b[0m\u001b[0m\n",
            "\u001b[0;31mValueError\u001b[0m: arrays must all be same length"
          ]
        }
      ]
    },
    {
      "cell_type": "markdown",
      "metadata": {
        "id": "p4i__zoBAZpG"
      },
      "source": [
        "# Create Embeddings Dictionary\n",
        "### 1. Find all unique emojis in the dataset\n",
        "### 2. Get embeddings for the emojis\n",
        "### 3. Convert emojis to Embeddings and replace in senteces after embeddings."
      ]
    },
    {
      "cell_type": "code",
      "metadata": {
        "colab": {
          "base_uri": "https://localhost:8080/"
        },
        "id": "ksTUuAjc9N7_",
        "outputId": "5dc642e8-6c02-4e3a-d35a-4699b5455c8d"
      },
      "source": [
        "!pip install emojis"
      ],
      "execution_count": 5,
      "outputs": [
        {
          "output_type": "stream",
          "text": [
            "Collecting emojis\n",
            "  Downloading https://files.pythonhosted.org/packages/2e/94/61025e53488acd95b49862ec854e05b036f92fe9d0e512ca551a5a8b03d6/emojis-0.6.0-py3-none-any.whl\n",
            "Installing collected packages: emojis\n",
            "Successfully installed emojis-0.6.0\n"
          ],
          "name": "stdout"
        }
      ]
    },
    {
      "cell_type": "code",
      "metadata": {
        "id": "U3W7YVuM9JU5",
        "colab": {
          "base_uri": "https://localhost:8080/",
          "height": 229
        },
        "outputId": "af740f47-ba92-47e3-e378-ecabcaddc001"
      },
      "source": [
        "# Check emojis in each sentence, if present, extract out.\n",
        "import emojis\n",
        "\n",
        "emoji_list = []\n",
        "\n",
        "for text in df['text']:\n",
        "\n",
        "  set_ = emojis.get(text)\n",
        "  \n",
        "  if len(set_) != 0:\n",
        "    emoji_list.append(list(set_))"
      ],
      "execution_count": 6,
      "outputs": [
        {
          "output_type": "error",
          "ename": "NameError",
          "evalue": "ignored",
          "traceback": [
            "\u001b[0;31m---------------------------------------------------------------------------\u001b[0m",
            "\u001b[0;31mNameError\u001b[0m                                 Traceback (most recent call last)",
            "\u001b[0;32m<ipython-input-6-6b54c03fc609>\u001b[0m in \u001b[0;36m<module>\u001b[0;34m()\u001b[0m\n\u001b[1;32m      4\u001b[0m \u001b[0memoji_list\u001b[0m \u001b[0;34m=\u001b[0m \u001b[0;34m[\u001b[0m\u001b[0;34m]\u001b[0m\u001b[0;34m\u001b[0m\u001b[0;34m\u001b[0m\u001b[0m\n\u001b[1;32m      5\u001b[0m \u001b[0;34m\u001b[0m\u001b[0m\n\u001b[0;32m----> 6\u001b[0;31m \u001b[0;32mfor\u001b[0m \u001b[0mtext\u001b[0m \u001b[0;32min\u001b[0m \u001b[0mdf\u001b[0m\u001b[0;34m[\u001b[0m\u001b[0;34m'text'\u001b[0m\u001b[0;34m]\u001b[0m\u001b[0;34m:\u001b[0m\u001b[0;34m\u001b[0m\u001b[0;34m\u001b[0m\u001b[0m\n\u001b[0m\u001b[1;32m      7\u001b[0m \u001b[0;34m\u001b[0m\u001b[0m\n\u001b[1;32m      8\u001b[0m   \u001b[0mset_\u001b[0m \u001b[0;34m=\u001b[0m \u001b[0memojis\u001b[0m\u001b[0;34m.\u001b[0m\u001b[0mget\u001b[0m\u001b[0;34m(\u001b[0m\u001b[0mtext\u001b[0m\u001b[0;34m)\u001b[0m\u001b[0;34m\u001b[0m\u001b[0;34m\u001b[0m\u001b[0m\n",
            "\u001b[0;31mNameError\u001b[0m: name 'df' is not defined"
          ]
        }
      ]
    },
    {
      "cell_type": "code",
      "metadata": {
        "id": "U_s3JovM9bY4"
      },
      "source": [
        "# Create list of Unique Emojis\n",
        "unique_emojis = []\n",
        "\n",
        "for emoji in emoji_list:\n",
        "  \n",
        "  for emo in emoji:\n",
        "    \n",
        "    if emo not in unique_emojis:\n",
        "      unique_emojis.append(emo)"
      ],
      "execution_count": null,
      "outputs": []
    },
    {
      "cell_type": "code",
      "metadata": {
        "id": "44wEQY3i-8XQ"
      },
      "source": [
        "for emoji in unique_emojis:\n",
        "  try:\n",
        "    (e2v[emoji])\n",
        "  except:\n",
        "    KeyError\n",
        "    print(emoji)"
      ],
      "execution_count": null,
      "outputs": []
    },
    {
      "cell_type": "code",
      "metadata": {
        "id": "I4-StLOdO3qo"
      },
      "source": [
        "#@title\n",
        "# As a large amount of Emojis are not present in th pretrained emoji2vec data. Need to Find new Emoji Embeddings."
      ],
      "execution_count": null,
      "outputs": []
    },
    {
      "cell_type": "markdown",
      "metadata": {
        "id": "b5fOyWAAWlOz"
      },
      "source": [
        "# BERT_Multilingual_Embeddings"
      ]
    },
    {
      "cell_type": "code",
      "metadata": {
        "colab": {
          "base_uri": "https://localhost:8080/"
        },
        "id": "VnWDIfh6Wu2S",
        "outputId": "4cec1225-93bb-49b5-c76a-7febd725bf53"
      },
      "source": [
        "!pip install transformers"
      ],
      "execution_count": null,
      "outputs": [
        {
          "output_type": "stream",
          "text": [
            "Requirement already satisfied: transformers in /usr/local/lib/python3.7/dist-packages (4.7.0)\n",
            "Requirement already satisfied: filelock in /usr/local/lib/python3.7/dist-packages (from transformers) (3.0.12)\n",
            "Requirement already satisfied: pyyaml in /usr/local/lib/python3.7/dist-packages (from transformers) (3.13)\n",
            "Requirement already satisfied: requests in /usr/local/lib/python3.7/dist-packages (from transformers) (2.23.0)\n",
            "Requirement already satisfied: tqdm>=4.27 in /usr/local/lib/python3.7/dist-packages (from transformers) (4.41.1)\n",
            "Requirement already satisfied: tokenizers<0.11,>=0.10.1 in /usr/local/lib/python3.7/dist-packages (from transformers) (0.10.3)\n",
            "Requirement already satisfied: packaging in /usr/local/lib/python3.7/dist-packages (from transformers) (20.9)\n",
            "Requirement already satisfied: regex!=2019.12.17 in /usr/local/lib/python3.7/dist-packages (from transformers) (2019.12.20)\n",
            "Requirement already satisfied: sacremoses in /usr/local/lib/python3.7/dist-packages (from transformers) (0.0.45)\n",
            "Requirement already satisfied: importlib-metadata; python_version < \"3.8\" in /usr/local/lib/python3.7/dist-packages (from transformers) (4.5.0)\n",
            "Requirement already satisfied: numpy>=1.17 in /usr/local/lib/python3.7/dist-packages (from transformers) (1.19.5)\n",
            "Requirement already satisfied: huggingface-hub==0.0.8 in /usr/local/lib/python3.7/dist-packages (from transformers) (0.0.8)\n",
            "Requirement already satisfied: urllib3!=1.25.0,!=1.25.1,<1.26,>=1.21.1 in /usr/local/lib/python3.7/dist-packages (from requests->transformers) (1.24.3)\n",
            "Requirement already satisfied: chardet<4,>=3.0.2 in /usr/local/lib/python3.7/dist-packages (from requests->transformers) (3.0.4)\n",
            "Requirement already satisfied: certifi>=2017.4.17 in /usr/local/lib/python3.7/dist-packages (from requests->transformers) (2021.5.30)\n",
            "Requirement already satisfied: idna<3,>=2.5 in /usr/local/lib/python3.7/dist-packages (from requests->transformers) (2.10)\n",
            "Requirement already satisfied: pyparsing>=2.0.2 in /usr/local/lib/python3.7/dist-packages (from packaging->transformers) (2.4.7)\n",
            "Requirement already satisfied: click in /usr/local/lib/python3.7/dist-packages (from sacremoses->transformers) (7.1.2)\n",
            "Requirement already satisfied: joblib in /usr/local/lib/python3.7/dist-packages (from sacremoses->transformers) (1.0.1)\n",
            "Requirement already satisfied: six in /usr/local/lib/python3.7/dist-packages (from sacremoses->transformers) (1.15.0)\n",
            "Requirement already satisfied: zipp>=0.5 in /usr/local/lib/python3.7/dist-packages (from importlib-metadata; python_version < \"3.8\"->transformers) (3.4.1)\n",
            "Requirement already satisfied: typing-extensions>=3.6.4; python_version < \"3.8\" in /usr/local/lib/python3.7/dist-packages (from importlib-metadata; python_version < \"3.8\"->transformers) (3.7.4.3)\n"
          ],
          "name": "stdout"
        }
      ]
    },
    {
      "cell_type": "code",
      "metadata": {
        "id": "H-t4ou0hKaXi"
      },
      "source": [
        "import torch\n",
        "import torch.nn as nn\n",
        "import torch.nn.functional as F\n",
        "from torch.utils.data import Dataset, DataLoader\n",
        "\n",
        "from transformers import BertTokenizer, BertModel"
      ],
      "execution_count": null,
      "outputs": []
    },
    {
      "cell_type": "code",
      "metadata": {
        "id": "CNANSAFMWtV9"
      },
      "source": [
        "from sklearn.model_selection import train_test_split\n",
        "\n",
        "import pandas as pd"
      ],
      "execution_count": null,
      "outputs": []
    },
    {
      "cell_type": "code",
      "metadata": {
        "id": "S0pjTiI_W08R"
      },
      "source": [
        "df = pd.read_table(\"tamil_offensive_train.tsv\")\n",
        "\n",
        "train_df, test_df = train_test_split(df,test_size=0.2,random_state=32)"
      ],
      "execution_count": null,
      "outputs": []
    },
    {
      "cell_type": "code",
      "metadata": {
        "id": "y4aCdm5PW3B1"
      },
      "source": [
        "tokenizer = BertTokenizer.from_pretrained('bert-base-multilingual-uncased')"
      ],
      "execution_count": null,
      "outputs": []
    },
    {
      "cell_type": "code",
      "metadata": {
        "id": "a8NUXi-yXWTe"
      },
      "source": [
        "features =[]"
      ],
      "execution_count": null,
      "outputs": []
    },
    {
      "cell_type": "code",
      "metadata": {
        "colab": {
          "base_uri": "https://localhost:8080/"
        },
        "id": "edbIvf8OXXxS",
        "outputId": "1923d66b-6d25-47e7-ef32-ab1f4d8f6ca8"
      },
      "source": [
        "model = BertModel.from_pretrained(\"bert-base-multilingual-uncased\")"
      ],
      "execution_count": null,
      "outputs": [
        {
          "output_type": "stream",
          "text": [
            "Some weights of the model checkpoint at bert-base-multilingual-uncased were not used when initializing BertModel: ['cls.seq_relationship.bias', 'cls.predictions.decoder.weight', 'cls.predictions.transform.LayerNorm.weight', 'cls.seq_relationship.weight', 'cls.predictions.transform.dense.weight', 'cls.predictions.transform.dense.bias', 'cls.predictions.bias', 'cls.predictions.transform.LayerNorm.bias']\n",
            "- This IS expected if you are initializing BertModel from the checkpoint of a model trained on another task or with another architecture (e.g. initializing a BertForSequenceClassification model from a BertForPreTraining model).\n",
            "- This IS NOT expected if you are initializing BertModel from the checkpoint of a model that you expect to be exactly identical (initializing a BertForSequenceClassification model from a BertForSequenceClassification model).\n"
          ],
          "name": "stderr"
        }
      ]
    },
    {
      "cell_type": "code",
      "metadata": {
        "colab": {
          "base_uri": "https://localhost:8080/"
        },
        "id": "QggraEXSXefO",
        "outputId": "d42d3b9c-6cf1-410a-8513-468c18a9b119"
      },
      "source": [
        "train_texts = train_df['text'].values.tolist()\n",
        "train_targets = train_df['category'].values.tolist()\n",
        "train_targets = [ 1  if t == 'OFF' else 0 for t in train_targets]\n",
        "\n",
        "train_df['num_words'] = train_df['text'].str.split().apply(len)\n",
        "\n",
        "train_df.num_words.quantile(0.98)"
      ],
      "execution_count": null,
      "outputs": [
        {
          "output_type": "stream",
          "text": [
            "/usr/local/lib/python3.7/dist-packages/ipykernel_launcher.py:5: SettingWithCopyWarning: \n",
            "A value is trying to be set on a copy of a slice from a DataFrame.\n",
            "Try using .loc[row_indexer,col_indexer] = value instead\n",
            "\n",
            "See the caveats in the documentation: https://pandas.pydata.org/pandas-docs/stable/user_guide/indexing.html#returning-a-view-versus-a-copy\n",
            "  \"\"\"\n"
          ],
          "name": "stderr"
        },
        {
          "output_type": "execute_result",
          "data": {
            "text/plain": [
              "52.0"
            ]
          },
          "metadata": {
            "tags": []
          },
          "execution_count": 9
        }
      ]
    },
    {
      "cell_type": "code",
      "metadata": {
        "id": "lhFNGXdrXgfA"
      },
      "source": [
        "sample_text = train_texts[:64]\n",
        "#need to run this in batches to extract feature for entire dataset\n",
        "t = tokenizer(sample_text,max_length = 128,\n",
        "                                padding = \"max_length\",\n",
        "                                truncation = True)"
      ],
      "execution_count": null,
      "outputs": []
    },
    {
      "cell_type": "code",
      "metadata": {
        "id": "gYZJ-jvtYXKj"
      },
      "source": [
        "input_ids = torch.tensor(t['input_ids'])\n",
        "attention_masks = torch.tensor(t['attention_mask'])"
      ],
      "execution_count": null,
      "outputs": []
    },
    {
      "cell_type": "code",
      "metadata": {
        "id": "yjtZ_LYPYbhT"
      },
      "source": [
        "with torch.no_grad():\n",
        "    lhs,pooler_output = model(input_ids,attention_masks,return_dict=False)"
      ],
      "execution_count": null,
      "outputs": []
    },
    {
      "cell_type": "code",
      "metadata": {
        "colab": {
          "base_uri": "https://localhost:8080/"
        },
        "id": "15f2QSuraez2",
        "outputId": "26f01e24-f8c9-4e3a-a36c-11f9eb6e6da7"
      },
      "source": [
        "print(sample_text[0])"
      ],
      "execution_count": null,
      "outputs": [
        {
          "output_type": "stream",
          "text": [
            "நாயுடு இன மக்கள் சார்பாக இப்படம் வெற்றி பெற வாழ்த்துக்கள்\n"
          ],
          "name": "stdout"
        }
      ]
    },
    {
      "cell_type": "code",
      "metadata": {
        "colab": {
          "base_uri": "https://localhost:8080/"
        },
        "id": "BRupSFDvaa4c",
        "outputId": "81de61e8-51d2-4815-ee21-8c1d04f1308b"
      },
      "source": [
        "pooler_output"
      ],
      "execution_count": null,
      "outputs": [
        {
          "output_type": "execute_result",
          "data": {
            "text/plain": [
              "tensor([[ 0.2038,  0.0239,  0.1689,  ...,  0.0469, -0.1777, -0.1806],\n",
              "        [ 0.1562,  0.0432,  0.1683,  ...,  0.0359, -0.1625, -0.1776],\n",
              "        [-0.0627,  0.2241,  0.0246,  ..., -0.0363, -0.1432, -0.0345],\n",
              "        ...,\n",
              "        [ 0.0320,  0.1387,  0.0961,  ...,  0.0311, -0.1818, -0.1429],\n",
              "        [ 0.2781,  0.0265,  0.2385,  ...,  0.0797, -0.1620, -0.2133],\n",
              "        [ 0.1049,  0.0713,  0.1367,  ...,  0.0635, -0.2036, -0.1711]])"
            ]
          },
          "metadata": {
            "tags": []
          },
          "execution_count": 25
        }
      ]
    }
  ]
}